{
 "cells": [
  {
   "cell_type": "markdown",
   "metadata": {},
   "source": [
    "To open notebook in Colab please click below:\n",
    "\n",
    "<a href=\"https://colab.research.google.com/github/bwolfson2/foster_2020/blob/master/Homeworks/HW%201.ipynb\" target=\"_parent\"> <img src=\"https://colab.research.google.com/assets/colab-badge.svg\" alt=\"Open In Colab\" /> </a>'"
   ]
  },
  {
   "cell_type": "markdown",
   "metadata": {
    "scrolled": true
   },
   "source": [
    "If opening in colab run this cell\n",
    "\n",
    "!git clone https://github.com/bwolfson2/foster_2021\n",
    "\n",
    "%cd foster_2021/Homeworks/\n",
    "\n",
    "**I forked it from github and keep track of upstream**\n"
   ]
  },
  {
   "cell_type": "markdown",
   "metadata": {},
   "source": [
    "# Homework 1"
   ]
  },
  {
   "cell_type": "markdown",
   "metadata": {},
   "source": [
    "## Part 2: Graduate admissions case study"
   ]
  },
  {
   "cell_type": "markdown",
   "metadata": {},
   "source": [
    "You've been hired by Hudson University as a data analyst for the Graduate Admissions Department. Since the admission process is long and tedious, it often results in a bottleneck for other subsequent tasks, such as planning the necessary resources to accommodate the admitted students (e.g. housing, classes, etc). You have been asked to build a model to predict which students will be admitted using the following historical data: \n",
    "\n",
    "1. Serial No. (serves as unique identifier)\n",
    "2. GRE Scores (out of 340) \n",
    "3. TOEFL Scores (out of 120) \n",
    "4. University Rating (out of 5).\n",
    "5. Statement of Purpose Strength (out of 5)\n",
    "6. Letter of Recommendation Strength (out of 5) \n",
    "7. Undergraduate GPA (out of 10) \n",
    "8. Research Experience (either 0 or 1) \n",
    "9. Chance of Admit (ranging from 0 to 1)\n",
    "\n",
    "The chances of admit for the applicants in your data were assessed by an expert. Given that this list of application attributes would be available early in the admission process for future applications (except for Chance of Admit), a model predicting chances of admit would allow planning tasks to start earlier."
   ]
  },
  {
   "cell_type": "code",
   "execution_count": 1,
   "metadata": {},
   "outputs": [],
   "source": [
    "# Some libraries you may need\n",
    "import pandas as pd\n",
    "import numpy as np\n",
    "import matplotlib.pyplot as plt\n",
    "import seaborn as sns\n",
    "\n",
    "# Trick to display plots inline with the rest of your notebook.\n",
    "%matplotlib inline"
   ]
  },
  {
   "cell_type": "code",
   "execution_count": 2,
   "metadata": {},
   "outputs": [],
   "source": [
    "import warnings\n",
    "warnings.filterwarnings('ignore')"
   ]
  },
  {
   "cell_type": "markdown",
   "metadata": {},
   "source": [
    "** 1. Load the homework data into a pandas data frame. Print the number of rows and columns in the dataset. **"
   ]
  },
  {
   "cell_type": "code",
   "execution_count": 3,
   "metadata": {
    "scrolled": true
   },
   "outputs": [
    {
     "data": {
      "text/plain": [
       "(500, 9)"
      ]
     },
     "execution_count": 3,
     "metadata": {},
     "output_type": "execute_result"
    }
   ],
   "source": [
    "data_path = \"./data/data-hw1.csv\"\n",
    "df = pd.read_csv(data_path)\n",
    "df.shape"
   ]
  },
  {
   "cell_type": "markdown",
   "metadata": {},
   "source": [
    "**509 rows and 9 columns**"
   ]
  },
  {
   "cell_type": "markdown",
   "metadata": {},
   "source": [
    "(Optional) Rename the columns in the dataframe to manipulate the data more easily. No extra points for this, but it might make your life easier."
   ]
  },
  {
   "cell_type": "code",
   "execution_count": 4,
   "metadata": {},
   "outputs": [
    {
     "data": {
      "text/html": [
       "<div>\n",
       "<style scoped>\n",
       "    .dataframe tbody tr th:only-of-type {\n",
       "        vertical-align: middle;\n",
       "    }\n",
       "\n",
       "    .dataframe tbody tr th {\n",
       "        vertical-align: top;\n",
       "    }\n",
       "\n",
       "    .dataframe thead th {\n",
       "        text-align: right;\n",
       "    }\n",
       "</style>\n",
       "<table border=\"1\" class=\"dataframe\">\n",
       "  <thead>\n",
       "    <tr style=\"text-align: right;\">\n",
       "      <th></th>\n",
       "      <th>Serial No.</th>\n",
       "      <th>GRE Score</th>\n",
       "      <th>TOEFL Score</th>\n",
       "      <th>University Rating</th>\n",
       "      <th>SOP</th>\n",
       "      <th>LOR</th>\n",
       "      <th>CGPA</th>\n",
       "      <th>Research</th>\n",
       "      <th>Chance of Admit</th>\n",
       "    </tr>\n",
       "  </thead>\n",
       "  <tbody>\n",
       "    <tr>\n",
       "      <th>0</th>\n",
       "      <td>1</td>\n",
       "      <td>337</td>\n",
       "      <td>118</td>\n",
       "      <td>4</td>\n",
       "      <td>4.5</td>\n",
       "      <td>4.5</td>\n",
       "      <td>9.65</td>\n",
       "      <td>1</td>\n",
       "      <td>0.92</td>\n",
       "    </tr>\n",
       "    <tr>\n",
       "      <th>1</th>\n",
       "      <td>2</td>\n",
       "      <td>324</td>\n",
       "      <td>107</td>\n",
       "      <td>4</td>\n",
       "      <td>4.0</td>\n",
       "      <td>4.5</td>\n",
       "      <td>8.87</td>\n",
       "      <td>1</td>\n",
       "      <td>0.76</td>\n",
       "    </tr>\n",
       "    <tr>\n",
       "      <th>2</th>\n",
       "      <td>3</td>\n",
       "      <td>316</td>\n",
       "      <td>104</td>\n",
       "      <td>3</td>\n",
       "      <td>3.0</td>\n",
       "      <td>3.5</td>\n",
       "      <td>8.00</td>\n",
       "      <td>1</td>\n",
       "      <td>0.72</td>\n",
       "    </tr>\n",
       "    <tr>\n",
       "      <th>3</th>\n",
       "      <td>4</td>\n",
       "      <td>322</td>\n",
       "      <td>110</td>\n",
       "      <td>3</td>\n",
       "      <td>3.5</td>\n",
       "      <td>2.5</td>\n",
       "      <td>8.67</td>\n",
       "      <td>1</td>\n",
       "      <td>0.80</td>\n",
       "    </tr>\n",
       "    <tr>\n",
       "      <th>4</th>\n",
       "      <td>5</td>\n",
       "      <td>314</td>\n",
       "      <td>103</td>\n",
       "      <td>2</td>\n",
       "      <td>2.0</td>\n",
       "      <td>3.0</td>\n",
       "      <td>8.21</td>\n",
       "      <td>0</td>\n",
       "      <td>0.65</td>\n",
       "    </tr>\n",
       "  </tbody>\n",
       "</table>\n",
       "</div>"
      ],
      "text/plain": [
       "   Serial No.  GRE Score  TOEFL Score  University Rating  SOP  LOR  CGPA  \\\n",
       "0           1        337          118                  4  4.5  4.5  9.65   \n",
       "1           2        324          107                  4  4.0  4.5  8.87   \n",
       "2           3        316          104                  3  3.0  3.5  8.00   \n",
       "3           4        322          110                  3  3.5  2.5  8.67   \n",
       "4           5        314          103                  2  2.0  3.0  8.21   \n",
       "\n",
       "   Research  Chance of Admit  \n",
       "0         1             0.92  \n",
       "1         1             0.76  \n",
       "2         1             0.72  \n",
       "3         1             0.80  \n",
       "4         0             0.65  "
      ]
     },
     "execution_count": 4,
     "metadata": {},
     "output_type": "execute_result"
    }
   ],
   "source": [
    "df.head()"
   ]
  },
  {
   "cell_type": "code",
   "execution_count": 5,
   "metadata": {},
   "outputs": [
    {
     "data": {
      "text/html": [
       "<div>\n",
       "<style scoped>\n",
       "    .dataframe tbody tr th:only-of-type {\n",
       "        vertical-align: middle;\n",
       "    }\n",
       "\n",
       "    .dataframe tbody tr th {\n",
       "        vertical-align: top;\n",
       "    }\n",
       "\n",
       "    .dataframe thead th {\n",
       "        text-align: right;\n",
       "    }\n",
       "</style>\n",
       "<table border=\"1\" class=\"dataframe\">\n",
       "  <thead>\n",
       "    <tr style=\"text-align: right;\">\n",
       "      <th></th>\n",
       "      <th>ID</th>\n",
       "      <th>GRE</th>\n",
       "      <th>TOEFL</th>\n",
       "      <th>Rating</th>\n",
       "      <th>SOP</th>\n",
       "      <th>LOR</th>\n",
       "      <th>CGPA</th>\n",
       "      <th>Research</th>\n",
       "      <th>Admit</th>\n",
       "    </tr>\n",
       "  </thead>\n",
       "  <tbody>\n",
       "    <tr>\n",
       "      <th>0</th>\n",
       "      <td>1</td>\n",
       "      <td>337</td>\n",
       "      <td>118</td>\n",
       "      <td>4</td>\n",
       "      <td>4.5</td>\n",
       "      <td>4.5</td>\n",
       "      <td>9.65</td>\n",
       "      <td>1</td>\n",
       "      <td>0.92</td>\n",
       "    </tr>\n",
       "    <tr>\n",
       "      <th>1</th>\n",
       "      <td>2</td>\n",
       "      <td>324</td>\n",
       "      <td>107</td>\n",
       "      <td>4</td>\n",
       "      <td>4.0</td>\n",
       "      <td>4.5</td>\n",
       "      <td>8.87</td>\n",
       "      <td>1</td>\n",
       "      <td>0.76</td>\n",
       "    </tr>\n",
       "    <tr>\n",
       "      <th>2</th>\n",
       "      <td>3</td>\n",
       "      <td>316</td>\n",
       "      <td>104</td>\n",
       "      <td>3</td>\n",
       "      <td>3.0</td>\n",
       "      <td>3.5</td>\n",
       "      <td>8.00</td>\n",
       "      <td>1</td>\n",
       "      <td>0.72</td>\n",
       "    </tr>\n",
       "    <tr>\n",
       "      <th>3</th>\n",
       "      <td>4</td>\n",
       "      <td>322</td>\n",
       "      <td>110</td>\n",
       "      <td>3</td>\n",
       "      <td>3.5</td>\n",
       "      <td>2.5</td>\n",
       "      <td>8.67</td>\n",
       "      <td>1</td>\n",
       "      <td>0.80</td>\n",
       "    </tr>\n",
       "    <tr>\n",
       "      <th>4</th>\n",
       "      <td>5</td>\n",
       "      <td>314</td>\n",
       "      <td>103</td>\n",
       "      <td>2</td>\n",
       "      <td>2.0</td>\n",
       "      <td>3.0</td>\n",
       "      <td>8.21</td>\n",
       "      <td>0</td>\n",
       "      <td>0.65</td>\n",
       "    </tr>\n",
       "  </tbody>\n",
       "</table>\n",
       "</div>"
      ],
      "text/plain": [
       "   ID  GRE  TOEFL  Rating  SOP  LOR  CGPA  Research  Admit\n",
       "0   1  337    118       4  4.5  4.5  9.65         1   0.92\n",
       "1   2  324    107       4  4.0  4.5  8.87         1   0.76\n",
       "2   3  316    104       3  3.0  3.5  8.00         1   0.72\n",
       "3   4  322    110       3  3.5  2.5  8.67         1   0.80\n",
       "4   5  314    103       2  2.0  3.0  8.21         0   0.65"
      ]
     },
     "execution_count": 5,
     "metadata": {},
     "output_type": "execute_result"
    }
   ],
   "source": [
    "# Put your (optional) answer here.\n",
    "\n",
    "# Or this if you know the order of the columns:\n",
    "df.columns = [\"ID\", \"GRE\", \"TOEFL\", \"Rating\", \"SOP\", \"LOR\", \"CGPA\", \"Research\", \"Admit\"]\n",
    "df.head()"
   ]
  },
  {
   "cell_type": "markdown",
   "metadata": {},
   "source": [
    "** 2. Show descriptive statistics for all columns. **"
   ]
  },
  {
   "cell_type": "code",
   "execution_count": 6,
   "metadata": {
    "scrolled": false
   },
   "outputs": [
    {
     "name": "stdout",
     "output_type": "stream",
     "text": [
      "<class 'pandas.core.frame.DataFrame'>\n",
      "RangeIndex: 500 entries, 0 to 499\n",
      "Data columns (total 9 columns):\n",
      " #   Column    Non-Null Count  Dtype  \n",
      "---  ------    --------------  -----  \n",
      " 0   ID        500 non-null    int64  \n",
      " 1   GRE       500 non-null    int64  \n",
      " 2   TOEFL     500 non-null    int64  \n",
      " 3   Rating    500 non-null    int64  \n",
      " 4   SOP       500 non-null    float64\n",
      " 5   LOR       500 non-null    float64\n",
      " 6   CGPA      500 non-null    float64\n",
      " 7   Research  500 non-null    int64  \n",
      " 8   Admit     500 non-null    float64\n",
      "dtypes: float64(4), int64(5)\n",
      "memory usage: 35.3 KB\n"
     ]
    }
   ],
   "source": [
    "df.info()"
   ]
  },
  {
   "cell_type": "markdown",
   "metadata": {},
   "source": [
    "**My findings:**\n",
    "\n",
    "* all numerical, no need to convert types\n",
    "\n",
    "* no null, clean data"
   ]
  },
  {
   "cell_type": "code",
   "execution_count": 7,
   "metadata": {},
   "outputs": [
    {
     "data": {
      "text/html": [
       "<div>\n",
       "<style scoped>\n",
       "    .dataframe tbody tr th:only-of-type {\n",
       "        vertical-align: middle;\n",
       "    }\n",
       "\n",
       "    .dataframe tbody tr th {\n",
       "        vertical-align: top;\n",
       "    }\n",
       "\n",
       "    .dataframe thead th {\n",
       "        text-align: right;\n",
       "    }\n",
       "</style>\n",
       "<table border=\"1\" class=\"dataframe\">\n",
       "  <thead>\n",
       "    <tr style=\"text-align: right;\">\n",
       "      <th></th>\n",
       "      <th>ID</th>\n",
       "      <th>GRE</th>\n",
       "      <th>TOEFL</th>\n",
       "      <th>Rating</th>\n",
       "      <th>SOP</th>\n",
       "      <th>LOR</th>\n",
       "      <th>CGPA</th>\n",
       "      <th>Research</th>\n",
       "      <th>Admit</th>\n",
       "    </tr>\n",
       "  </thead>\n",
       "  <tbody>\n",
       "    <tr>\n",
       "      <th>count</th>\n",
       "      <td>500.000000</td>\n",
       "      <td>500.000000</td>\n",
       "      <td>500.000000</td>\n",
       "      <td>500.000000</td>\n",
       "      <td>500.000000</td>\n",
       "      <td>500.00000</td>\n",
       "      <td>500.000000</td>\n",
       "      <td>500.000000</td>\n",
       "      <td>500.00000</td>\n",
       "    </tr>\n",
       "    <tr>\n",
       "      <th>mean</th>\n",
       "      <td>250.500000</td>\n",
       "      <td>316.472000</td>\n",
       "      <td>107.192000</td>\n",
       "      <td>3.114000</td>\n",
       "      <td>3.374000</td>\n",
       "      <td>3.48400</td>\n",
       "      <td>8.576440</td>\n",
       "      <td>0.560000</td>\n",
       "      <td>0.72174</td>\n",
       "    </tr>\n",
       "    <tr>\n",
       "      <th>std</th>\n",
       "      <td>144.481833</td>\n",
       "      <td>11.295148</td>\n",
       "      <td>6.081868</td>\n",
       "      <td>1.143512</td>\n",
       "      <td>0.991004</td>\n",
       "      <td>0.92545</td>\n",
       "      <td>0.604813</td>\n",
       "      <td>0.496884</td>\n",
       "      <td>0.14114</td>\n",
       "    </tr>\n",
       "    <tr>\n",
       "      <th>min</th>\n",
       "      <td>1.000000</td>\n",
       "      <td>290.000000</td>\n",
       "      <td>92.000000</td>\n",
       "      <td>1.000000</td>\n",
       "      <td>1.000000</td>\n",
       "      <td>1.00000</td>\n",
       "      <td>6.800000</td>\n",
       "      <td>0.000000</td>\n",
       "      <td>0.34000</td>\n",
       "    </tr>\n",
       "    <tr>\n",
       "      <th>25%</th>\n",
       "      <td>125.750000</td>\n",
       "      <td>308.000000</td>\n",
       "      <td>103.000000</td>\n",
       "      <td>2.000000</td>\n",
       "      <td>2.500000</td>\n",
       "      <td>3.00000</td>\n",
       "      <td>8.127500</td>\n",
       "      <td>0.000000</td>\n",
       "      <td>0.63000</td>\n",
       "    </tr>\n",
       "    <tr>\n",
       "      <th>50%</th>\n",
       "      <td>250.500000</td>\n",
       "      <td>317.000000</td>\n",
       "      <td>107.000000</td>\n",
       "      <td>3.000000</td>\n",
       "      <td>3.500000</td>\n",
       "      <td>3.50000</td>\n",
       "      <td>8.560000</td>\n",
       "      <td>1.000000</td>\n",
       "      <td>0.72000</td>\n",
       "    </tr>\n",
       "    <tr>\n",
       "      <th>75%</th>\n",
       "      <td>375.250000</td>\n",
       "      <td>325.000000</td>\n",
       "      <td>112.000000</td>\n",
       "      <td>4.000000</td>\n",
       "      <td>4.000000</td>\n",
       "      <td>4.00000</td>\n",
       "      <td>9.040000</td>\n",
       "      <td>1.000000</td>\n",
       "      <td>0.82000</td>\n",
       "    </tr>\n",
       "    <tr>\n",
       "      <th>max</th>\n",
       "      <td>500.000000</td>\n",
       "      <td>340.000000</td>\n",
       "      <td>120.000000</td>\n",
       "      <td>5.000000</td>\n",
       "      <td>5.000000</td>\n",
       "      <td>5.00000</td>\n",
       "      <td>9.920000</td>\n",
       "      <td>1.000000</td>\n",
       "      <td>0.97000</td>\n",
       "    </tr>\n",
       "  </tbody>\n",
       "</table>\n",
       "</div>"
      ],
      "text/plain": [
       "               ID         GRE       TOEFL      Rating         SOP        LOR  \\\n",
       "count  500.000000  500.000000  500.000000  500.000000  500.000000  500.00000   \n",
       "mean   250.500000  316.472000  107.192000    3.114000    3.374000    3.48400   \n",
       "std    144.481833   11.295148    6.081868    1.143512    0.991004    0.92545   \n",
       "min      1.000000  290.000000   92.000000    1.000000    1.000000    1.00000   \n",
       "25%    125.750000  308.000000  103.000000    2.000000    2.500000    3.00000   \n",
       "50%    250.500000  317.000000  107.000000    3.000000    3.500000    3.50000   \n",
       "75%    375.250000  325.000000  112.000000    4.000000    4.000000    4.00000   \n",
       "max    500.000000  340.000000  120.000000    5.000000    5.000000    5.00000   \n",
       "\n",
       "             CGPA    Research      Admit  \n",
       "count  500.000000  500.000000  500.00000  \n",
       "mean     8.576440    0.560000    0.72174  \n",
       "std      0.604813    0.496884    0.14114  \n",
       "min      6.800000    0.000000    0.34000  \n",
       "25%      8.127500    0.000000    0.63000  \n",
       "50%      8.560000    1.000000    0.72000  \n",
       "75%      9.040000    1.000000    0.82000  \n",
       "max      9.920000    1.000000    0.97000  "
      ]
     },
     "execution_count": 7,
     "metadata": {},
     "output_type": "execute_result"
    }
   ],
   "source": [
    "df.describe()"
   ]
  },
  {
   "cell_type": "markdown",
   "metadata": {},
   "source": [
    "(Optional 2) Drop the column \"Serial No\". Again, no extra points for this, but it might be helpful to visualize things later on."
   ]
  },
  {
   "cell_type": "code",
   "execution_count": 8,
   "metadata": {
    "scrolled": true
   },
   "outputs": [],
   "source": [
    "df = df.drop(columns = \"ID\")"
   ]
  },
  {
   "cell_type": "code",
   "execution_count": 9,
   "metadata": {},
   "outputs": [
    {
     "data": {
      "text/html": [
       "<div>\n",
       "<style scoped>\n",
       "    .dataframe tbody tr th:only-of-type {\n",
       "        vertical-align: middle;\n",
       "    }\n",
       "\n",
       "    .dataframe tbody tr th {\n",
       "        vertical-align: top;\n",
       "    }\n",
       "\n",
       "    .dataframe thead th {\n",
       "        text-align: right;\n",
       "    }\n",
       "</style>\n",
       "<table border=\"1\" class=\"dataframe\">\n",
       "  <thead>\n",
       "    <tr style=\"text-align: right;\">\n",
       "      <th></th>\n",
       "      <th>GRE</th>\n",
       "      <th>TOEFL</th>\n",
       "      <th>Rating</th>\n",
       "      <th>SOP</th>\n",
       "      <th>LOR</th>\n",
       "      <th>CGPA</th>\n",
       "      <th>Research</th>\n",
       "      <th>Admit</th>\n",
       "    </tr>\n",
       "  </thead>\n",
       "  <tbody>\n",
       "    <tr>\n",
       "      <th>0</th>\n",
       "      <td>337</td>\n",
       "      <td>118</td>\n",
       "      <td>4</td>\n",
       "      <td>4.5</td>\n",
       "      <td>4.5</td>\n",
       "      <td>9.65</td>\n",
       "      <td>1</td>\n",
       "      <td>0.92</td>\n",
       "    </tr>\n",
       "    <tr>\n",
       "      <th>1</th>\n",
       "      <td>324</td>\n",
       "      <td>107</td>\n",
       "      <td>4</td>\n",
       "      <td>4.0</td>\n",
       "      <td>4.5</td>\n",
       "      <td>8.87</td>\n",
       "      <td>1</td>\n",
       "      <td>0.76</td>\n",
       "    </tr>\n",
       "    <tr>\n",
       "      <th>2</th>\n",
       "      <td>316</td>\n",
       "      <td>104</td>\n",
       "      <td>3</td>\n",
       "      <td>3.0</td>\n",
       "      <td>3.5</td>\n",
       "      <td>8.00</td>\n",
       "      <td>1</td>\n",
       "      <td>0.72</td>\n",
       "    </tr>\n",
       "    <tr>\n",
       "      <th>3</th>\n",
       "      <td>322</td>\n",
       "      <td>110</td>\n",
       "      <td>3</td>\n",
       "      <td>3.5</td>\n",
       "      <td>2.5</td>\n",
       "      <td>8.67</td>\n",
       "      <td>1</td>\n",
       "      <td>0.80</td>\n",
       "    </tr>\n",
       "    <tr>\n",
       "      <th>4</th>\n",
       "      <td>314</td>\n",
       "      <td>103</td>\n",
       "      <td>2</td>\n",
       "      <td>2.0</td>\n",
       "      <td>3.0</td>\n",
       "      <td>8.21</td>\n",
       "      <td>0</td>\n",
       "      <td>0.65</td>\n",
       "    </tr>\n",
       "    <tr>\n",
       "      <th>...</th>\n",
       "      <td>...</td>\n",
       "      <td>...</td>\n",
       "      <td>...</td>\n",
       "      <td>...</td>\n",
       "      <td>...</td>\n",
       "      <td>...</td>\n",
       "      <td>...</td>\n",
       "      <td>...</td>\n",
       "    </tr>\n",
       "    <tr>\n",
       "      <th>495</th>\n",
       "      <td>332</td>\n",
       "      <td>108</td>\n",
       "      <td>5</td>\n",
       "      <td>4.5</td>\n",
       "      <td>4.0</td>\n",
       "      <td>9.02</td>\n",
       "      <td>1</td>\n",
       "      <td>0.87</td>\n",
       "    </tr>\n",
       "    <tr>\n",
       "      <th>496</th>\n",
       "      <td>337</td>\n",
       "      <td>117</td>\n",
       "      <td>5</td>\n",
       "      <td>5.0</td>\n",
       "      <td>5.0</td>\n",
       "      <td>9.87</td>\n",
       "      <td>1</td>\n",
       "      <td>0.96</td>\n",
       "    </tr>\n",
       "    <tr>\n",
       "      <th>497</th>\n",
       "      <td>330</td>\n",
       "      <td>120</td>\n",
       "      <td>5</td>\n",
       "      <td>4.5</td>\n",
       "      <td>5.0</td>\n",
       "      <td>9.56</td>\n",
       "      <td>1</td>\n",
       "      <td>0.93</td>\n",
       "    </tr>\n",
       "    <tr>\n",
       "      <th>498</th>\n",
       "      <td>312</td>\n",
       "      <td>103</td>\n",
       "      <td>4</td>\n",
       "      <td>4.0</td>\n",
       "      <td>5.0</td>\n",
       "      <td>8.43</td>\n",
       "      <td>0</td>\n",
       "      <td>0.73</td>\n",
       "    </tr>\n",
       "    <tr>\n",
       "      <th>499</th>\n",
       "      <td>327</td>\n",
       "      <td>113</td>\n",
       "      <td>4</td>\n",
       "      <td>4.5</td>\n",
       "      <td>4.5</td>\n",
       "      <td>9.04</td>\n",
       "      <td>0</td>\n",
       "      <td>0.84</td>\n",
       "    </tr>\n",
       "  </tbody>\n",
       "</table>\n",
       "<p>500 rows × 8 columns</p>\n",
       "</div>"
      ],
      "text/plain": [
       "     GRE  TOEFL  Rating  SOP  LOR  CGPA  Research  Admit\n",
       "0    337    118       4  4.5  4.5  9.65         1   0.92\n",
       "1    324    107       4  4.0  4.5  8.87         1   0.76\n",
       "2    316    104       3  3.0  3.5  8.00         1   0.72\n",
       "3    322    110       3  3.5  2.5  8.67         1   0.80\n",
       "4    314    103       2  2.0  3.0  8.21         0   0.65\n",
       "..   ...    ...     ...  ...  ...   ...       ...    ...\n",
       "495  332    108       5  4.5  4.0  9.02         1   0.87\n",
       "496  337    117       5  5.0  5.0  9.87         1   0.96\n",
       "497  330    120       5  4.5  5.0  9.56         1   0.93\n",
       "498  312    103       4  4.0  5.0  8.43         0   0.73\n",
       "499  327    113       4  4.5  4.5  9.04         0   0.84\n",
       "\n",
       "[500 rows x 8 columns]"
      ]
     },
     "execution_count": 9,
     "metadata": {},
     "output_type": "execute_result"
    }
   ],
   "source": [
    "df"
   ]
  },
  {
   "cell_type": "markdown",
   "metadata": {},
   "source": [
    "** 3. What is the distribution of the chances of admit? Plot an histogram of this variable. **"
   ]
  },
  {
   "cell_type": "code",
   "execution_count": 10,
   "metadata": {},
   "outputs": [
    {
     "data": {
      "text/plain": [
       "<seaborn.axisgrid.FacetGrid at 0x2598a62c7c0>"
      ]
     },
     "execution_count": 10,
     "metadata": {},
     "output_type": "execute_result"
    },
    {
     "data": {
      "image/png": "[encoded data removed]",
      "text/plain": [
       "<Figure size 360x360 with 1 Axes>"
      ]
     },
     "metadata": {
      "needs_background": "light"
     },
     "output_type": "display_data"
    }
   ],
   "source": [
    "sns.displot(df[\"Admit\"])"
   ]
  },
  {
   "cell_type": "markdown",
   "metadata": {},
   "source": [
    "**Left skewed distribution**"
   ]
  },
  {
   "cell_type": "markdown",
   "metadata": {},
   "source": [
    "** 4. Chances of admit seem to vary quite a bit. How much of this depends on research experience? Print the average chance of admit against research. (this can be done using a groupby) **"
   ]
  },
  {
   "cell_type": "code",
   "execution_count": 11,
   "metadata": {},
   "outputs": [
    {
     "name": "stdout",
     "output_type": "stream",
     "text": [
      "Research\n",
      "0    0.634909\n",
      "1    0.789964\n",
      "Name: Admit, dtype: float64\n"
     ]
    }
   ],
   "source": [
    "print(df[\"Admit\"].groupby(df[\"Research\"]).mean())"
   ]
  },
  {
   "cell_type": "markdown",
   "metadata": {},
   "source": [
    "**on average, having research experience helps admission by 0.15 point.**"
   ]
  },
  {
   "cell_type": "markdown",
   "metadata": {},
   "source": [
    "** 5. Does the distribution of chances of admit change with university rating? Plot an histogram of chances of admit for each university rating. (Plot 5 histograms) **"
   ]
  },
  {
   "cell_type": "code",
   "execution_count": 12,
   "metadata": {},
   "outputs": [
    {
     "data": {
      "text/plain": [
       "<seaborn.axisgrid.FacetGrid at 0x2598a9d2250>"
      ]
     },
     "execution_count": 12,
     "metadata": {},
     "output_type": "execute_result"
    },
    {
     "data": {
      "image/png": "[encoded data removed]",
      "text/plain": [
       "<Figure size 360x360 with 1 Axes>"
      ]
     },
     "metadata": {
      "needs_background": "light"
     },
     "output_type": "display_data"
    }
   ],
   "source": [
    "sns.displot(df[df[\"Rating\"] == 1][\"Admit\"])"
   ]
  },
  {
   "cell_type": "code",
   "execution_count": 13,
   "metadata": {},
   "outputs": [
    {
     "data": {
      "text/plain": [
       "<seaborn.axisgrid.FacetGrid at 0x2598aabcf10>"
      ]
     },
     "execution_count": 13,
     "metadata": {},
     "output_type": "execute_result"
    },
    {
     "data": {
      "image/png": "[encoded data removed]",
      "text/plain": [
       "<Figure size 360x360 with 1 Axes>"
      ]
     },
     "metadata": {
      "needs_background": "light"
     },
     "output_type": "display_data"
    }
   ],
   "source": [
    "sns.displot(df[df[\"Rating\"] == 2][\"Admit\"])"
   ]
  },
  {
   "cell_type": "code",
   "execution_count": 14,
   "metadata": {},
   "outputs": [
    {
     "data": {
      "text/plain": [
       "<seaborn.axisgrid.FacetGrid at 0x2598aaff460>"
      ]
     },
     "execution_count": 14,
     "metadata": {},
     "output_type": "execute_result"
    },
    {
     "data": {
      "image/png": "[encoded data removed]",
      "text/plain": [
       "<Figure size 360x360 with 1 Axes>"
      ]
     },
     "metadata": {
      "needs_background": "light"
     },
     "output_type": "display_data"
    }
   ],
   "source": [
    "sns.displot(df[df[\"Rating\"] == 3][\"Admit\"])"
   ]
  },
  {
   "cell_type": "code",
   "execution_count": 15,
   "metadata": {},
   "outputs": [
    {
     "data": {
      "text/plain": [
       "<seaborn.axisgrid.FacetGrid at 0x2598ab2c5e0>"
      ]
     },
     "execution_count": 15,
     "metadata": {},
     "output_type": "execute_result"
    },
    {
     "data": {
      "image/png": "[encoded data removed]",
      "text/plain": [
       "<Figure size 360x360 with 1 Axes>"
      ]
     },
     "metadata": {
      "needs_background": "light"
     },
     "output_type": "display_data"
    }
   ],
   "source": [
    "sns.displot(df[df[\"Rating\"] == 4][\"Admit\"])"
   ]
  },
  {
   "cell_type": "code",
   "execution_count": 16,
   "metadata": {},
   "outputs": [
    {
     "data": {
      "text/plain": [
       "<seaborn.axisgrid.FacetGrid at 0x2598ab848b0>"
      ]
     },
     "execution_count": 16,
     "metadata": {},
     "output_type": "execute_result"
    },
    {
     "data": {
      "image/png": "[encoded data removed]",
      "text/plain": [
       "<Figure size 360x360 with 1 Axes>"
      ]
     },
     "metadata": {
      "needs_background": "light"
     },
     "output_type": "display_data"
    }
   ],
   "source": [
    "sns.displot(df[df[\"Rating\"] == 5][\"Admit\"])"
   ]
  },
  {
   "cell_type": "markdown",
   "metadata": {},
   "source": [
    "**Yes. From the histogram above, we can see the higher the rating, the more likely to be admitted**"
   ]
  },
  {
   "cell_type": "markdown",
   "metadata": {},
   "source": [
    "** 6. Another way to look at the relationship between two variables is through scatter plots. Plot a scatter plot between TOEFL Score and chance of admit. **"
   ]
  },
  {
   "cell_type": "code",
   "execution_count": 17,
   "metadata": {},
   "outputs": [
    {
     "data": {
      "text/plain": [
       "<matplotlib.collections.PathCollection at 0x2598acc7e80>"
      ]
     },
     "execution_count": 17,
     "metadata": {},
     "output_type": "execute_result"
    },
    {
     "data": {
      "image/png": "[encoded data removed]",
      "text/plain": [
       "<Figure size 432x288 with 1 Axes>"
      ]
     },
     "metadata": {
      "needs_background": "light"
     },
     "output_type": "display_data"
    }
   ],
   "source": [
    "plt.scatter(df[\"TOEFL\"], df[\"Admit\"])"
   ]
  },
  {
   "cell_type": "markdown",
   "metadata": {},
   "source": [
    "** 7. Boxplots are also useful to look at the relationship between a categorical variable and a numeric variable. Plot a boxplot of chance of admit grouped by \"University Rating\". (check out seaborn) **"
   ]
  },
  {
   "cell_type": "code",
   "execution_count": 18,
   "metadata": {},
   "outputs": [
    {
     "data": {
      "text/plain": [
       "<AxesSubplot:xlabel='Admit'>"
      ]
     },
     "execution_count": 18,
     "metadata": {},
     "output_type": "execute_result"
    },
    {
     "data": {
      "image/png": "[encoded data removed]",
      "text/plain": [
       "<Figure size 432x288 with 1 Axes>"
      ]
     },
     "metadata": {
      "needs_background": "light"
     },
     "output_type": "display_data"
    }
   ],
   "source": [
    "sns.boxplot(df[\"Admit\"].groupby(df[\"Rating\"]).mean())"
   ]
  },
  {
   "cell_type": "markdown",
   "metadata": {},
   "source": [
    "** 8. Very often it is useful to quantify how strong is the relationship between different variables. For example, measures of correlation, such as Pearson's correlation coefficient, can show whether one numeric variable gives information on another numeric variable. Pandas allows us to compute the Pearson correlation coefficient between all pairs of columns in our dataframe. Display the correlations between all pairs of columns. **"
   ]
  },
  {
   "cell_type": "code",
   "execution_count": 19,
   "metadata": {},
   "outputs": [
    {
     "data": {
      "text/html": [
       "<div>\n",
       "<style scoped>\n",
       "    .dataframe tbody tr th:only-of-type {\n",
       "        vertical-align: middle;\n",
       "    }\n",
       "\n",
       "    .dataframe tbody tr th {\n",
       "        vertical-align: top;\n",
       "    }\n",
       "\n",
       "    .dataframe thead th {\n",
       "        text-align: right;\n",
       "    }\n",
       "</style>\n",
       "<table border=\"1\" class=\"dataframe\">\n",
       "  <thead>\n",
       "    <tr style=\"text-align: right;\">\n",
       "      <th></th>\n",
       "      <th>GRE</th>\n",
       "      <th>TOEFL</th>\n",
       "      <th>Rating</th>\n",
       "      <th>SOP</th>\n",
       "      <th>LOR</th>\n",
       "      <th>CGPA</th>\n",
       "      <th>Research</th>\n",
       "      <th>Admit</th>\n",
       "    </tr>\n",
       "  </thead>\n",
       "  <tbody>\n",
       "    <tr>\n",
       "      <th>GRE</th>\n",
       "      <td>1.000000</td>\n",
       "      <td>0.827200</td>\n",
       "      <td>0.635376</td>\n",
       "      <td>0.613498</td>\n",
       "      <td>0.524679</td>\n",
       "      <td>0.825878</td>\n",
       "      <td>0.563398</td>\n",
       "      <td>0.810351</td>\n",
       "    </tr>\n",
       "    <tr>\n",
       "      <th>TOEFL</th>\n",
       "      <td>0.827200</td>\n",
       "      <td>1.000000</td>\n",
       "      <td>0.649799</td>\n",
       "      <td>0.644410</td>\n",
       "      <td>0.541563</td>\n",
       "      <td>0.810574</td>\n",
       "      <td>0.467012</td>\n",
       "      <td>0.792228</td>\n",
       "    </tr>\n",
       "    <tr>\n",
       "      <th>Rating</th>\n",
       "      <td>0.635376</td>\n",
       "      <td>0.649799</td>\n",
       "      <td>1.000000</td>\n",
       "      <td>0.728024</td>\n",
       "      <td>0.608651</td>\n",
       "      <td>0.705254</td>\n",
       "      <td>0.427047</td>\n",
       "      <td>0.690132</td>\n",
       "    </tr>\n",
       "    <tr>\n",
       "      <th>SOP</th>\n",
       "      <td>0.613498</td>\n",
       "      <td>0.644410</td>\n",
       "      <td>0.728024</td>\n",
       "      <td>1.000000</td>\n",
       "      <td>0.663707</td>\n",
       "      <td>0.712154</td>\n",
       "      <td>0.408116</td>\n",
       "      <td>0.684137</td>\n",
       "    </tr>\n",
       "    <tr>\n",
       "      <th>LOR</th>\n",
       "      <td>0.524679</td>\n",
       "      <td>0.541563</td>\n",
       "      <td>0.608651</td>\n",
       "      <td>0.663707</td>\n",
       "      <td>1.000000</td>\n",
       "      <td>0.637469</td>\n",
       "      <td>0.372526</td>\n",
       "      <td>0.645365</td>\n",
       "    </tr>\n",
       "    <tr>\n",
       "      <th>CGPA</th>\n",
       "      <td>0.825878</td>\n",
       "      <td>0.810574</td>\n",
       "      <td>0.705254</td>\n",
       "      <td>0.712154</td>\n",
       "      <td>0.637469</td>\n",
       "      <td>1.000000</td>\n",
       "      <td>0.501311</td>\n",
       "      <td>0.882413</td>\n",
       "    </tr>\n",
       "    <tr>\n",
       "      <th>Research</th>\n",
       "      <td>0.563398</td>\n",
       "      <td>0.467012</td>\n",
       "      <td>0.427047</td>\n",
       "      <td>0.408116</td>\n",
       "      <td>0.372526</td>\n",
       "      <td>0.501311</td>\n",
       "      <td>1.000000</td>\n",
       "      <td>0.545871</td>\n",
       "    </tr>\n",
       "    <tr>\n",
       "      <th>Admit</th>\n",
       "      <td>0.810351</td>\n",
       "      <td>0.792228</td>\n",
       "      <td>0.690132</td>\n",
       "      <td>0.684137</td>\n",
       "      <td>0.645365</td>\n",
       "      <td>0.882413</td>\n",
       "      <td>0.545871</td>\n",
       "      <td>1.000000</td>\n",
       "    </tr>\n",
       "  </tbody>\n",
       "</table>\n",
       "</div>"
      ],
      "text/plain": [
       "               GRE     TOEFL    Rating       SOP       LOR      CGPA  \\\n",
       "GRE       1.000000  0.827200  0.635376  0.613498  0.524679  0.825878   \n",
       "TOEFL     0.827200  1.000000  0.649799  0.644410  0.541563  0.810574   \n",
       "Rating    0.635376  0.649799  1.000000  0.728024  0.608651  0.705254   \n",
       "SOP       0.613498  0.644410  0.728024  1.000000  0.663707  0.712154   \n",
       "LOR       0.524679  0.541563  0.608651  0.663707  1.000000  0.637469   \n",
       "CGPA      0.825878  0.810574  0.705254  0.712154  0.637469  1.000000   \n",
       "Research  0.563398  0.467012  0.427047  0.408116  0.372526  0.501311   \n",
       "Admit     0.810351  0.792228  0.690132  0.684137  0.645365  0.882413   \n",
       "\n",
       "          Research     Admit  \n",
       "GRE       0.563398  0.810351  \n",
       "TOEFL     0.467012  0.792228  \n",
       "Rating    0.427047  0.690132  \n",
       "SOP       0.408116  0.684137  \n",
       "LOR       0.372526  0.645365  \n",
       "CGPA      0.501311  0.882413  \n",
       "Research  1.000000  0.545871  \n",
       "Admit     0.545871  1.000000  "
      ]
     },
     "execution_count": 19,
     "metadata": {},
     "output_type": "execute_result"
    }
   ],
   "source": [
    "df.corr()"
   ]
  },
  {
   "cell_type": "markdown",
   "metadata": {},
   "source": [
    "** 9. Heatmaps are a tool for conveniently visualizing correlation data. Plot these correlations as a seaborn heatmap. Which pairs of variables are most closely correlated? Which variable gives the most information on chance of admit? **"
   ]
  },
  {
   "cell_type": "code",
   "execution_count": 20,
   "metadata": {},
   "outputs": [
    {
     "data": {
      "text/plain": [
       "<AxesSubplot:>"
      ]
     },
     "execution_count": 20,
     "metadata": {},
     "output_type": "execute_result"
    },
    {
     "data": {
      "image/png": "[encoded data removed]",
      "text/plain": [
       "<Figure size 432x288 with 2 Axes>"
      ]
     },
     "metadata": {
      "needs_background": "light"
     },
     "output_type": "display_data"
    }
   ],
   "source": [
    "sns.heatmap(df.corr(), annot = True)"
   ]
  },
  {
   "cell_type": "markdown",
   "metadata": {},
   "source": [
    "**Among features: TOEFL and GRE are most closely correlated; among features and target: CGPA and Admit are most closely correlated. CGPA gives the most info on chance of admit.**"
   ]
  },
  {
   "cell_type": "markdown",
   "metadata": {},
   "source": [
    "** 10. Build a linear model to predict the chance of admit using the application info available. Generate predictions and compare predicted quality to the actual value in a scatter plot. ** Recommendation: try this before Class 2.  We will start on the details of predictive modeling in Class 2, so having tried it first will give you better context for the class."
   ]
  },
  {
   "cell_type": "code",
   "execution_count": 21,
   "metadata": {},
   "outputs": [],
   "source": [
    "from sklearn.model_selection import train_test_split\n",
    "X_train,X_test,y_train,y_test = train_test_split(df[[\"GRE\", \"TOEFL\", \"Rating\", \"SOP\", \"LOR\", \"CGPA\", \"Research\"]], df[\"Admit\"], train_size = 0.8, test_size = 0.2)"
   ]
  },
  {
   "cell_type": "code",
   "execution_count": 22,
   "metadata": {
    "scrolled": true
   },
   "outputs": [],
   "source": [
    "from sklearn.linear_model import LinearRegression\n",
    "lr = LinearRegression()\n",
    "lr.fit(X_train,y_train)\n",
    "y_pred_lr = lr.predict(X_test)"
   ]
  },
  {
   "cell_type": "code",
   "execution_count": 23,
   "metadata": {},
   "outputs": [
    {
     "data": {
      "image/png": "[encoded data removed]",
      "text/plain": [
       "<Figure size 432x288 with 1 Axes>"
      ]
     },
     "metadata": {
      "needs_background": "light"
     },
     "output_type": "display_data"
    }
   ],
   "source": [
    "plt.xlabel('y_pred_lr')\n",
    "plt.ylabel('y_test')\n",
    "plt.scatter(y_pred_lr, y_test)\n",
    "plt.show() "
   ]
  },
  {
   "cell_type": "markdown",
   "metadata": {},
   "source": [
    "** 11. (Extra Points, Optional) There are many different types of predictive models, each with their own plusses and minuses. For this task, repeat your modeling performed in step 8, but using a sklearn.ensemble.RandomForestRegressor. How does the scatter plot compare with the prior results? **"
   ]
  },
  {
   "cell_type": "code",
   "execution_count": 24,
   "metadata": {},
   "outputs": [],
   "source": [
    "from sklearn.ensemble import RandomForestRegressor\n",
    "\n",
    "rf = RandomForestRegressor()\n",
    "rf.fit(X_train,y_train)\n",
    "y_pred_rf = rf.predict(X_test)"
   ]
  },
  {
   "cell_type": "code",
   "execution_count": 25,
   "metadata": {
    "scrolled": true
   },
   "outputs": [
    {
     "data": {
      "image/png": "[encoded data removed]",
      "text/plain": [
       "<Figure size 432x288 with 1 Axes>"
      ]
     },
     "metadata": {
      "needs_background": "light"
     },
     "output_type": "display_data"
    }
   ],
   "source": [
    "plt.xlabel('y_pred_rf')\n",
    "plt.ylabel('y_test')\n",
    "plt.scatter(y_pred_rf, y_test)\n",
    "plt.show() "
   ]
  },
  {
   "cell_type": "code",
   "execution_count": 26,
   "metadata": {},
   "outputs": [
    {
     "name": "stdout",
     "output_type": "stream",
     "text": [
      "r2 of linear 0.7323471981727872\n",
      "r2 of random forest 0.6863870276623883\n"
     ]
    }
   ],
   "source": [
    "from sklearn.metrics import r2_score\n",
    "print(\"r2 of linear\", r2_score(y_test, y_pred_lr))\n",
    "print(\"r2 of random forest\", r2_score(y_test, y_pred_rf))"
   ]
  },
  {
   "cell_type": "markdown",
   "metadata": {},
   "source": [
    "This scatter plot shows better predictions, but as we saw in the previous class, the model could be overfitting."
   ]
  },
  {
   "cell_type": "markdown",
   "metadata": {},
   "source": [
    "**try to solve overfitting a bit**"
   ]
  },
  {
   "cell_type": "code",
   "execution_count": 27,
   "metadata": {
    "scrolled": true
   },
   "outputs": [
    {
     "name": "stdout",
     "output_type": "stream",
     "text": [
      "Fitting 5 folds for each of 100 candidates, totalling 500 fits\n",
      "[CV] n_estimators=21, min_samples_split=81, min_samples_leaf=11, max_features=3, max_depth=9 \n",
      "[CV]  n_estimators=21, min_samples_split=81, min_samples_leaf=11, max_features=3, max_depth=9, score=0.787, total=   0.0s\n",
      "[CV] n_estimators=21, min_samples_split=81, min_samples_leaf=11, max_features=3, max_depth=9 \n",
      "[CV]  n_estimators=21, min_samples_split=81, min_samples_leaf=11, max_features=3, max_depth=9, score=0.753, total=   0.0s\n",
      "[CV] n_estimators=21, min_samples_split=81, min_samples_leaf=11, max_features=3, max_depth=9 \n",
      "[CV]  n_estimators=21, min_samples_split=81, min_samples_leaf=11, max_features=3, max_depth=9, score=0.775, total=   0.0s\n",
      "[CV] n_estimators=21, min_samples_split=81, min_samples_leaf=11, max_features=3, max_depth=9 \n",
      "[CV]  n_estimators=21, min_samples_split=81, min_samples_leaf=11, max_features=3, max_depth=9, score=0.765, total=   0.0s\n",
      "[CV] n_estimators=21, min_samples_split=81, min_samples_leaf=11, max_features=3, max_depth=9 \n",
      "[CV]  n_estimators=21, min_samples_split=81, min_samples_leaf=11, max_features=3, max_depth=9, score=0.791, total=   0.0s\n",
      "[CV] n_estimators=1, min_samples_split=121, min_samples_leaf=5, max_features=7, max_depth=11 \n",
      "[CV]  n_estimators=1, min_samples_split=121, min_samples_leaf=5, max_features=7, max_depth=11, score=0.571, total=   0.0s\n",
      "[CV] n_estimators=1, min_samples_split=121, min_samples_leaf=5, max_features=7, max_depth=11 \n",
      "[CV]  n_estimators=1, min_samples_split=121, min_samples_leaf=5, max_features=7, max_depth=11, score=0.549, total=   0.0s\n",
      "[CV] n_estimators=1, min_samples_split=121, min_samples_leaf=5, max_features=7, max_depth=11 \n",
      "[CV]  n_estimators=1, min_samples_split=121, min_samples_leaf=5, max_features=7, max_depth=11, score=0.504, total=   0.0s\n",
      "[CV] n_estimators=1, min_samples_split=121, min_samples_leaf=5, max_features=7, max_depth=11 \n",
      "[CV]  n_estimators=1, min_samples_split=121, min_samples_leaf=5, max_features=7, max_depth=11, score=0.449, total=   0.0s\n",
      "[CV] n_estimators=1, min_samples_split=121, min_samples_leaf=5, max_features=7, max_depth=11 \n"
     ]
    },
    {
     "name": "stderr",
     "output_type": "stream",
     "text": [
      "[Parallel(n_jobs=1)]: Using backend SequentialBackend with 1 concurrent workers.\n",
      "[Parallel(n_jobs=1)]: Done   1 out of   1 | elapsed:    0.0s remaining:    0.0s\n",
      "[Parallel(n_jobs=1)]: Done   2 out of   2 | elapsed:    0.0s remaining:    0.0s\n",
      "[Parallel(n_jobs=1)]: Done   3 out of   3 | elapsed:    0.0s remaining:    0.0s\n",
      "[Parallel(n_jobs=1)]: Done   4 out of   4 | elapsed:    0.0s remaining:    0.0s\n"
     ]
    },
    {
     "name": "stdout",
     "output_type": "stream",
     "text": [
      "[CV]  n_estimators=1, min_samples_split=121, min_samples_leaf=5, max_features=7, max_depth=11, score=0.606, total=   0.0s\n",
      "[CV] n_estimators=51, min_samples_split=1, min_samples_leaf=11, max_features=9, max_depth=7 \n",
      "[CV]  n_estimators=51, min_samples_split=1, min_samples_leaf=11, max_features=9, max_depth=7, score=nan, total=   0.0s\n",
      "[CV] n_estimators=51, min_samples_split=1, min_samples_leaf=11, max_features=9, max_depth=7 \n",
      "[CV]  n_estimators=51, min_samples_split=1, min_samples_leaf=11, max_features=9, max_depth=7, score=nan, total=   0.0s\n",
      "[CV] n_estimators=51, min_samples_split=1, min_samples_leaf=11, max_features=9, max_depth=7 \n",
      "[CV]  n_estimators=51, min_samples_split=1, min_samples_leaf=11, max_features=9, max_depth=7, score=nan, total=   0.0s\n",
      "[CV] n_estimators=51, min_samples_split=1, min_samples_leaf=11, max_features=9, max_depth=7 \n",
      "[CV]  n_estimators=51, min_samples_split=1, min_samples_leaf=11, max_features=9, max_depth=7, score=nan, total=   0.0s\n",
      "[CV] n_estimators=51, min_samples_split=1, min_samples_leaf=11, max_features=9, max_depth=7 \n",
      "[CV]  n_estimators=51, min_samples_split=1, min_samples_leaf=11, max_features=9, max_depth=7, score=nan, total=   0.0s\n",
      "[CV] n_estimators=71, min_samples_split=161, min_samples_leaf=3, max_features=9, max_depth=9 \n",
      "[CV]  n_estimators=71, min_samples_split=161, min_samples_leaf=3, max_features=9, max_depth=9, score=nan, total=   0.0s\n",
      "[CV] n_estimators=71, min_samples_split=161, min_samples_leaf=3, max_features=9, max_depth=9 \n",
      "[CV]  n_estimators=71, min_samples_split=161, min_samples_leaf=3, max_features=9, max_depth=9, score=nan, total=   0.0s\n",
      "[CV] n_estimators=71, min_samples_split=161, min_samples_leaf=3, max_features=9, max_depth=9 \n",
      "[CV]  n_estimators=71, min_samples_split=161, min_samples_leaf=3, max_features=9, max_depth=9, score=nan, total=   0.0s\n",
      "[CV] n_estimators=71, min_samples_split=161, min_samples_leaf=3, max_features=9, max_depth=9 \n",
      "[CV]  n_estimators=71, min_samples_split=161, min_samples_leaf=3, max_features=9, max_depth=9, score=nan, total=   0.0s\n",
      "[CV] n_estimators=71, min_samples_split=161, min_samples_leaf=3, max_features=9, max_depth=9 \n",
      "[CV]  n_estimators=71, min_samples_split=161, min_samples_leaf=3, max_features=9, max_depth=9, score=nan, total=   0.0s\n",
      "[CV] n_estimators=41, min_samples_split=41, min_samples_leaf=15, max_features=5, max_depth=3 \n",
      "[CV]  n_estimators=41, min_samples_split=41, min_samples_leaf=15, max_features=5, max_depth=3, score=0.804, total=   0.0s\n",
      "[CV] n_estimators=41, min_samples_split=41, min_samples_leaf=15, max_features=5, max_depth=3 \n",
      "[CV]  n_estimators=41, min_samples_split=41, min_samples_leaf=15, max_features=5, max_depth=3, score=0.806, total=   0.1s\n",
      "[CV] n_estimators=41, min_samples_split=41, min_samples_leaf=15, max_features=5, max_depth=3 \n",
      "[CV]  n_estimators=41, min_samples_split=41, min_samples_leaf=15, max_features=5, max_depth=3, score=0.810, total=   0.0s\n",
      "[CV] n_estimators=41, min_samples_split=41, min_samples_leaf=15, max_features=5, max_depth=3 \n",
      "[CV]  n_estimators=41, min_samples_split=41, min_samples_leaf=15, max_features=5, max_depth=3, score=0.781, total=   0.0s\n",
      "[CV] n_estimators=41, min_samples_split=41, min_samples_leaf=15, max_features=5, max_depth=3 \n",
      "[CV]  n_estimators=41, min_samples_split=41, min_samples_leaf=15, max_features=5, max_depth=3, score=0.807, total=   0.0s\n",
      "[CV] n_estimators=41, min_samples_split=161, min_samples_leaf=13, max_features=9, max_depth=9 \n",
      "[CV]  n_estimators=41, min_samples_split=161, min_samples_leaf=13, max_features=9, max_depth=9, score=nan, total=   0.0s\n",
      "[CV] n_estimators=41, min_samples_split=161, min_samples_leaf=13, max_features=9, max_depth=9 \n",
      "[CV]  n_estimators=41, min_samples_split=161, min_samples_leaf=13, max_features=9, max_depth=9, score=nan, total=   0.0s\n",
      "[CV] n_estimators=41, min_samples_split=161, min_samples_leaf=13, max_features=9, max_depth=9 \n",
      "[CV]  n_estimators=41, min_samples_split=161, min_samples_leaf=13, max_features=9, max_depth=9, score=nan, total=   0.0s\n",
      "[CV] n_estimators=41, min_samples_split=161, min_samples_leaf=13, max_features=9, max_depth=9 \n",
      "[CV]  n_estimators=41, min_samples_split=161, min_samples_leaf=13, max_features=9, max_depth=9, score=nan, total=   0.0s\n",
      "[CV] n_estimators=41, min_samples_split=161, min_samples_leaf=13, max_features=9, max_depth=9 \n",
      "[CV]  n_estimators=41, min_samples_split=161, min_samples_leaf=13, max_features=9, max_depth=9, score=nan, total=   0.0s\n",
      "[CV] n_estimators=81, min_samples_split=41, min_samples_leaf=5, max_features=3, max_depth=21 \n",
      "[CV]  n_estimators=81, min_samples_split=41, min_samples_leaf=5, max_features=3, max_depth=21, score=0.817, total=   0.1s\n",
      "[CV] n_estimators=81, min_samples_split=41, min_samples_leaf=5, max_features=3, max_depth=21 \n",
      "[CV]  n_estimators=81, min_samples_split=41, min_samples_leaf=5, max_features=3, max_depth=21, score=0.799, total=   0.1s\n",
      "[CV] n_estimators=81, min_samples_split=41, min_samples_leaf=5, max_features=3, max_depth=21 \n",
      "[CV]  n_estimators=81, min_samples_split=41, min_samples_leaf=5, max_features=3, max_depth=21, score=0.820, total=   0.1s\n",
      "[CV] n_estimators=81, min_samples_split=41, min_samples_leaf=5, max_features=3, max_depth=21 \n",
      "[CV]  n_estimators=81, min_samples_split=41, min_samples_leaf=5, max_features=3, max_depth=21, score=0.782, total=   0.1s\n",
      "[CV] n_estimators=81, min_samples_split=41, min_samples_leaf=5, max_features=3, max_depth=21 \n",
      "[CV]  n_estimators=81, min_samples_split=41, min_samples_leaf=5, max_features=3, max_depth=21, score=0.825, total=   0.1s\n",
      "[CV] n_estimators=91, min_samples_split=161, min_samples_leaf=17, max_features=3, max_depth=9 \n",
      "[CV]  n_estimators=91, min_samples_split=161, min_samples_leaf=17, max_features=3, max_depth=9, score=0.678, total=   0.1s\n",
      "[CV] n_estimators=91, min_samples_split=161, min_samples_leaf=17, max_features=3, max_depth=9 \n",
      "[CV]  n_estimators=91, min_samples_split=161, min_samples_leaf=17, max_features=3, max_depth=9, score=0.592, total=   0.1s\n",
      "[CV] n_estimators=91, min_samples_split=161, min_samples_leaf=17, max_features=3, max_depth=9 \n",
      "[CV]  n_estimators=91, min_samples_split=161, min_samples_leaf=17, max_features=3, max_depth=9, score=0.602, total=   0.1s\n",
      "[CV] n_estimators=91, min_samples_split=161, min_samples_leaf=17, max_features=3, max_depth=9 \n",
      "[CV]  n_estimators=91, min_samples_split=161, min_samples_leaf=17, max_features=3, max_depth=9, score=0.660, total=   0.1s\n",
      "[CV] n_estimators=91, min_samples_split=161, min_samples_leaf=17, max_features=3, max_depth=9 \n",
      "[CV]  n_estimators=91, min_samples_split=161, min_samples_leaf=17, max_features=3, max_depth=9, score=0.592, total=   0.1s\n",
      "[CV] n_estimators=91, min_samples_split=101, min_samples_leaf=19, max_features=9, max_depth=15 \n",
      "[CV]  n_estimators=91, min_samples_split=101, min_samples_leaf=19, max_features=9, max_depth=15, score=nan, total=   0.0s\n",
      "[CV] n_estimators=91, min_samples_split=101, min_samples_leaf=19, max_features=9, max_depth=15 \n",
      "[CV]  n_estimators=91, min_samples_split=101, min_samples_leaf=19, max_features=9, max_depth=15, score=nan, total=   0.0s\n",
      "[CV] n_estimators=91, min_samples_split=101, min_samples_leaf=19, max_features=9, max_depth=15 \n",
      "[CV]  n_estimators=91, min_samples_split=101, min_samples_leaf=19, max_features=9, max_depth=15, score=nan, total=   0.0s\n",
      "[CV] n_estimators=91, min_samples_split=101, min_samples_leaf=19, max_features=9, max_depth=15 \n",
      "[CV]  n_estimators=91, min_samples_split=101, min_samples_leaf=19, max_features=9, max_depth=15, score=nan, total=   0.0s\n",
      "[CV] n_estimators=91, min_samples_split=101, min_samples_leaf=19, max_features=9, max_depth=15 \n",
      "[CV]  n_estimators=91, min_samples_split=101, min_samples_leaf=19, max_features=9, max_depth=15, score=nan, total=   0.0s\n",
      "[CV] n_estimators=21, min_samples_split=161, min_samples_leaf=19, max_features=3, max_depth=15 \n",
      "[CV]  n_estimators=21, min_samples_split=161, min_samples_leaf=19, max_features=3, max_depth=15, score=0.681, total=   0.0s\n",
      "[CV] n_estimators=21, min_samples_split=161, min_samples_leaf=19, max_features=3, max_depth=15 \n",
      "[CV]  n_estimators=21, min_samples_split=161, min_samples_leaf=19, max_features=3, max_depth=15, score=0.583, total=   0.0s\n",
      "[CV] n_estimators=21, min_samples_split=161, min_samples_leaf=19, max_features=3, max_depth=15 \n"
     ]
    },
    {
     "name": "stdout",
     "output_type": "stream",
     "text": [
      "[CV]  n_estimators=21, min_samples_split=161, min_samples_leaf=19, max_features=3, max_depth=15, score=0.602, total=   0.0s\n",
      "[CV] n_estimators=21, min_samples_split=161, min_samples_leaf=19, max_features=3, max_depth=15 \n",
      "[CV]  n_estimators=21, min_samples_split=161, min_samples_leaf=19, max_features=3, max_depth=15, score=0.644, total=   0.0s\n",
      "[CV] n_estimators=21, min_samples_split=161, min_samples_leaf=19, max_features=3, max_depth=15 \n",
      "[CV]  n_estimators=21, min_samples_split=161, min_samples_leaf=19, max_features=3, max_depth=15, score=0.584, total=   0.0s\n",
      "[CV] n_estimators=31, min_samples_split=61, min_samples_leaf=19, max_features=9, max_depth=29 \n",
      "[CV]  n_estimators=31, min_samples_split=61, min_samples_leaf=19, max_features=9, max_depth=29, score=nan, total=   0.0s\n",
      "[CV] n_estimators=31, min_samples_split=61, min_samples_leaf=19, max_features=9, max_depth=29 \n",
      "[CV]  n_estimators=31, min_samples_split=61, min_samples_leaf=19, max_features=9, max_depth=29, score=nan, total=   0.0s\n",
      "[CV] n_estimators=31, min_samples_split=61, min_samples_leaf=19, max_features=9, max_depth=29 \n",
      "[CV]  n_estimators=31, min_samples_split=61, min_samples_leaf=19, max_features=9, max_depth=29, score=nan, total=   0.0s\n",
      "[CV] n_estimators=31, min_samples_split=61, min_samples_leaf=19, max_features=9, max_depth=29 \n",
      "[CV]  n_estimators=31, min_samples_split=61, min_samples_leaf=19, max_features=9, max_depth=29, score=nan, total=   0.0s\n",
      "[CV] n_estimators=31, min_samples_split=61, min_samples_leaf=19, max_features=9, max_depth=29 \n",
      "[CV]  n_estimators=31, min_samples_split=61, min_samples_leaf=19, max_features=9, max_depth=29, score=nan, total=   0.0s\n",
      "[CV] n_estimators=1, min_samples_split=1, min_samples_leaf=1, max_features=3, max_depth=11 \n",
      "[CV]  n_estimators=1, min_samples_split=1, min_samples_leaf=1, max_features=3, max_depth=11, score=nan, total=   0.0s\n",
      "[CV] n_estimators=1, min_samples_split=1, min_samples_leaf=1, max_features=3, max_depth=11 \n",
      "[CV]  n_estimators=1, min_samples_split=1, min_samples_leaf=1, max_features=3, max_depth=11, score=nan, total=   0.0s\n",
      "[CV] n_estimators=1, min_samples_split=1, min_samples_leaf=1, max_features=3, max_depth=11 \n",
      "[CV]  n_estimators=1, min_samples_split=1, min_samples_leaf=1, max_features=3, max_depth=11, score=nan, total=   0.0s\n",
      "[CV] n_estimators=1, min_samples_split=1, min_samples_leaf=1, max_features=3, max_depth=11 \n",
      "[CV]  n_estimators=1, min_samples_split=1, min_samples_leaf=1, max_features=3, max_depth=11, score=nan, total=   0.0s\n",
      "[CV] n_estimators=1, min_samples_split=1, min_samples_leaf=1, max_features=3, max_depth=11 \n",
      "[CV]  n_estimators=1, min_samples_split=1, min_samples_leaf=1, max_features=3, max_depth=11, score=nan, total=   0.0s\n",
      "[CV] n_estimators=51, min_samples_split=141, min_samples_leaf=11, max_features=5, max_depth=5 \n",
      "[CV]  n_estimators=51, min_samples_split=141, min_samples_leaf=11, max_features=5, max_depth=5, score=0.689, total=   0.1s\n",
      "[CV] n_estimators=51, min_samples_split=141, min_samples_leaf=11, max_features=5, max_depth=5 \n",
      "[CV]  n_estimators=51, min_samples_split=141, min_samples_leaf=11, max_features=5, max_depth=5, score=0.591, total=   0.1s\n",
      "[CV] n_estimators=51, min_samples_split=141, min_samples_leaf=11, max_features=5, max_depth=5 \n",
      "[CV]  n_estimators=51, min_samples_split=141, min_samples_leaf=11, max_features=5, max_depth=5, score=0.608, total=   0.1s\n",
      "[CV] n_estimators=51, min_samples_split=141, min_samples_leaf=11, max_features=5, max_depth=5 \n",
      "[CV]  n_estimators=51, min_samples_split=141, min_samples_leaf=11, max_features=5, max_depth=5, score=0.656, total=   0.1s\n",
      "[CV] n_estimators=51, min_samples_split=141, min_samples_leaf=11, max_features=5, max_depth=5 \n",
      "[CV]  n_estimators=51, min_samples_split=141, min_samples_leaf=11, max_features=5, max_depth=5, score=0.595, total=   0.1s\n",
      "[CV] n_estimators=31, min_samples_split=161, min_samples_leaf=5, max_features=1, max_depth=5 \n",
      "[CV]  n_estimators=31, min_samples_split=161, min_samples_leaf=5, max_features=1, max_depth=5, score=0.599, total=   0.0s\n",
      "[CV] n_estimators=31, min_samples_split=161, min_samples_leaf=5, max_features=1, max_depth=5 \n",
      "[CV]  n_estimators=31, min_samples_split=161, min_samples_leaf=5, max_features=1, max_depth=5, score=0.511, total=   0.0s\n",
      "[CV] n_estimators=31, min_samples_split=161, min_samples_leaf=5, max_features=1, max_depth=5 \n",
      "[CV]  n_estimators=31, min_samples_split=161, min_samples_leaf=5, max_features=1, max_depth=5, score=0.513, total=   0.0s\n",
      "[CV] n_estimators=31, min_samples_split=161, min_samples_leaf=5, max_features=1, max_depth=5 \n",
      "[CV]  n_estimators=31, min_samples_split=161, min_samples_leaf=5, max_features=1, max_depth=5, score=0.586, total=   0.0s\n",
      "[CV] n_estimators=31, min_samples_split=161, min_samples_leaf=5, max_features=1, max_depth=5 \n",
      "[CV]  n_estimators=31, min_samples_split=161, min_samples_leaf=5, max_features=1, max_depth=5, score=0.541, total=   0.0s\n",
      "[CV] n_estimators=71, min_samples_split=21, min_samples_leaf=13, max_features=3, max_depth=9 \n",
      "[CV]  n_estimators=71, min_samples_split=21, min_samples_leaf=13, max_features=3, max_depth=9, score=0.834, total=   0.1s\n",
      "[CV] n_estimators=71, min_samples_split=21, min_samples_leaf=13, max_features=3, max_depth=9 \n",
      "[CV]  n_estimators=71, min_samples_split=21, min_samples_leaf=13, max_features=3, max_depth=9, score=0.810, total=   0.1s\n",
      "[CV] n_estimators=71, min_samples_split=21, min_samples_leaf=13, max_features=3, max_depth=9 \n",
      "[CV]  n_estimators=71, min_samples_split=21, min_samples_leaf=13, max_features=3, max_depth=9, score=0.836, total=   0.1s\n",
      "[CV] n_estimators=71, min_samples_split=21, min_samples_leaf=13, max_features=3, max_depth=9 \n",
      "[CV]  n_estimators=71, min_samples_split=21, min_samples_leaf=13, max_features=3, max_depth=9, score=0.778, total=   0.1s\n",
      "[CV] n_estimators=71, min_samples_split=21, min_samples_leaf=13, max_features=3, max_depth=9 \n",
      "[CV]  n_estimators=71, min_samples_split=21, min_samples_leaf=13, max_features=3, max_depth=9, score=0.820, total=   0.1s\n",
      "[CV] n_estimators=61, min_samples_split=161, min_samples_leaf=5, max_features=1, max_depth=17 \n",
      "[CV]  n_estimators=61, min_samples_split=161, min_samples_leaf=5, max_features=1, max_depth=17, score=0.600, total=   0.1s\n",
      "[CV] n_estimators=61, min_samples_split=161, min_samples_leaf=5, max_features=1, max_depth=17 \n",
      "[CV]  n_estimators=61, min_samples_split=161, min_samples_leaf=5, max_features=1, max_depth=17, score=0.525, total=   0.1s\n",
      "[CV] n_estimators=61, min_samples_split=161, min_samples_leaf=5, max_features=1, max_depth=17 \n",
      "[CV]  n_estimators=61, min_samples_split=161, min_samples_leaf=5, max_features=1, max_depth=17, score=0.526, total=   0.1s\n",
      "[CV] n_estimators=61, min_samples_split=161, min_samples_leaf=5, max_features=1, max_depth=17 \n",
      "[CV]  n_estimators=61, min_samples_split=161, min_samples_leaf=5, max_features=1, max_depth=17, score=0.618, total=   0.1s\n",
      "[CV] n_estimators=61, min_samples_split=161, min_samples_leaf=5, max_features=1, max_depth=17 \n",
      "[CV]  n_estimators=61, min_samples_split=161, min_samples_leaf=5, max_features=1, max_depth=17, score=0.545, total=   0.1s\n",
      "[CV] n_estimators=11, min_samples_split=101, min_samples_leaf=1, max_features=3, max_depth=29 \n",
      "[CV]  n_estimators=11, min_samples_split=101, min_samples_leaf=1, max_features=3, max_depth=29, score=0.723, total=   0.0s\n",
      "[CV] n_estimators=11, min_samples_split=101, min_samples_leaf=1, max_features=3, max_depth=29 \n",
      "[CV]  n_estimators=11, min_samples_split=101, min_samples_leaf=1, max_features=3, max_depth=29, score=0.703, total=   0.0s\n",
      "[CV] n_estimators=11, min_samples_split=101, min_samples_leaf=1, max_features=3, max_depth=29 \n",
      "[CV]  n_estimators=11, min_samples_split=101, min_samples_leaf=1, max_features=3, max_depth=29, score=0.703, total=   0.0s\n",
      "[CV] n_estimators=11, min_samples_split=101, min_samples_leaf=1, max_features=3, max_depth=29 \n",
      "[CV]  n_estimators=11, min_samples_split=101, min_samples_leaf=1, max_features=3, max_depth=29, score=0.693, total=   0.0s\n",
      "[CV] n_estimators=11, min_samples_split=101, min_samples_leaf=1, max_features=3, max_depth=29 \n",
      "[CV]  n_estimators=11, min_samples_split=101, min_samples_leaf=1, max_features=3, max_depth=29, score=0.731, total=   0.0s\n",
      "[CV] n_estimators=41, min_samples_split=1, min_samples_leaf=7, max_features=3, max_depth=13 \n",
      "[CV]  n_estimators=41, min_samples_split=1, min_samples_leaf=7, max_features=3, max_depth=13, score=nan, total=   0.0s\n",
      "[CV] n_estimators=41, min_samples_split=1, min_samples_leaf=7, max_features=3, max_depth=13 \n",
      "[CV]  n_estimators=41, min_samples_split=1, min_samples_leaf=7, max_features=3, max_depth=13, score=nan, total=   0.0s\n",
      "[CV] n_estimators=41, min_samples_split=1, min_samples_leaf=7, max_features=3, max_depth=13 \n",
      "[CV]  n_estimators=41, min_samples_split=1, min_samples_leaf=7, max_features=3, max_depth=13, score=nan, total=   0.0s\n",
      "[CV] n_estimators=41, min_samples_split=1, min_samples_leaf=7, max_features=3, max_depth=13 \n",
      "[CV]  n_estimators=41, min_samples_split=1, min_samples_leaf=7, max_features=3, max_depth=13, score=nan, total=   0.0s\n",
      "[CV] n_estimators=41, min_samples_split=1, min_samples_leaf=7, max_features=3, max_depth=13 \n",
      "[CV]  n_estimators=41, min_samples_split=1, min_samples_leaf=7, max_features=3, max_depth=13, score=nan, total=   0.0s\n",
      "[CV] n_estimators=1, min_samples_split=141, min_samples_leaf=3, max_features=3, max_depth=7 \n"
     ]
    },
    {
     "name": "stdout",
     "output_type": "stream",
     "text": [
      "[CV]  n_estimators=1, min_samples_split=141, min_samples_leaf=3, max_features=3, max_depth=7, score=0.449, total=   0.0s\n",
      "[CV] n_estimators=1, min_samples_split=141, min_samples_leaf=3, max_features=3, max_depth=7 \n",
      "[CV]  n_estimators=1, min_samples_split=141, min_samples_leaf=3, max_features=3, max_depth=7, score=0.550, total=   0.0s\n",
      "[CV] n_estimators=1, min_samples_split=141, min_samples_leaf=3, max_features=3, max_depth=7 \n",
      "[CV]  n_estimators=1, min_samples_split=141, min_samples_leaf=3, max_features=3, max_depth=7, score=0.542, total=   0.0s\n",
      "[CV] n_estimators=1, min_samples_split=141, min_samples_leaf=3, max_features=3, max_depth=7 \n",
      "[CV]  n_estimators=1, min_samples_split=141, min_samples_leaf=3, max_features=3, max_depth=7, score=0.376, total=   0.0s\n",
      "[CV] n_estimators=1, min_samples_split=141, min_samples_leaf=3, max_features=3, max_depth=7 \n",
      "[CV]  n_estimators=1, min_samples_split=141, min_samples_leaf=3, max_features=3, max_depth=7, score=0.457, total=   0.0s\n",
      "[CV] n_estimators=31, min_samples_split=61, min_samples_leaf=15, max_features=7, max_depth=21 \n",
      "[CV]  n_estimators=31, min_samples_split=61, min_samples_leaf=15, max_features=7, max_depth=21, score=0.772, total=   0.0s\n",
      "[CV] n_estimators=31, min_samples_split=61, min_samples_leaf=15, max_features=7, max_depth=21 \n",
      "[CV]  n_estimators=31, min_samples_split=61, min_samples_leaf=15, max_features=7, max_depth=21, score=0.801, total=   0.0s\n",
      "[CV] n_estimators=31, min_samples_split=61, min_samples_leaf=15, max_features=7, max_depth=21 \n",
      "[CV]  n_estimators=31, min_samples_split=61, min_samples_leaf=15, max_features=7, max_depth=21, score=0.772, total=   0.0s\n",
      "[CV] n_estimators=31, min_samples_split=61, min_samples_leaf=15, max_features=7, max_depth=21 \n",
      "[CV]  n_estimators=31, min_samples_split=61, min_samples_leaf=15, max_features=7, max_depth=21, score=0.763, total=   0.0s\n",
      "[CV] n_estimators=31, min_samples_split=61, min_samples_leaf=15, max_features=7, max_depth=21 \n",
      "[CV]  n_estimators=31, min_samples_split=61, min_samples_leaf=15, max_features=7, max_depth=21, score=0.786, total=   0.0s\n",
      "[CV] n_estimators=91, min_samples_split=161, min_samples_leaf=1, max_features=7, max_depth=7 \n",
      "[CV]  n_estimators=91, min_samples_split=161, min_samples_leaf=1, max_features=7, max_depth=7, score=0.655, total=   0.1s\n",
      "[CV] n_estimators=91, min_samples_split=161, min_samples_leaf=1, max_features=7, max_depth=7 \n",
      "[CV]  n_estimators=91, min_samples_split=161, min_samples_leaf=1, max_features=7, max_depth=7, score=0.570, total=   0.1s\n",
      "[CV] n_estimators=91, min_samples_split=161, min_samples_leaf=1, max_features=7, max_depth=7 \n",
      "[CV]  n_estimators=91, min_samples_split=161, min_samples_leaf=1, max_features=7, max_depth=7, score=0.595, total=   0.1s\n",
      "[CV] n_estimators=91, min_samples_split=161, min_samples_leaf=1, max_features=7, max_depth=7 \n",
      "[CV]  n_estimators=91, min_samples_split=161, min_samples_leaf=1, max_features=7, max_depth=7, score=0.636, total=   0.1s\n",
      "[CV] n_estimators=91, min_samples_split=161, min_samples_leaf=1, max_features=7, max_depth=7 \n",
      "[CV]  n_estimators=91, min_samples_split=161, min_samples_leaf=1, max_features=7, max_depth=7, score=0.527, total=   0.1s\n",
      "[CV] n_estimators=41, min_samples_split=61, min_samples_leaf=1, max_features=1, max_depth=9 \n",
      "[CV]  n_estimators=41, min_samples_split=61, min_samples_leaf=1, max_features=1, max_depth=9, score=0.789, total=   0.1s\n",
      "[CV] n_estimators=41, min_samples_split=61, min_samples_leaf=1, max_features=1, max_depth=9 \n",
      "[CV]  n_estimators=41, min_samples_split=61, min_samples_leaf=1, max_features=1, max_depth=9, score=0.752, total=   0.0s\n",
      "[CV] n_estimators=41, min_samples_split=61, min_samples_leaf=1, max_features=1, max_depth=9 \n",
      "[CV]  n_estimators=41, min_samples_split=61, min_samples_leaf=1, max_features=1, max_depth=9, score=0.732, total=   0.0s\n",
      "[CV] n_estimators=41, min_samples_split=61, min_samples_leaf=1, max_features=1, max_depth=9 \n",
      "[CV]  n_estimators=41, min_samples_split=61, min_samples_leaf=1, max_features=1, max_depth=9, score=0.769, total=   0.0s\n",
      "[CV] n_estimators=41, min_samples_split=61, min_samples_leaf=1, max_features=1, max_depth=9 \n",
      "[CV]  n_estimators=41, min_samples_split=61, min_samples_leaf=1, max_features=1, max_depth=9, score=0.761, total=   0.0s\n",
      "[CV] n_estimators=51, min_samples_split=81, min_samples_leaf=13, max_features=9, max_depth=21 \n",
      "[CV]  n_estimators=51, min_samples_split=81, min_samples_leaf=13, max_features=9, max_depth=21, score=nan, total=   0.0s\n",
      "[CV] n_estimators=51, min_samples_split=81, min_samples_leaf=13, max_features=9, max_depth=21 \n",
      "[CV]  n_estimators=51, min_samples_split=81, min_samples_leaf=13, max_features=9, max_depth=21, score=nan, total=   0.0s\n",
      "[CV] n_estimators=51, min_samples_split=81, min_samples_leaf=13, max_features=9, max_depth=21 \n",
      "[CV]  n_estimators=51, min_samples_split=81, min_samples_leaf=13, max_features=9, max_depth=21, score=nan, total=   0.0s\n",
      "[CV] n_estimators=51, min_samples_split=81, min_samples_leaf=13, max_features=9, max_depth=21 \n",
      "[CV]  n_estimators=51, min_samples_split=81, min_samples_leaf=13, max_features=9, max_depth=21, score=nan, total=   0.0s\n",
      "[CV] n_estimators=51, min_samples_split=81, min_samples_leaf=13, max_features=9, max_depth=21 \n",
      "[CV]  n_estimators=51, min_samples_split=81, min_samples_leaf=13, max_features=9, max_depth=21, score=nan, total=   0.0s\n",
      "[CV] n_estimators=21, min_samples_split=121, min_samples_leaf=5, max_features=3, max_depth=17 \n",
      "[CV]  n_estimators=21, min_samples_split=121, min_samples_leaf=5, max_features=3, max_depth=17, score=0.718, total=   0.0s\n",
      "[CV] n_estimators=21, min_samples_split=121, min_samples_leaf=5, max_features=3, max_depth=17 \n",
      "[CV]  n_estimators=21, min_samples_split=121, min_samples_leaf=5, max_features=3, max_depth=17, score=0.608, total=   0.0s\n",
      "[CV] n_estimators=21, min_samples_split=121, min_samples_leaf=5, max_features=3, max_depth=17 \n",
      "[CV]  n_estimators=21, min_samples_split=121, min_samples_leaf=5, max_features=3, max_depth=17, score=0.628, total=   0.0s\n",
      "[CV] n_estimators=21, min_samples_split=121, min_samples_leaf=5, max_features=3, max_depth=17 \n",
      "[CV]  n_estimators=21, min_samples_split=121, min_samples_leaf=5, max_features=3, max_depth=17, score=0.669, total=   0.0s\n",
      "[CV] n_estimators=21, min_samples_split=121, min_samples_leaf=5, max_features=3, max_depth=17 \n",
      "[CV]  n_estimators=21, min_samples_split=121, min_samples_leaf=5, max_features=3, max_depth=17, score=0.651, total=   0.0s\n",
      "[CV] n_estimators=31, min_samples_split=121, min_samples_leaf=13, max_features=9, max_depth=9 \n",
      "[CV]  n_estimators=31, min_samples_split=121, min_samples_leaf=13, max_features=9, max_depth=9, score=nan, total=   0.0s\n",
      "[CV] n_estimators=31, min_samples_split=121, min_samples_leaf=13, max_features=9, max_depth=9 \n",
      "[CV]  n_estimators=31, min_samples_split=121, min_samples_leaf=13, max_features=9, max_depth=9, score=nan, total=   0.0s\n",
      "[CV] n_estimators=31, min_samples_split=121, min_samples_leaf=13, max_features=9, max_depth=9 \n",
      "[CV]  n_estimators=31, min_samples_split=121, min_samples_leaf=13, max_features=9, max_depth=9, score=nan, total=   0.0s\n",
      "[CV] n_estimators=31, min_samples_split=121, min_samples_leaf=13, max_features=9, max_depth=9 \n",
      "[CV]  n_estimators=31, min_samples_split=121, min_samples_leaf=13, max_features=9, max_depth=9, score=nan, total=   0.0s\n",
      "[CV] n_estimators=31, min_samples_split=121, min_samples_leaf=13, max_features=9, max_depth=9 \n",
      "[CV]  n_estimators=31, min_samples_split=121, min_samples_leaf=13, max_features=9, max_depth=9, score=nan, total=   0.0s\n",
      "[CV] n_estimators=31, min_samples_split=141, min_samples_leaf=11, max_features=1, max_depth=27 \n",
      "[CV]  n_estimators=31, min_samples_split=141, min_samples_leaf=11, max_features=1, max_depth=27, score=0.616, total=   0.0s\n",
      "[CV] n_estimators=31, min_samples_split=141, min_samples_leaf=11, max_features=1, max_depth=27 \n",
      "[CV]  n_estimators=31, min_samples_split=141, min_samples_leaf=11, max_features=1, max_depth=27, score=0.535, total=   0.0s\n",
      "[CV] n_estimators=31, min_samples_split=141, min_samples_leaf=11, max_features=1, max_depth=27 \n",
      "[CV]  n_estimators=31, min_samples_split=141, min_samples_leaf=11, max_features=1, max_depth=27, score=0.552, total=   0.0s\n",
      "[CV] n_estimators=31, min_samples_split=141, min_samples_leaf=11, max_features=1, max_depth=27 \n",
      "[CV]  n_estimators=31, min_samples_split=141, min_samples_leaf=11, max_features=1, max_depth=27, score=0.590, total=   0.0s\n",
      "[CV] n_estimators=31, min_samples_split=141, min_samples_leaf=11, max_features=1, max_depth=27 \n",
      "[CV]  n_estimators=31, min_samples_split=141, min_samples_leaf=11, max_features=1, max_depth=27, score=0.572, total=   0.0s\n",
      "[CV] n_estimators=11, min_samples_split=141, min_samples_leaf=5, max_features=5, max_depth=3 \n",
      "[CV]  n_estimators=11, min_samples_split=141, min_samples_leaf=5, max_features=5, max_depth=3, score=0.650, total=   0.0s\n",
      "[CV] n_estimators=11, min_samples_split=141, min_samples_leaf=5, max_features=5, max_depth=3 \n",
      "[CV]  n_estimators=11, min_samples_split=141, min_samples_leaf=5, max_features=5, max_depth=3, score=0.578, total=   0.0s\n",
      "[CV] n_estimators=11, min_samples_split=141, min_samples_leaf=5, max_features=5, max_depth=3 \n",
      "[CV]  n_estimators=11, min_samples_split=141, min_samples_leaf=5, max_features=5, max_depth=3, score=0.600, total=   0.0s\n",
      "[CV] n_estimators=11, min_samples_split=141, min_samples_leaf=5, max_features=5, max_depth=3 \n",
      "[CV]  n_estimators=11, min_samples_split=141, min_samples_leaf=5, max_features=5, max_depth=3, score=0.668, total=   0.0s\n",
      "[CV] n_estimators=11, min_samples_split=141, min_samples_leaf=5, max_features=5, max_depth=3 \n",
      "[CV]  n_estimators=11, min_samples_split=141, min_samples_leaf=5, max_features=5, max_depth=3, score=0.540, total=   0.0s\n",
      "[CV] n_estimators=21, min_samples_split=121, min_samples_leaf=9, max_features=3, max_depth=27 \n",
      "[CV]  n_estimators=21, min_samples_split=121, min_samples_leaf=9, max_features=3, max_depth=27, score=0.709, total=   0.0s\n",
      "[CV] n_estimators=21, min_samples_split=121, min_samples_leaf=9, max_features=3, max_depth=27 \n"
     ]
    },
    {
     "name": "stdout",
     "output_type": "stream",
     "text": [
      "[CV]  n_estimators=21, min_samples_split=121, min_samples_leaf=9, max_features=3, max_depth=27, score=0.631, total=   0.0s\n",
      "[CV] n_estimators=21, min_samples_split=121, min_samples_leaf=9, max_features=3, max_depth=27 \n",
      "[CV]  n_estimators=21, min_samples_split=121, min_samples_leaf=9, max_features=3, max_depth=27, score=0.641, total=   0.0s\n",
      "[CV] n_estimators=21, min_samples_split=121, min_samples_leaf=9, max_features=3, max_depth=27 \n",
      "[CV]  n_estimators=21, min_samples_split=121, min_samples_leaf=9, max_features=3, max_depth=27, score=0.690, total=   0.0s\n",
      "[CV] n_estimators=21, min_samples_split=121, min_samples_leaf=9, max_features=3, max_depth=27 \n",
      "[CV]  n_estimators=21, min_samples_split=121, min_samples_leaf=9, max_features=3, max_depth=27, score=0.665, total=   0.0s\n",
      "[CV] n_estimators=61, min_samples_split=1, min_samples_leaf=5, max_features=9, max_depth=19 \n",
      "[CV]  n_estimators=61, min_samples_split=1, min_samples_leaf=5, max_features=9, max_depth=19, score=nan, total=   0.0s\n",
      "[CV] n_estimators=61, min_samples_split=1, min_samples_leaf=5, max_features=9, max_depth=19 \n",
      "[CV]  n_estimators=61, min_samples_split=1, min_samples_leaf=5, max_features=9, max_depth=19, score=nan, total=   0.0s\n",
      "[CV] n_estimators=61, min_samples_split=1, min_samples_leaf=5, max_features=9, max_depth=19 \n",
      "[CV]  n_estimators=61, min_samples_split=1, min_samples_leaf=5, max_features=9, max_depth=19, score=nan, total=   0.0s\n",
      "[CV] n_estimators=61, min_samples_split=1, min_samples_leaf=5, max_features=9, max_depth=19 \n",
      "[CV]  n_estimators=61, min_samples_split=1, min_samples_leaf=5, max_features=9, max_depth=19, score=nan, total=   0.0s\n",
      "[CV] n_estimators=61, min_samples_split=1, min_samples_leaf=5, max_features=9, max_depth=19 \n",
      "[CV]  n_estimators=61, min_samples_split=1, min_samples_leaf=5, max_features=9, max_depth=19, score=nan, total=   0.0s\n",
      "[CV] n_estimators=91, min_samples_split=1, min_samples_leaf=5, max_features=5, max_depth=27 \n",
      "[CV]  n_estimators=91, min_samples_split=1, min_samples_leaf=5, max_features=5, max_depth=27, score=nan, total=   0.0s\n",
      "[CV] n_estimators=91, min_samples_split=1, min_samples_leaf=5, max_features=5, max_depth=27 \n",
      "[CV]  n_estimators=91, min_samples_split=1, min_samples_leaf=5, max_features=5, max_depth=27, score=nan, total=   0.0s\n",
      "[CV] n_estimators=91, min_samples_split=1, min_samples_leaf=5, max_features=5, max_depth=27 \n",
      "[CV]  n_estimators=91, min_samples_split=1, min_samples_leaf=5, max_features=5, max_depth=27, score=nan, total=   0.0s\n",
      "[CV] n_estimators=91, min_samples_split=1, min_samples_leaf=5, max_features=5, max_depth=27 \n",
      "[CV]  n_estimators=91, min_samples_split=1, min_samples_leaf=5, max_features=5, max_depth=27, score=nan, total=   0.1s\n",
      "[CV] n_estimators=91, min_samples_split=1, min_samples_leaf=5, max_features=5, max_depth=27 \n",
      "[CV]  n_estimators=91, min_samples_split=1, min_samples_leaf=5, max_features=5, max_depth=27, score=nan, total=   0.1s\n",
      "[CV] n_estimators=71, min_samples_split=81, min_samples_leaf=3, max_features=3, max_depth=29 \n",
      "[CV]  n_estimators=71, min_samples_split=81, min_samples_leaf=3, max_features=3, max_depth=29, score=0.803, total=   0.1s\n",
      "[CV] n_estimators=71, min_samples_split=81, min_samples_leaf=3, max_features=3, max_depth=29 \n",
      "[CV]  n_estimators=71, min_samples_split=81, min_samples_leaf=3, max_features=3, max_depth=29, score=0.773, total=   0.1s\n",
      "[CV] n_estimators=71, min_samples_split=81, min_samples_leaf=3, max_features=3, max_depth=29 \n",
      "[CV]  n_estimators=71, min_samples_split=81, min_samples_leaf=3, max_features=3, max_depth=29, score=0.791, total=   0.1s\n",
      "[CV] n_estimators=71, min_samples_split=81, min_samples_leaf=3, max_features=3, max_depth=29 \n",
      "[CV]  n_estimators=71, min_samples_split=81, min_samples_leaf=3, max_features=3, max_depth=29, score=0.775, total=   0.1s\n",
      "[CV] n_estimators=71, min_samples_split=81, min_samples_leaf=3, max_features=3, max_depth=29 \n",
      "[CV]  n_estimators=71, min_samples_split=81, min_samples_leaf=3, max_features=3, max_depth=29, score=0.791, total=   0.1s\n",
      "[CV] n_estimators=11, min_samples_split=1, min_samples_leaf=15, max_features=3, max_depth=25 \n",
      "[CV]  n_estimators=11, min_samples_split=1, min_samples_leaf=15, max_features=3, max_depth=25, score=nan, total=   0.0s\n",
      "[CV] n_estimators=11, min_samples_split=1, min_samples_leaf=15, max_features=3, max_depth=25 \n",
      "[CV]  n_estimators=11, min_samples_split=1, min_samples_leaf=15, max_features=3, max_depth=25, score=nan, total=   0.0s\n",
      "[CV] n_estimators=11, min_samples_split=1, min_samples_leaf=15, max_features=3, max_depth=25 \n",
      "[CV]  n_estimators=11, min_samples_split=1, min_samples_leaf=15, max_features=3, max_depth=25, score=nan, total=   0.0s\n",
      "[CV] n_estimators=11, min_samples_split=1, min_samples_leaf=15, max_features=3, max_depth=25 \n",
      "[CV]  n_estimators=11, min_samples_split=1, min_samples_leaf=15, max_features=3, max_depth=25, score=nan, total=   0.0s\n",
      "[CV] n_estimators=11, min_samples_split=1, min_samples_leaf=15, max_features=3, max_depth=25 \n",
      "[CV]  n_estimators=11, min_samples_split=1, min_samples_leaf=15, max_features=3, max_depth=25, score=nan, total=   0.0s\n",
      "[CV] n_estimators=1, min_samples_split=101, min_samples_leaf=19, max_features=3, max_depth=25 \n",
      "[CV]  n_estimators=1, min_samples_split=101, min_samples_leaf=19, max_features=3, max_depth=25, score=0.407, total=   0.0s\n",
      "[CV] n_estimators=1, min_samples_split=101, min_samples_leaf=19, max_features=3, max_depth=25 \n",
      "[CV]  n_estimators=1, min_samples_split=101, min_samples_leaf=19, max_features=3, max_depth=25, score=0.545, total=   0.0s\n",
      "[CV] n_estimators=1, min_samples_split=101, min_samples_leaf=19, max_features=3, max_depth=25 \n",
      "[CV]  n_estimators=1, min_samples_split=101, min_samples_leaf=19, max_features=3, max_depth=25, score=0.605, total=   0.0s\n",
      "[CV] n_estimators=1, min_samples_split=101, min_samples_leaf=19, max_features=3, max_depth=25 \n",
      "[CV]  n_estimators=1, min_samples_split=101, min_samples_leaf=19, max_features=3, max_depth=25, score=0.619, total=   0.0s\n",
      "[CV] n_estimators=1, min_samples_split=101, min_samples_leaf=19, max_features=3, max_depth=25 \n",
      "[CV]  n_estimators=1, min_samples_split=101, min_samples_leaf=19, max_features=3, max_depth=25, score=0.424, total=   0.0s\n",
      "[CV] n_estimators=71, min_samples_split=81, min_samples_leaf=1, max_features=3, max_depth=21 \n",
      "[CV]  n_estimators=71, min_samples_split=81, min_samples_leaf=1, max_features=3, max_depth=21, score=0.794, total=   0.1s\n",
      "[CV] n_estimators=71, min_samples_split=81, min_samples_leaf=1, max_features=3, max_depth=21 \n",
      "[CV]  n_estimators=71, min_samples_split=81, min_samples_leaf=1, max_features=3, max_depth=21, score=0.766, total=   0.1s\n",
      "[CV] n_estimators=71, min_samples_split=81, min_samples_leaf=1, max_features=3, max_depth=21 \n",
      "[CV]  n_estimators=71, min_samples_split=81, min_samples_leaf=1, max_features=3, max_depth=21, score=0.805, total=   0.1s\n",
      "[CV] n_estimators=71, min_samples_split=81, min_samples_leaf=1, max_features=3, max_depth=21 \n",
      "[CV]  n_estimators=71, min_samples_split=81, min_samples_leaf=1, max_features=3, max_depth=21, score=0.764, total=   0.1s\n",
      "[CV] n_estimators=71, min_samples_split=81, min_samples_leaf=1, max_features=3, max_depth=21 \n",
      "[CV]  n_estimators=71, min_samples_split=81, min_samples_leaf=1, max_features=3, max_depth=21, score=0.801, total=   0.1s\n",
      "[CV] n_estimators=61, min_samples_split=101, min_samples_leaf=3, max_features=7, max_depth=27 \n",
      "[CV]  n_estimators=61, min_samples_split=101, min_samples_leaf=3, max_features=7, max_depth=27, score=0.712, total=   0.1s\n",
      "[CV] n_estimators=61, min_samples_split=101, min_samples_leaf=3, max_features=7, max_depth=27 \n",
      "[CV]  n_estimators=61, min_samples_split=101, min_samples_leaf=3, max_features=7, max_depth=27, score=0.712, total=   0.1s\n",
      "[CV] n_estimators=61, min_samples_split=101, min_samples_leaf=3, max_features=7, max_depth=27 \n",
      "[CV]  n_estimators=61, min_samples_split=101, min_samples_leaf=3, max_features=7, max_depth=27, score=0.730, total=   0.1s\n",
      "[CV] n_estimators=61, min_samples_split=101, min_samples_leaf=3, max_features=7, max_depth=27 \n",
      "[CV]  n_estimators=61, min_samples_split=101, min_samples_leaf=3, max_features=7, max_depth=27, score=0.731, total=   0.1s\n",
      "[CV] n_estimators=61, min_samples_split=101, min_samples_leaf=3, max_features=7, max_depth=27 \n",
      "[CV]  n_estimators=61, min_samples_split=101, min_samples_leaf=3, max_features=7, max_depth=27, score=0.725, total=   0.1s\n",
      "[CV] n_estimators=1, min_samples_split=41, min_samples_leaf=17, max_features=3, max_depth=21 \n",
      "[CV]  n_estimators=1, min_samples_split=41, min_samples_leaf=17, max_features=3, max_depth=21, score=0.651, total=   0.0s\n",
      "[CV] n_estimators=1, min_samples_split=41, min_samples_leaf=17, max_features=3, max_depth=21 \n",
      "[CV]  n_estimators=1, min_samples_split=41, min_samples_leaf=17, max_features=3, max_depth=21, score=0.758, total=   0.0s\n",
      "[CV] n_estimators=1, min_samples_split=41, min_samples_leaf=17, max_features=3, max_depth=21 \n",
      "[CV]  n_estimators=1, min_samples_split=41, min_samples_leaf=17, max_features=3, max_depth=21, score=0.722, total=   0.0s\n",
      "[CV] n_estimators=1, min_samples_split=41, min_samples_leaf=17, max_features=3, max_depth=21 \n",
      "[CV]  n_estimators=1, min_samples_split=41, min_samples_leaf=17, max_features=3, max_depth=21, score=0.694, total=   0.0s\n",
      "[CV] n_estimators=1, min_samples_split=41, min_samples_leaf=17, max_features=3, max_depth=21 \n",
      "[CV]  n_estimators=1, min_samples_split=41, min_samples_leaf=17, max_features=3, max_depth=21, score=0.723, total=   0.0s\n",
      "[CV] n_estimators=71, min_samples_split=161, min_samples_leaf=5, max_features=3, max_depth=15 \n"
     ]
    },
    {
     "name": "stdout",
     "output_type": "stream",
     "text": [
      "[CV]  n_estimators=71, min_samples_split=161, min_samples_leaf=5, max_features=3, max_depth=15, score=0.665, total=   0.1s\n",
      "[CV] n_estimators=71, min_samples_split=161, min_samples_leaf=5, max_features=3, max_depth=15 \n",
      "[CV]  n_estimators=71, min_samples_split=161, min_samples_leaf=5, max_features=3, max_depth=15, score=0.585, total=   0.1s\n",
      "[CV] n_estimators=71, min_samples_split=161, min_samples_leaf=5, max_features=3, max_depth=15 \n",
      "[CV]  n_estimators=71, min_samples_split=161, min_samples_leaf=5, max_features=3, max_depth=15, score=0.596, total=   0.1s\n",
      "[CV] n_estimators=71, min_samples_split=161, min_samples_leaf=5, max_features=3, max_depth=15 \n",
      "[CV]  n_estimators=71, min_samples_split=161, min_samples_leaf=5, max_features=3, max_depth=15, score=0.658, total=   0.1s\n",
      "[CV] n_estimators=71, min_samples_split=161, min_samples_leaf=5, max_features=3, max_depth=15 \n",
      "[CV]  n_estimators=71, min_samples_split=161, min_samples_leaf=5, max_features=3, max_depth=15, score=0.580, total=   0.1s\n",
      "[CV] n_estimators=31, min_samples_split=41, min_samples_leaf=13, max_features=7, max_depth=21 \n",
      "[CV]  n_estimators=31, min_samples_split=41, min_samples_leaf=13, max_features=7, max_depth=21, score=0.804, total=   0.0s\n",
      "[CV] n_estimators=31, min_samples_split=41, min_samples_leaf=13, max_features=7, max_depth=21 \n",
      "[CV]  n_estimators=31, min_samples_split=41, min_samples_leaf=13, max_features=7, max_depth=21, score=0.816, total=   0.0s\n",
      "[CV] n_estimators=31, min_samples_split=41, min_samples_leaf=13, max_features=7, max_depth=21 \n",
      "[CV]  n_estimators=31, min_samples_split=41, min_samples_leaf=13, max_features=7, max_depth=21, score=0.794, total=   0.1s\n",
      "[CV] n_estimators=31, min_samples_split=41, min_samples_leaf=13, max_features=7, max_depth=21 \n",
      "[CV]  n_estimators=31, min_samples_split=41, min_samples_leaf=13, max_features=7, max_depth=21, score=0.779, total=   0.0s\n",
      "[CV] n_estimators=31, min_samples_split=41, min_samples_leaf=13, max_features=7, max_depth=21 \n",
      "[CV]  n_estimators=31, min_samples_split=41, min_samples_leaf=13, max_features=7, max_depth=21, score=0.789, total=   0.0s\n",
      "[CV] n_estimators=51, min_samples_split=121, min_samples_leaf=9, max_features=3, max_depth=3 \n",
      "[CV]  n_estimators=51, min_samples_split=121, min_samples_leaf=9, max_features=3, max_depth=3, score=0.690, total=   0.1s\n",
      "[CV] n_estimators=51, min_samples_split=121, min_samples_leaf=9, max_features=3, max_depth=3 \n",
      "[CV]  n_estimators=51, min_samples_split=121, min_samples_leaf=9, max_features=3, max_depth=3, score=0.634, total=   0.1s\n",
      "[CV] n_estimators=51, min_samples_split=121, min_samples_leaf=9, max_features=3, max_depth=3 \n",
      "[CV]  n_estimators=51, min_samples_split=121, min_samples_leaf=9, max_features=3, max_depth=3, score=0.664, total=   0.1s\n",
      "[CV] n_estimators=51, min_samples_split=121, min_samples_leaf=9, max_features=3, max_depth=3 \n",
      "[CV]  n_estimators=51, min_samples_split=121, min_samples_leaf=9, max_features=3, max_depth=3, score=0.668, total=   0.1s\n",
      "[CV] n_estimators=51, min_samples_split=121, min_samples_leaf=9, max_features=3, max_depth=3 \n",
      "[CV]  n_estimators=51, min_samples_split=121, min_samples_leaf=9, max_features=3, max_depth=3, score=0.644, total=   0.1s\n",
      "[CV] n_estimators=51, min_samples_split=81, min_samples_leaf=7, max_features=1, max_depth=17 \n",
      "[CV]  n_estimators=51, min_samples_split=81, min_samples_leaf=7, max_features=1, max_depth=17, score=0.739, total=   0.1s\n",
      "[CV] n_estimators=51, min_samples_split=81, min_samples_leaf=7, max_features=1, max_depth=17 \n",
      "[CV]  n_estimators=51, min_samples_split=81, min_samples_leaf=7, max_features=1, max_depth=17, score=0.686, total=   0.1s\n",
      "[CV] n_estimators=51, min_samples_split=81, min_samples_leaf=7, max_features=1, max_depth=17 \n",
      "[CV]  n_estimators=51, min_samples_split=81, min_samples_leaf=7, max_features=1, max_depth=17, score=0.687, total=   0.1s\n",
      "[CV] n_estimators=51, min_samples_split=81, min_samples_leaf=7, max_features=1, max_depth=17 \n",
      "[CV]  n_estimators=51, min_samples_split=81, min_samples_leaf=7, max_features=1, max_depth=17, score=0.736, total=   0.1s\n",
      "[CV] n_estimators=51, min_samples_split=81, min_samples_leaf=7, max_features=1, max_depth=17 \n",
      "[CV]  n_estimators=51, min_samples_split=81, min_samples_leaf=7, max_features=1, max_depth=17, score=0.742, total=   0.1s\n",
      "[CV] n_estimators=81, min_samples_split=161, min_samples_leaf=13, max_features=7, max_depth=3 \n",
      "[CV]  n_estimators=81, min_samples_split=161, min_samples_leaf=13, max_features=7, max_depth=3, score=0.668, total=   0.1s\n",
      "[CV] n_estimators=81, min_samples_split=161, min_samples_leaf=13, max_features=7, max_depth=3 \n",
      "[CV]  n_estimators=81, min_samples_split=161, min_samples_leaf=13, max_features=7, max_depth=3, score=0.573, total=   0.1s\n",
      "[CV] n_estimators=81, min_samples_split=161, min_samples_leaf=13, max_features=7, max_depth=3 \n",
      "[CV]  n_estimators=81, min_samples_split=161, min_samples_leaf=13, max_features=7, max_depth=3, score=0.593, total=   0.1s\n",
      "[CV] n_estimators=81, min_samples_split=161, min_samples_leaf=13, max_features=7, max_depth=3 \n",
      "[CV]  n_estimators=81, min_samples_split=161, min_samples_leaf=13, max_features=7, max_depth=3, score=0.634, total=   0.1s\n",
      "[CV] n_estimators=81, min_samples_split=161, min_samples_leaf=13, max_features=7, max_depth=3 \n",
      "[CV]  n_estimators=81, min_samples_split=161, min_samples_leaf=13, max_features=7, max_depth=3, score=0.528, total=   0.1s\n",
      "[CV] n_estimators=91, min_samples_split=81, min_samples_leaf=13, max_features=7, max_depth=11 \n",
      "[CV]  n_estimators=91, min_samples_split=81, min_samples_leaf=13, max_features=7, max_depth=11, score=0.767, total=   0.1s\n",
      "[CV] n_estimators=91, min_samples_split=81, min_samples_leaf=13, max_features=7, max_depth=11 \n",
      "[CV]  n_estimators=91, min_samples_split=81, min_samples_leaf=13, max_features=7, max_depth=11, score=0.791, total=   0.1s\n",
      "[CV] n_estimators=91, min_samples_split=81, min_samples_leaf=13, max_features=7, max_depth=11 \n",
      "[CV]  n_estimators=91, min_samples_split=81, min_samples_leaf=13, max_features=7, max_depth=11, score=0.766, total=   0.1s\n",
      "[CV] n_estimators=91, min_samples_split=81, min_samples_leaf=13, max_features=7, max_depth=11 \n",
      "[CV]  n_estimators=91, min_samples_split=81, min_samples_leaf=13, max_features=7, max_depth=11, score=0.771, total=   0.1s\n",
      "[CV] n_estimators=91, min_samples_split=81, min_samples_leaf=13, max_features=7, max_depth=11 \n",
      "[CV]  n_estimators=91, min_samples_split=81, min_samples_leaf=13, max_features=7, max_depth=11, score=0.782, total=   0.1s\n",
      "[CV] n_estimators=71, min_samples_split=121, min_samples_leaf=19, max_features=3, max_depth=11 \n",
      "[CV]  n_estimators=71, min_samples_split=121, min_samples_leaf=19, max_features=3, max_depth=11, score=0.697, total=   0.1s\n",
      "[CV] n_estimators=71, min_samples_split=121, min_samples_leaf=19, max_features=3, max_depth=11 \n",
      "[CV]  n_estimators=71, min_samples_split=121, min_samples_leaf=19, max_features=3, max_depth=11, score=0.610, total=   0.1s\n",
      "[CV] n_estimators=71, min_samples_split=121, min_samples_leaf=19, max_features=3, max_depth=11 \n",
      "[CV]  n_estimators=71, min_samples_split=121, min_samples_leaf=19, max_features=3, max_depth=11, score=0.664, total=   0.1s\n",
      "[CV] n_estimators=71, min_samples_split=121, min_samples_leaf=19, max_features=3, max_depth=11 \n",
      "[CV]  n_estimators=71, min_samples_split=121, min_samples_leaf=19, max_features=3, max_depth=11, score=0.683, total=   0.1s\n",
      "[CV] n_estimators=71, min_samples_split=121, min_samples_leaf=19, max_features=3, max_depth=11 \n",
      "[CV]  n_estimators=71, min_samples_split=121, min_samples_leaf=19, max_features=3, max_depth=11, score=0.664, total=   0.1s\n",
      "[CV] n_estimators=61, min_samples_split=181, min_samples_leaf=1, max_features=7, max_depth=3 \n",
      "[CV]  n_estimators=61, min_samples_split=181, min_samples_leaf=1, max_features=7, max_depth=3, score=0.655, total=   0.1s\n",
      "[CV] n_estimators=61, min_samples_split=181, min_samples_leaf=1, max_features=7, max_depth=3 \n",
      "[CV]  n_estimators=61, min_samples_split=181, min_samples_leaf=1, max_features=7, max_depth=3, score=0.568, total=   0.1s\n",
      "[CV] n_estimators=61, min_samples_split=181, min_samples_leaf=1, max_features=7, max_depth=3 \n",
      "[CV]  n_estimators=61, min_samples_split=181, min_samples_leaf=1, max_features=7, max_depth=3, score=0.597, total=   0.1s\n",
      "[CV] n_estimators=61, min_samples_split=181, min_samples_leaf=1, max_features=7, max_depth=3 \n"
     ]
    },
    {
     "name": "stdout",
     "output_type": "stream",
     "text": [
      "[CV]  n_estimators=61, min_samples_split=181, min_samples_leaf=1, max_features=7, max_depth=3, score=0.642, total=   0.1s\n",
      "[CV] n_estimators=61, min_samples_split=181, min_samples_leaf=1, max_features=7, max_depth=3 \n",
      "[CV]  n_estimators=61, min_samples_split=181, min_samples_leaf=1, max_features=7, max_depth=3, score=0.532, total=   0.1s\n",
      "[CV] n_estimators=11, min_samples_split=21, min_samples_leaf=3, max_features=5, max_depth=11 \n",
      "[CV]  n_estimators=11, min_samples_split=21, min_samples_leaf=3, max_features=5, max_depth=11, score=0.821, total=   0.0s\n",
      "[CV] n_estimators=11, min_samples_split=21, min_samples_leaf=3, max_features=5, max_depth=11 \n",
      "[CV]  n_estimators=11, min_samples_split=21, min_samples_leaf=3, max_features=5, max_depth=11, score=0.808, total=   0.0s\n",
      "[CV] n_estimators=11, min_samples_split=21, min_samples_leaf=3, max_features=5, max_depth=11 \n",
      "[CV]  n_estimators=11, min_samples_split=21, min_samples_leaf=3, max_features=5, max_depth=11, score=0.830, total=   0.0s\n",
      "[CV] n_estimators=11, min_samples_split=21, min_samples_leaf=3, max_features=5, max_depth=11 \n",
      "[CV]  n_estimators=11, min_samples_split=21, min_samples_leaf=3, max_features=5, max_depth=11, score=0.749, total=   0.0s\n",
      "[CV] n_estimators=11, min_samples_split=21, min_samples_leaf=3, max_features=5, max_depth=11 \n",
      "[CV]  n_estimators=11, min_samples_split=21, min_samples_leaf=3, max_features=5, max_depth=11, score=0.804, total=   0.0s\n",
      "[CV] n_estimators=31, min_samples_split=121, min_samples_leaf=1, max_features=3, max_depth=15 \n",
      "[CV]  n_estimators=31, min_samples_split=121, min_samples_leaf=1, max_features=3, max_depth=15, score=0.682, total=   0.0s\n",
      "[CV] n_estimators=31, min_samples_split=121, min_samples_leaf=1, max_features=3, max_depth=15 \n",
      "[CV]  n_estimators=31, min_samples_split=121, min_samples_leaf=1, max_features=3, max_depth=15, score=0.603, total=   0.0s\n",
      "[CV] n_estimators=31, min_samples_split=121, min_samples_leaf=1, max_features=3, max_depth=15 \n",
      "[CV]  n_estimators=31, min_samples_split=121, min_samples_leaf=1, max_features=3, max_depth=15, score=0.651, total=   0.0s\n",
      "[CV] n_estimators=31, min_samples_split=121, min_samples_leaf=1, max_features=3, max_depth=15 \n",
      "[CV]  n_estimators=31, min_samples_split=121, min_samples_leaf=1, max_features=3, max_depth=15, score=0.660, total=   0.0s\n",
      "[CV] n_estimators=31, min_samples_split=121, min_samples_leaf=1, max_features=3, max_depth=15 \n",
      "[CV]  n_estimators=31, min_samples_split=121, min_samples_leaf=1, max_features=3, max_depth=15, score=0.636, total=   0.0s\n",
      "[CV] n_estimators=51, min_samples_split=81, min_samples_leaf=9, max_features=3, max_depth=5 \n",
      "[CV]  n_estimators=51, min_samples_split=81, min_samples_leaf=9, max_features=3, max_depth=5, score=0.790, total=   0.1s\n",
      "[CV] n_estimators=51, min_samples_split=81, min_samples_leaf=9, max_features=3, max_depth=5 \n",
      "[CV]  n_estimators=51, min_samples_split=81, min_samples_leaf=9, max_features=3, max_depth=5, score=0.752, total=   0.1s\n",
      "[CV] n_estimators=51, min_samples_split=81, min_samples_leaf=9, max_features=3, max_depth=5 \n",
      "[CV]  n_estimators=51, min_samples_split=81, min_samples_leaf=9, max_features=3, max_depth=5, score=0.798, total=   0.1s\n",
      "[CV] n_estimators=51, min_samples_split=81, min_samples_leaf=9, max_features=3, max_depth=5 \n",
      "[CV]  n_estimators=51, min_samples_split=81, min_samples_leaf=9, max_features=3, max_depth=5, score=0.760, total=   0.1s\n",
      "[CV] n_estimators=51, min_samples_split=81, min_samples_leaf=9, max_features=3, max_depth=5 \n",
      "[CV]  n_estimators=51, min_samples_split=81, min_samples_leaf=9, max_features=3, max_depth=5, score=0.807, total=   0.1s\n",
      "[CV] n_estimators=91, min_samples_split=41, min_samples_leaf=13, max_features=5, max_depth=19 \n",
      "[CV]  n_estimators=91, min_samples_split=41, min_samples_leaf=13, max_features=5, max_depth=19, score=0.814, total=   0.1s\n",
      "[CV] n_estimators=91, min_samples_split=41, min_samples_leaf=13, max_features=5, max_depth=19 \n",
      "[CV]  n_estimators=91, min_samples_split=41, min_samples_leaf=13, max_features=5, max_depth=19, score=0.810, total=   0.1s\n",
      "[CV] n_estimators=91, min_samples_split=41, min_samples_leaf=13, max_features=5, max_depth=19 \n",
      "[CV]  n_estimators=91, min_samples_split=41, min_samples_leaf=13, max_features=5, max_depth=19, score=0.813, total=   0.1s\n",
      "[CV] n_estimators=91, min_samples_split=41, min_samples_leaf=13, max_features=5, max_depth=19 \n",
      "[CV]  n_estimators=91, min_samples_split=41, min_samples_leaf=13, max_features=5, max_depth=19, score=0.774, total=   0.1s\n",
      "[CV] n_estimators=91, min_samples_split=41, min_samples_leaf=13, max_features=5, max_depth=19 \n",
      "[CV]  n_estimators=91, min_samples_split=41, min_samples_leaf=13, max_features=5, max_depth=19, score=0.809, total=   0.1s\n",
      "[CV] n_estimators=31, min_samples_split=161, min_samples_leaf=9, max_features=7, max_depth=17 \n",
      "[CV]  n_estimators=31, min_samples_split=161, min_samples_leaf=9, max_features=7, max_depth=17, score=0.663, total=   0.0s\n",
      "[CV] n_estimators=31, min_samples_split=161, min_samples_leaf=9, max_features=7, max_depth=17 \n",
      "[CV]  n_estimators=31, min_samples_split=161, min_samples_leaf=9, max_features=7, max_depth=17, score=0.576, total=   0.0s\n",
      "[CV] n_estimators=31, min_samples_split=161, min_samples_leaf=9, max_features=7, max_depth=17 \n",
      "[CV]  n_estimators=31, min_samples_split=161, min_samples_leaf=9, max_features=7, max_depth=17, score=0.599, total=   0.0s\n",
      "[CV] n_estimators=31, min_samples_split=161, min_samples_leaf=9, max_features=7, max_depth=17 \n",
      "[CV]  n_estimators=31, min_samples_split=161, min_samples_leaf=9, max_features=7, max_depth=17, score=0.654, total=   0.0s\n",
      "[CV] n_estimators=31, min_samples_split=161, min_samples_leaf=9, max_features=7, max_depth=17 \n",
      "[CV]  n_estimators=31, min_samples_split=161, min_samples_leaf=9, max_features=7, max_depth=17, score=0.504, total=   0.0s\n",
      "[CV] n_estimators=21, min_samples_split=101, min_samples_leaf=5, max_features=9, max_depth=9 \n",
      "[CV]  n_estimators=21, min_samples_split=101, min_samples_leaf=5, max_features=9, max_depth=9, score=nan, total=   0.0s\n",
      "[CV] n_estimators=21, min_samples_split=101, min_samples_leaf=5, max_features=9, max_depth=9 \n",
      "[CV]  n_estimators=21, min_samples_split=101, min_samples_leaf=5, max_features=9, max_depth=9, score=nan, total=   0.0s\n",
      "[CV] n_estimators=21, min_samples_split=101, min_samples_leaf=5, max_features=9, max_depth=9 \n",
      "[CV]  n_estimators=21, min_samples_split=101, min_samples_leaf=5, max_features=9, max_depth=9, score=nan, total=   0.0s\n",
      "[CV] n_estimators=21, min_samples_split=101, min_samples_leaf=5, max_features=9, max_depth=9 \n",
      "[CV]  n_estimators=21, min_samples_split=101, min_samples_leaf=5, max_features=9, max_depth=9, score=nan, total=   0.0s\n",
      "[CV] n_estimators=21, min_samples_split=101, min_samples_leaf=5, max_features=9, max_depth=9 \n",
      "[CV]  n_estimators=21, min_samples_split=101, min_samples_leaf=5, max_features=9, max_depth=9, score=nan, total=   0.0s\n",
      "[CV] n_estimators=21, min_samples_split=101, min_samples_leaf=9, max_features=5, max_depth=9 \n",
      "[CV]  n_estimators=21, min_samples_split=101, min_samples_leaf=9, max_features=5, max_depth=9, score=0.719, total=   0.0s\n",
      "[CV] n_estimators=21, min_samples_split=101, min_samples_leaf=9, max_features=5, max_depth=9 \n",
      "[CV]  n_estimators=21, min_samples_split=101, min_samples_leaf=9, max_features=5, max_depth=9, score=0.731, total=   0.0s\n",
      "[CV] n_estimators=21, min_samples_split=101, min_samples_leaf=9, max_features=5, max_depth=9 \n",
      "[CV]  n_estimators=21, min_samples_split=101, min_samples_leaf=9, max_features=5, max_depth=9, score=0.750, total=   0.0s\n",
      "[CV] n_estimators=21, min_samples_split=101, min_samples_leaf=9, max_features=5, max_depth=9 \n",
      "[CV]  n_estimators=21, min_samples_split=101, min_samples_leaf=9, max_features=5, max_depth=9, score=0.718, total=   0.0s\n",
      "[CV] n_estimators=21, min_samples_split=101, min_samples_leaf=9, max_features=5, max_depth=9 \n",
      "[CV]  n_estimators=21, min_samples_split=101, min_samples_leaf=9, max_features=5, max_depth=9, score=0.731, total=   0.0s\n",
      "[CV] n_estimators=21, min_samples_split=141, min_samples_leaf=5, max_features=7, max_depth=19 \n",
      "[CV]  n_estimators=21, min_samples_split=141, min_samples_leaf=5, max_features=7, max_depth=19, score=0.673, total=   0.0s\n",
      "[CV] n_estimators=21, min_samples_split=141, min_samples_leaf=5, max_features=7, max_depth=19 \n",
      "[CV]  n_estimators=21, min_samples_split=141, min_samples_leaf=5, max_features=7, max_depth=19, score=0.572, total=   0.0s\n",
      "[CV] n_estimators=21, min_samples_split=141, min_samples_leaf=5, max_features=7, max_depth=19 \n",
      "[CV]  n_estimators=21, min_samples_split=141, min_samples_leaf=5, max_features=7, max_depth=19, score=0.610, total=   0.0s\n",
      "[CV] n_estimators=21, min_samples_split=141, min_samples_leaf=5, max_features=7, max_depth=19 \n",
      "[CV]  n_estimators=21, min_samples_split=141, min_samples_leaf=5, max_features=7, max_depth=19, score=0.614, total=   0.0s\n",
      "[CV] n_estimators=21, min_samples_split=141, min_samples_leaf=5, max_features=7, max_depth=19 \n"
     ]
    },
    {
     "name": "stdout",
     "output_type": "stream",
     "text": [
      "[CV]  n_estimators=21, min_samples_split=141, min_samples_leaf=5, max_features=7, max_depth=19, score=0.537, total=   0.0s\n",
      "[CV] n_estimators=71, min_samples_split=81, min_samples_leaf=1, max_features=1, max_depth=7 \n",
      "[CV]  n_estimators=71, min_samples_split=81, min_samples_leaf=1, max_features=1, max_depth=7, score=0.740, total=   0.1s\n",
      "[CV] n_estimators=71, min_samples_split=81, min_samples_leaf=1, max_features=1, max_depth=7 \n",
      "[CV]  n_estimators=71, min_samples_split=81, min_samples_leaf=1, max_features=1, max_depth=7, score=0.683, total=   0.1s\n",
      "[CV] n_estimators=71, min_samples_split=81, min_samples_leaf=1, max_features=1, max_depth=7 \n",
      "[CV]  n_estimators=71, min_samples_split=81, min_samples_leaf=1, max_features=1, max_depth=7, score=0.690, total=   0.1s\n",
      "[CV] n_estimators=71, min_samples_split=81, min_samples_leaf=1, max_features=1, max_depth=7 \n",
      "[CV]  n_estimators=71, min_samples_split=81, min_samples_leaf=1, max_features=1, max_depth=7, score=0.752, total=   0.1s\n",
      "[CV] n_estimators=71, min_samples_split=81, min_samples_leaf=1, max_features=1, max_depth=7 \n",
      "[CV]  n_estimators=71, min_samples_split=81, min_samples_leaf=1, max_features=1, max_depth=7, score=0.735, total=   0.1s\n",
      "[CV] n_estimators=81, min_samples_split=81, min_samples_leaf=7, max_features=3, max_depth=25 \n",
      "[CV]  n_estimators=81, min_samples_split=81, min_samples_leaf=7, max_features=3, max_depth=25, score=0.794, total=   0.1s\n",
      "[CV] n_estimators=81, min_samples_split=81, min_samples_leaf=7, max_features=3, max_depth=25 \n",
      "[CV]  n_estimators=81, min_samples_split=81, min_samples_leaf=7, max_features=3, max_depth=25, score=0.774, total=   0.1s\n",
      "[CV] n_estimators=81, min_samples_split=81, min_samples_leaf=7, max_features=3, max_depth=25 \n",
      "[CV]  n_estimators=81, min_samples_split=81, min_samples_leaf=7, max_features=3, max_depth=25, score=0.797, total=   0.1s\n",
      "[CV] n_estimators=81, min_samples_split=81, min_samples_leaf=7, max_features=3, max_depth=25 \n",
      "[CV]  n_estimators=81, min_samples_split=81, min_samples_leaf=7, max_features=3, max_depth=25, score=0.779, total=   0.1s\n",
      "[CV] n_estimators=81, min_samples_split=81, min_samples_leaf=7, max_features=3, max_depth=25 \n",
      "[CV]  n_estimators=81, min_samples_split=81, min_samples_leaf=7, max_features=3, max_depth=25, score=0.800, total=   0.1s\n",
      "[CV] n_estimators=91, min_samples_split=41, min_samples_leaf=13, max_features=3, max_depth=27 \n",
      "[CV]  n_estimators=91, min_samples_split=41, min_samples_leaf=13, max_features=3, max_depth=27, score=0.822, total=   0.1s\n",
      "[CV] n_estimators=91, min_samples_split=41, min_samples_leaf=13, max_features=3, max_depth=27 \n",
      "[CV]  n_estimators=91, min_samples_split=41, min_samples_leaf=13, max_features=3, max_depth=27, score=0.799, total=   0.1s\n",
      "[CV] n_estimators=91, min_samples_split=41, min_samples_leaf=13, max_features=3, max_depth=27 \n",
      "[CV]  n_estimators=91, min_samples_split=41, min_samples_leaf=13, max_features=3, max_depth=27, score=0.822, total=   0.1s\n",
      "[CV] n_estimators=91, min_samples_split=41, min_samples_leaf=13, max_features=3, max_depth=27 \n",
      "[CV]  n_estimators=91, min_samples_split=41, min_samples_leaf=13, max_features=3, max_depth=27, score=0.788, total=   0.1s\n",
      "[CV] n_estimators=91, min_samples_split=41, min_samples_leaf=13, max_features=3, max_depth=27 \n",
      "[CV]  n_estimators=91, min_samples_split=41, min_samples_leaf=13, max_features=3, max_depth=27, score=0.813, total=   0.1s\n",
      "[CV] n_estimators=81, min_samples_split=41, min_samples_leaf=1, max_features=1, max_depth=5 \n",
      "[CV]  n_estimators=81, min_samples_split=41, min_samples_leaf=1, max_features=1, max_depth=5, score=0.806, total=   0.1s\n",
      "[CV] n_estimators=81, min_samples_split=41, min_samples_leaf=1, max_features=1, max_depth=5 \n",
      "[CV]  n_estimators=81, min_samples_split=41, min_samples_leaf=1, max_features=1, max_depth=5, score=0.763, total=   0.1s\n",
      "[CV] n_estimators=81, min_samples_split=41, min_samples_leaf=1, max_features=1, max_depth=5 \n",
      "[CV]  n_estimators=81, min_samples_split=41, min_samples_leaf=1, max_features=1, max_depth=5, score=0.786, total=   0.1s\n",
      "[CV] n_estimators=81, min_samples_split=41, min_samples_leaf=1, max_features=1, max_depth=5 \n",
      "[CV]  n_estimators=81, min_samples_split=41, min_samples_leaf=1, max_features=1, max_depth=5, score=0.784, total=   0.1s\n",
      "[CV] n_estimators=81, min_samples_split=41, min_samples_leaf=1, max_features=1, max_depth=5 \n",
      "[CV]  n_estimators=81, min_samples_split=41, min_samples_leaf=1, max_features=1, max_depth=5, score=0.796, total=   0.1s\n",
      "[CV] n_estimators=21, min_samples_split=21, min_samples_leaf=5, max_features=1, max_depth=19 \n",
      "[CV]  n_estimators=21, min_samples_split=21, min_samples_leaf=5, max_features=1, max_depth=19, score=0.818, total=   0.0s\n",
      "[CV] n_estimators=21, min_samples_split=21, min_samples_leaf=5, max_features=1, max_depth=19 \n",
      "[CV]  n_estimators=21, min_samples_split=21, min_samples_leaf=5, max_features=1, max_depth=19, score=0.782, total=   0.0s\n",
      "[CV] n_estimators=21, min_samples_split=21, min_samples_leaf=5, max_features=1, max_depth=19 \n",
      "[CV]  n_estimators=21, min_samples_split=21, min_samples_leaf=5, max_features=1, max_depth=19, score=0.789, total=   0.0s\n",
      "[CV] n_estimators=21, min_samples_split=21, min_samples_leaf=5, max_features=1, max_depth=19 \n",
      "[CV]  n_estimators=21, min_samples_split=21, min_samples_leaf=5, max_features=1, max_depth=19, score=0.765, total=   0.0s\n",
      "[CV] n_estimators=21, min_samples_split=21, min_samples_leaf=5, max_features=1, max_depth=19 \n",
      "[CV]  n_estimators=21, min_samples_split=21, min_samples_leaf=5, max_features=1, max_depth=19, score=0.819, total=   0.0s\n",
      "[CV] n_estimators=61, min_samples_split=1, min_samples_leaf=15, max_features=3, max_depth=9 \n",
      "[CV]  n_estimators=61, min_samples_split=1, min_samples_leaf=15, max_features=3, max_depth=9, score=nan, total=   0.0s\n",
      "[CV] n_estimators=61, min_samples_split=1, min_samples_leaf=15, max_features=3, max_depth=9 \n",
      "[CV]  n_estimators=61, min_samples_split=1, min_samples_leaf=15, max_features=3, max_depth=9, score=nan, total=   0.0s\n",
      "[CV] n_estimators=61, min_samples_split=1, min_samples_leaf=15, max_features=3, max_depth=9 \n",
      "[CV]  n_estimators=61, min_samples_split=1, min_samples_leaf=15, max_features=3, max_depth=9, score=nan, total=   0.0s\n",
      "[CV] n_estimators=61, min_samples_split=1, min_samples_leaf=15, max_features=3, max_depth=9 \n",
      "[CV]  n_estimators=61, min_samples_split=1, min_samples_leaf=15, max_features=3, max_depth=9, score=nan, total=   0.0s\n",
      "[CV] n_estimators=61, min_samples_split=1, min_samples_leaf=15, max_features=3, max_depth=9 \n",
      "[CV]  n_estimators=61, min_samples_split=1, min_samples_leaf=15, max_features=3, max_depth=9, score=nan, total=   0.0s\n",
      "[CV] n_estimators=11, min_samples_split=61, min_samples_leaf=19, max_features=1, max_depth=29 \n",
      "[CV]  n_estimators=11, min_samples_split=61, min_samples_leaf=19, max_features=1, max_depth=29, score=0.770, total=   0.0s\n",
      "[CV] n_estimators=11, min_samples_split=61, min_samples_leaf=19, max_features=1, max_depth=29 \n",
      "[CV]  n_estimators=11, min_samples_split=61, min_samples_leaf=19, max_features=1, max_depth=29, score=0.722, total=   0.0s\n",
      "[CV] n_estimators=11, min_samples_split=61, min_samples_leaf=19, max_features=1, max_depth=29 \n",
      "[CV]  n_estimators=11, min_samples_split=61, min_samples_leaf=19, max_features=1, max_depth=29, score=0.736, total=   0.0s\n",
      "[CV] n_estimators=11, min_samples_split=61, min_samples_leaf=19, max_features=1, max_depth=29 \n",
      "[CV]  n_estimators=11, min_samples_split=61, min_samples_leaf=19, max_features=1, max_depth=29, score=0.749, total=   0.0s\n",
      "[CV] n_estimators=11, min_samples_split=61, min_samples_leaf=19, max_features=1, max_depth=29 \n",
      "[CV]  n_estimators=11, min_samples_split=61, min_samples_leaf=19, max_features=1, max_depth=29, score=0.766, total=   0.0s\n",
      "[CV] n_estimators=31, min_samples_split=161, min_samples_leaf=7, max_features=9, max_depth=7 \n",
      "[CV]  n_estimators=31, min_samples_split=161, min_samples_leaf=7, max_features=9, max_depth=7, score=nan, total=   0.0s\n",
      "[CV] n_estimators=31, min_samples_split=161, min_samples_leaf=7, max_features=9, max_depth=7 \n",
      "[CV]  n_estimators=31, min_samples_split=161, min_samples_leaf=7, max_features=9, max_depth=7, score=nan, total=   0.0s\n",
      "[CV] n_estimators=31, min_samples_split=161, min_samples_leaf=7, max_features=9, max_depth=7 \n",
      "[CV]  n_estimators=31, min_samples_split=161, min_samples_leaf=7, max_features=9, max_depth=7, score=nan, total=   0.0s\n",
      "[CV] n_estimators=31, min_samples_split=161, min_samples_leaf=7, max_features=9, max_depth=7 \n",
      "[CV]  n_estimators=31, min_samples_split=161, min_samples_leaf=7, max_features=9, max_depth=7, score=nan, total=   0.0s\n",
      "[CV] n_estimators=31, min_samples_split=161, min_samples_leaf=7, max_features=9, max_depth=7 \n"
     ]
    },
    {
     "name": "stdout",
     "output_type": "stream",
     "text": [
      "[CV]  n_estimators=31, min_samples_split=161, min_samples_leaf=7, max_features=9, max_depth=7, score=nan, total=   0.0s\n",
      "[CV] n_estimators=51, min_samples_split=181, min_samples_leaf=5, max_features=9, max_depth=21 \n",
      "[CV]  n_estimators=51, min_samples_split=181, min_samples_leaf=5, max_features=9, max_depth=21, score=nan, total=   0.0s\n",
      "[CV] n_estimators=51, min_samples_split=181, min_samples_leaf=5, max_features=9, max_depth=21 \n",
      "[CV]  n_estimators=51, min_samples_split=181, min_samples_leaf=5, max_features=9, max_depth=21, score=nan, total=   0.0s\n",
      "[CV] n_estimators=51, min_samples_split=181, min_samples_leaf=5, max_features=9, max_depth=21 \n",
      "[CV]  n_estimators=51, min_samples_split=181, min_samples_leaf=5, max_features=9, max_depth=21, score=nan, total=   0.0s\n",
      "[CV] n_estimators=51, min_samples_split=181, min_samples_leaf=5, max_features=9, max_depth=21 \n",
      "[CV]  n_estimators=51, min_samples_split=181, min_samples_leaf=5, max_features=9, max_depth=21, score=nan, total=   0.0s\n",
      "[CV] n_estimators=51, min_samples_split=181, min_samples_leaf=5, max_features=9, max_depth=21 \n",
      "[CV]  n_estimators=51, min_samples_split=181, min_samples_leaf=5, max_features=9, max_depth=21, score=nan, total=   0.0s\n",
      "[CV] n_estimators=31, min_samples_split=141, min_samples_leaf=13, max_features=9, max_depth=15 \n",
      "[CV]  n_estimators=31, min_samples_split=141, min_samples_leaf=13, max_features=9, max_depth=15, score=nan, total=   0.0s\n",
      "[CV] n_estimators=31, min_samples_split=141, min_samples_leaf=13, max_features=9, max_depth=15 \n",
      "[CV]  n_estimators=31, min_samples_split=141, min_samples_leaf=13, max_features=9, max_depth=15, score=nan, total=   0.0s\n",
      "[CV] n_estimators=31, min_samples_split=141, min_samples_leaf=13, max_features=9, max_depth=15 \n",
      "[CV]  n_estimators=31, min_samples_split=141, min_samples_leaf=13, max_features=9, max_depth=15, score=nan, total=   0.0s\n",
      "[CV] n_estimators=31, min_samples_split=141, min_samples_leaf=13, max_features=9, max_depth=15 \n",
      "[CV]  n_estimators=31, min_samples_split=141, min_samples_leaf=13, max_features=9, max_depth=15, score=nan, total=   0.0s\n",
      "[CV] n_estimators=31, min_samples_split=141, min_samples_leaf=13, max_features=9, max_depth=15 \n",
      "[CV]  n_estimators=31, min_samples_split=141, min_samples_leaf=13, max_features=9, max_depth=15, score=nan, total=   0.0s\n",
      "[CV] n_estimators=81, min_samples_split=21, min_samples_leaf=3, max_features=5, max_depth=9 \n",
      "[CV]  n_estimators=81, min_samples_split=21, min_samples_leaf=3, max_features=5, max_depth=9, score=0.821, total=   0.1s\n",
      "[CV] n_estimators=81, min_samples_split=21, min_samples_leaf=3, max_features=5, max_depth=9 \n",
      "[CV]  n_estimators=81, min_samples_split=21, min_samples_leaf=3, max_features=5, max_depth=9, score=0.815, total=   0.1s\n",
      "[CV] n_estimators=81, min_samples_split=21, min_samples_leaf=3, max_features=5, max_depth=9 \n",
      "[CV]  n_estimators=81, min_samples_split=21, min_samples_leaf=3, max_features=5, max_depth=9, score=0.836, total=   0.1s\n",
      "[CV] n_estimators=81, min_samples_split=21, min_samples_leaf=3, max_features=5, max_depth=9 \n",
      "[CV]  n_estimators=81, min_samples_split=21, min_samples_leaf=3, max_features=5, max_depth=9, score=0.781, total=   0.1s\n",
      "[CV] n_estimators=81, min_samples_split=21, min_samples_leaf=3, max_features=5, max_depth=9 \n",
      "[CV]  n_estimators=81, min_samples_split=21, min_samples_leaf=3, max_features=5, max_depth=9, score=0.816, total=   0.1s\n",
      "[CV] n_estimators=41, min_samples_split=1, min_samples_leaf=19, max_features=9, max_depth=9 \n",
      "[CV]  n_estimators=41, min_samples_split=1, min_samples_leaf=19, max_features=9, max_depth=9, score=nan, total=   0.0s\n",
      "[CV] n_estimators=41, min_samples_split=1, min_samples_leaf=19, max_features=9, max_depth=9 \n",
      "[CV]  n_estimators=41, min_samples_split=1, min_samples_leaf=19, max_features=9, max_depth=9, score=nan, total=   0.0s\n",
      "[CV] n_estimators=41, min_samples_split=1, min_samples_leaf=19, max_features=9, max_depth=9 \n",
      "[CV]  n_estimators=41, min_samples_split=1, min_samples_leaf=19, max_features=9, max_depth=9, score=nan, total=   0.0s\n",
      "[CV] n_estimators=41, min_samples_split=1, min_samples_leaf=19, max_features=9, max_depth=9 \n",
      "[CV]  n_estimators=41, min_samples_split=1, min_samples_leaf=19, max_features=9, max_depth=9, score=nan, total=   0.0s\n",
      "[CV] n_estimators=41, min_samples_split=1, min_samples_leaf=19, max_features=9, max_depth=9 \n",
      "[CV]  n_estimators=41, min_samples_split=1, min_samples_leaf=19, max_features=9, max_depth=9, score=nan, total=   0.0s\n",
      "[CV] n_estimators=11, min_samples_split=121, min_samples_leaf=3, max_features=1, max_depth=7 \n",
      "[CV]  n_estimators=11, min_samples_split=121, min_samples_leaf=3, max_features=1, max_depth=7, score=0.643, total=   0.0s\n",
      "[CV] n_estimators=11, min_samples_split=121, min_samples_leaf=3, max_features=1, max_depth=7 \n",
      "[CV]  n_estimators=11, min_samples_split=121, min_samples_leaf=3, max_features=1, max_depth=7, score=0.579, total=   0.0s\n",
      "[CV] n_estimators=11, min_samples_split=121, min_samples_leaf=3, max_features=1, max_depth=7 \n",
      "[CV]  n_estimators=11, min_samples_split=121, min_samples_leaf=3, max_features=1, max_depth=7, score=0.548, total=   0.0s\n",
      "[CV] n_estimators=11, min_samples_split=121, min_samples_leaf=3, max_features=1, max_depth=7 \n",
      "[CV]  n_estimators=11, min_samples_split=121, min_samples_leaf=3, max_features=1, max_depth=7, score=0.659, total=   0.0s\n",
      "[CV] n_estimators=11, min_samples_split=121, min_samples_leaf=3, max_features=1, max_depth=7 \n",
      "[CV]  n_estimators=11, min_samples_split=121, min_samples_leaf=3, max_features=1, max_depth=7, score=0.647, total=   0.0s\n",
      "[CV] n_estimators=61, min_samples_split=161, min_samples_leaf=13, max_features=5, max_depth=5 \n",
      "[CV]  n_estimators=61, min_samples_split=161, min_samples_leaf=13, max_features=5, max_depth=5, score=0.683, total=   0.1s\n",
      "[CV] n_estimators=61, min_samples_split=161, min_samples_leaf=13, max_features=5, max_depth=5 \n",
      "[CV]  n_estimators=61, min_samples_split=161, min_samples_leaf=13, max_features=5, max_depth=5, score=0.586, total=   0.1s\n",
      "[CV] n_estimators=61, min_samples_split=161, min_samples_leaf=13, max_features=5, max_depth=5 \n",
      "[CV]  n_estimators=61, min_samples_split=161, min_samples_leaf=13, max_features=5, max_depth=5, score=0.611, total=   0.1s\n",
      "[CV] n_estimators=61, min_samples_split=161, min_samples_leaf=13, max_features=5, max_depth=5 \n",
      "[CV]  n_estimators=61, min_samples_split=161, min_samples_leaf=13, max_features=5, max_depth=5, score=0.665, total=   0.1s\n",
      "[CV] n_estimators=61, min_samples_split=161, min_samples_leaf=13, max_features=5, max_depth=5 \n",
      "[CV]  n_estimators=61, min_samples_split=161, min_samples_leaf=13, max_features=5, max_depth=5, score=0.578, total=   0.1s\n",
      "[CV] n_estimators=1, min_samples_split=41, min_samples_leaf=7, max_features=7, max_depth=5 \n",
      "[CV]  n_estimators=1, min_samples_split=41, min_samples_leaf=7, max_features=7, max_depth=5, score=0.768, total=   0.0s\n",
      "[CV] n_estimators=1, min_samples_split=41, min_samples_leaf=7, max_features=7, max_depth=5 \n",
      "[CV]  n_estimators=1, min_samples_split=41, min_samples_leaf=7, max_features=7, max_depth=5, score=0.707, total=   0.0s\n",
      "[CV] n_estimators=1, min_samples_split=41, min_samples_leaf=7, max_features=7, max_depth=5 \n",
      "[CV]  n_estimators=1, min_samples_split=41, min_samples_leaf=7, max_features=7, max_depth=5, score=0.746, total=   0.0s\n",
      "[CV] n_estimators=1, min_samples_split=41, min_samples_leaf=7, max_features=7, max_depth=5 \n",
      "[CV]  n_estimators=1, min_samples_split=41, min_samples_leaf=7, max_features=7, max_depth=5, score=0.718, total=   0.0s\n",
      "[CV] n_estimators=1, min_samples_split=41, min_samples_leaf=7, max_features=7, max_depth=5 \n",
      "[CV]  n_estimators=1, min_samples_split=41, min_samples_leaf=7, max_features=7, max_depth=5, score=0.718, total=   0.0s\n",
      "[CV] n_estimators=11, min_samples_split=21, min_samples_leaf=13, max_features=1, max_depth=3 \n",
      "[CV]  n_estimators=11, min_samples_split=21, min_samples_leaf=13, max_features=1, max_depth=3, score=0.790, total=   0.0s\n",
      "[CV] n_estimators=11, min_samples_split=21, min_samples_leaf=13, max_features=1, max_depth=3 \n",
      "[CV]  n_estimators=11, min_samples_split=21, min_samples_leaf=13, max_features=1, max_depth=3, score=0.748, total=   0.0s\n",
      "[CV] n_estimators=11, min_samples_split=21, min_samples_leaf=13, max_features=1, max_depth=3 \n",
      "[CV]  n_estimators=11, min_samples_split=21, min_samples_leaf=13, max_features=1, max_depth=3, score=0.750, total=   0.0s\n",
      "[CV] n_estimators=11, min_samples_split=21, min_samples_leaf=13, max_features=1, max_depth=3 \n",
      "[CV]  n_estimators=11, min_samples_split=21, min_samples_leaf=13, max_features=1, max_depth=3, score=0.774, total=   0.0s\n",
      "[CV] n_estimators=11, min_samples_split=21, min_samples_leaf=13, max_features=1, max_depth=3 \n"
     ]
    },
    {
     "name": "stdout",
     "output_type": "stream",
     "text": [
      "[CV]  n_estimators=11, min_samples_split=21, min_samples_leaf=13, max_features=1, max_depth=3, score=0.757, total=   0.0s\n",
      "[CV] n_estimators=91, min_samples_split=161, min_samples_leaf=19, max_features=9, max_depth=7 \n",
      "[CV]  n_estimators=91, min_samples_split=161, min_samples_leaf=19, max_features=9, max_depth=7, score=nan, total=   0.0s\n",
      "[CV] n_estimators=91, min_samples_split=161, min_samples_leaf=19, max_features=9, max_depth=7 \n",
      "[CV]  n_estimators=91, min_samples_split=161, min_samples_leaf=19, max_features=9, max_depth=7, score=nan, total=   0.0s\n",
      "[CV] n_estimators=91, min_samples_split=161, min_samples_leaf=19, max_features=9, max_depth=7 \n",
      "[CV]  n_estimators=91, min_samples_split=161, min_samples_leaf=19, max_features=9, max_depth=7, score=nan, total=   0.0s\n",
      "[CV] n_estimators=91, min_samples_split=161, min_samples_leaf=19, max_features=9, max_depth=7 \n",
      "[CV]  n_estimators=91, min_samples_split=161, min_samples_leaf=19, max_features=9, max_depth=7, score=nan, total=   0.0s\n",
      "[CV] n_estimators=91, min_samples_split=161, min_samples_leaf=19, max_features=9, max_depth=7 \n",
      "[CV]  n_estimators=91, min_samples_split=161, min_samples_leaf=19, max_features=9, max_depth=7, score=nan, total=   0.0s\n",
      "[CV] n_estimators=21, min_samples_split=1, min_samples_leaf=7, max_features=9, max_depth=23 \n",
      "[CV]  n_estimators=21, min_samples_split=1, min_samples_leaf=7, max_features=9, max_depth=23, score=nan, total=   0.0s\n",
      "[CV] n_estimators=21, min_samples_split=1, min_samples_leaf=7, max_features=9, max_depth=23 \n",
      "[CV]  n_estimators=21, min_samples_split=1, min_samples_leaf=7, max_features=9, max_depth=23, score=nan, total=   0.0s\n",
      "[CV] n_estimators=21, min_samples_split=1, min_samples_leaf=7, max_features=9, max_depth=23 \n",
      "[CV]  n_estimators=21, min_samples_split=1, min_samples_leaf=7, max_features=9, max_depth=23, score=nan, total=   0.0s\n",
      "[CV] n_estimators=21, min_samples_split=1, min_samples_leaf=7, max_features=9, max_depth=23 \n",
      "[CV]  n_estimators=21, min_samples_split=1, min_samples_leaf=7, max_features=9, max_depth=23, score=nan, total=   0.0s\n",
      "[CV] n_estimators=21, min_samples_split=1, min_samples_leaf=7, max_features=9, max_depth=23 \n",
      "[CV]  n_estimators=21, min_samples_split=1, min_samples_leaf=7, max_features=9, max_depth=23, score=nan, total=   0.0s\n",
      "[CV] n_estimators=41, min_samples_split=1, min_samples_leaf=15, max_features=9, max_depth=27 \n",
      "[CV]  n_estimators=41, min_samples_split=1, min_samples_leaf=15, max_features=9, max_depth=27, score=nan, total=   0.0s\n",
      "[CV] n_estimators=41, min_samples_split=1, min_samples_leaf=15, max_features=9, max_depth=27 \n",
      "[CV]  n_estimators=41, min_samples_split=1, min_samples_leaf=15, max_features=9, max_depth=27, score=nan, total=   0.0s\n",
      "[CV] n_estimators=41, min_samples_split=1, min_samples_leaf=15, max_features=9, max_depth=27 \n",
      "[CV]  n_estimators=41, min_samples_split=1, min_samples_leaf=15, max_features=9, max_depth=27, score=nan, total=   0.0s\n",
      "[CV] n_estimators=41, min_samples_split=1, min_samples_leaf=15, max_features=9, max_depth=27 \n",
      "[CV]  n_estimators=41, min_samples_split=1, min_samples_leaf=15, max_features=9, max_depth=27, score=nan, total=   0.0s\n",
      "[CV] n_estimators=41, min_samples_split=1, min_samples_leaf=15, max_features=9, max_depth=27 \n",
      "[CV]  n_estimators=41, min_samples_split=1, min_samples_leaf=15, max_features=9, max_depth=27, score=nan, total=   0.0s\n",
      "[CV] n_estimators=41, min_samples_split=121, min_samples_leaf=3, max_features=3, max_depth=7 \n",
      "[CV]  n_estimators=41, min_samples_split=121, min_samples_leaf=3, max_features=3, max_depth=7, score=0.700, total=   0.0s\n",
      "[CV] n_estimators=41, min_samples_split=121, min_samples_leaf=3, max_features=3, max_depth=7 \n",
      "[CV]  n_estimators=41, min_samples_split=121, min_samples_leaf=3, max_features=3, max_depth=7, score=0.612, total=   0.1s\n",
      "[CV] n_estimators=41, min_samples_split=121, min_samples_leaf=3, max_features=3, max_depth=7 \n",
      "[CV]  n_estimators=41, min_samples_split=121, min_samples_leaf=3, max_features=3, max_depth=7, score=0.666, total=   0.1s\n",
      "[CV] n_estimators=41, min_samples_split=121, min_samples_leaf=3, max_features=3, max_depth=7 \n",
      "[CV]  n_estimators=41, min_samples_split=121, min_samples_leaf=3, max_features=3, max_depth=7, score=0.665, total=   0.0s\n",
      "[CV] n_estimators=41, min_samples_split=121, min_samples_leaf=3, max_features=3, max_depth=7 \n",
      "[CV]  n_estimators=41, min_samples_split=121, min_samples_leaf=3, max_features=3, max_depth=7, score=0.645, total=   0.0s\n",
      "[CV] n_estimators=71, min_samples_split=181, min_samples_leaf=13, max_features=1, max_depth=23 \n",
      "[CV]  n_estimators=71, min_samples_split=181, min_samples_leaf=13, max_features=1, max_depth=23, score=0.627, total=   0.1s\n",
      "[CV] n_estimators=71, min_samples_split=181, min_samples_leaf=13, max_features=1, max_depth=23 \n",
      "[CV]  n_estimators=71, min_samples_split=181, min_samples_leaf=13, max_features=1, max_depth=23, score=0.547, total=   0.1s\n",
      "[CV] n_estimators=71, min_samples_split=181, min_samples_leaf=13, max_features=1, max_depth=23 \n",
      "[CV]  n_estimators=71, min_samples_split=181, min_samples_leaf=13, max_features=1, max_depth=23, score=0.544, total=   0.1s\n",
      "[CV] n_estimators=71, min_samples_split=181, min_samples_leaf=13, max_features=1, max_depth=23 \n",
      "[CV]  n_estimators=71, min_samples_split=181, min_samples_leaf=13, max_features=1, max_depth=23, score=0.597, total=   0.1s\n",
      "[CV] n_estimators=71, min_samples_split=181, min_samples_leaf=13, max_features=1, max_depth=23 \n",
      "[CV]  n_estimators=71, min_samples_split=181, min_samples_leaf=13, max_features=1, max_depth=23, score=0.540, total=   0.1s\n",
      "[CV] n_estimators=91, min_samples_split=1, min_samples_leaf=5, max_features=1, max_depth=5 \n",
      "[CV]  n_estimators=91, min_samples_split=1, min_samples_leaf=5, max_features=1, max_depth=5, score=nan, total=   0.0s\n",
      "[CV] n_estimators=91, min_samples_split=1, min_samples_leaf=5, max_features=1, max_depth=5 \n",
      "[CV]  n_estimators=91, min_samples_split=1, min_samples_leaf=5, max_features=1, max_depth=5, score=nan, total=   0.0s\n",
      "[CV] n_estimators=91, min_samples_split=1, min_samples_leaf=5, max_features=1, max_depth=5 \n",
      "[CV]  n_estimators=91, min_samples_split=1, min_samples_leaf=5, max_features=1, max_depth=5, score=nan, total=   0.0s\n",
      "[CV] n_estimators=91, min_samples_split=1, min_samples_leaf=5, max_features=1, max_depth=5 \n",
      "[CV]  n_estimators=91, min_samples_split=1, min_samples_leaf=5, max_features=1, max_depth=5, score=nan, total=   0.0s\n",
      "[CV] n_estimators=91, min_samples_split=1, min_samples_leaf=5, max_features=1, max_depth=5 \n",
      "[CV]  n_estimators=91, min_samples_split=1, min_samples_leaf=5, max_features=1, max_depth=5, score=nan, total=   0.0s\n",
      "[CV] n_estimators=21, min_samples_split=21, min_samples_leaf=3, max_features=1, max_depth=25 \n",
      "[CV]  n_estimators=21, min_samples_split=21, min_samples_leaf=3, max_features=1, max_depth=25, score=0.809, total=   0.0s\n",
      "[CV] n_estimators=21, min_samples_split=21, min_samples_leaf=3, max_features=1, max_depth=25 \n",
      "[CV]  n_estimators=21, min_samples_split=21, min_samples_leaf=3, max_features=1, max_depth=25, score=0.779, total=   0.0s\n",
      "[CV] n_estimators=21, min_samples_split=21, min_samples_leaf=3, max_features=1, max_depth=25 \n",
      "[CV]  n_estimators=21, min_samples_split=21, min_samples_leaf=3, max_features=1, max_depth=25, score=0.806, total=   0.0s\n",
      "[CV] n_estimators=21, min_samples_split=21, min_samples_leaf=3, max_features=1, max_depth=25 \n",
      "[CV]  n_estimators=21, min_samples_split=21, min_samples_leaf=3, max_features=1, max_depth=25, score=0.779, total=   0.0s\n",
      "[CV] n_estimators=21, min_samples_split=21, min_samples_leaf=3, max_features=1, max_depth=25 \n",
      "[CV]  n_estimators=21, min_samples_split=21, min_samples_leaf=3, max_features=1, max_depth=25, score=0.819, total=   0.0s\n",
      "[CV] n_estimators=61, min_samples_split=161, min_samples_leaf=9, max_features=3, max_depth=1 \n",
      "[CV]  n_estimators=61, min_samples_split=161, min_samples_leaf=9, max_features=3, max_depth=1, score=0.677, total=   0.1s\n",
      "[CV] n_estimators=61, min_samples_split=161, min_samples_leaf=9, max_features=3, max_depth=1 \n",
      "[CV]  n_estimators=61, min_samples_split=161, min_samples_leaf=9, max_features=3, max_depth=1, score=0.591, total=   0.1s\n",
      "[CV] n_estimators=61, min_samples_split=161, min_samples_leaf=9, max_features=3, max_depth=1 \n",
      "[CV]  n_estimators=61, min_samples_split=161, min_samples_leaf=9, max_features=3, max_depth=1, score=0.602, total=   0.1s\n",
      "[CV] n_estimators=61, min_samples_split=161, min_samples_leaf=9, max_features=3, max_depth=1 \n",
      "[CV]  n_estimators=61, min_samples_split=161, min_samples_leaf=9, max_features=3, max_depth=1, score=0.653, total=   0.1s\n",
      "[CV] n_estimators=61, min_samples_split=161, min_samples_leaf=9, max_features=3, max_depth=1 \n"
     ]
    },
    {
     "name": "stdout",
     "output_type": "stream",
     "text": [
      "[CV]  n_estimators=61, min_samples_split=161, min_samples_leaf=9, max_features=3, max_depth=1, score=0.593, total=   0.1s\n",
      "[CV] n_estimators=11, min_samples_split=101, min_samples_leaf=17, max_features=3, max_depth=23 \n",
      "[CV]  n_estimators=11, min_samples_split=101, min_samples_leaf=17, max_features=3, max_depth=23, score=0.704, total=   0.0s\n",
      "[CV] n_estimators=11, min_samples_split=101, min_samples_leaf=17, max_features=3, max_depth=23 \n",
      "[CV]  n_estimators=11, min_samples_split=101, min_samples_leaf=17, max_features=3, max_depth=23, score=0.685, total=   0.0s\n",
      "[CV] n_estimators=11, min_samples_split=101, min_samples_leaf=17, max_features=3, max_depth=23 \n",
      "[CV]  n_estimators=11, min_samples_split=101, min_samples_leaf=17, max_features=3, max_depth=23, score=0.736, total=   0.0s\n",
      "[CV] n_estimators=11, min_samples_split=101, min_samples_leaf=17, max_features=3, max_depth=23 \n",
      "[CV]  n_estimators=11, min_samples_split=101, min_samples_leaf=17, max_features=3, max_depth=23, score=0.665, total=   0.0s\n",
      "[CV] n_estimators=11, min_samples_split=101, min_samples_leaf=17, max_features=3, max_depth=23 \n",
      "[CV]  n_estimators=11, min_samples_split=101, min_samples_leaf=17, max_features=3, max_depth=23, score=0.746, total=   0.0s\n",
      "[CV] n_estimators=31, min_samples_split=21, min_samples_leaf=1, max_features=5, max_depth=21 \n",
      "[CV]  n_estimators=31, min_samples_split=21, min_samples_leaf=1, max_features=5, max_depth=21, score=0.820, total=   0.0s\n",
      "[CV] n_estimators=31, min_samples_split=21, min_samples_leaf=1, max_features=5, max_depth=21 \n",
      "[CV]  n_estimators=31, min_samples_split=21, min_samples_leaf=1, max_features=5, max_depth=21, score=0.821, total=   0.0s\n",
      "[CV] n_estimators=31, min_samples_split=21, min_samples_leaf=1, max_features=5, max_depth=21 \n",
      "[CV]  n_estimators=31, min_samples_split=21, min_samples_leaf=1, max_features=5, max_depth=21, score=0.815, total=   0.1s\n",
      "[CV] n_estimators=31, min_samples_split=21, min_samples_leaf=1, max_features=5, max_depth=21 \n",
      "[CV]  n_estimators=31, min_samples_split=21, min_samples_leaf=1, max_features=5, max_depth=21, score=0.774, total=   0.0s\n",
      "[CV] n_estimators=31, min_samples_split=21, min_samples_leaf=1, max_features=5, max_depth=21 \n",
      "[CV]  n_estimators=31, min_samples_split=21, min_samples_leaf=1, max_features=5, max_depth=21, score=0.807, total=   0.0s\n",
      "[CV] n_estimators=31, min_samples_split=101, min_samples_leaf=1, max_features=3, max_depth=23 \n",
      "[CV]  n_estimators=31, min_samples_split=101, min_samples_leaf=1, max_features=3, max_depth=23, score=0.731, total=   0.0s\n",
      "[CV] n_estimators=31, min_samples_split=101, min_samples_leaf=1, max_features=3, max_depth=23 \n",
      "[CV]  n_estimators=31, min_samples_split=101, min_samples_leaf=1, max_features=3, max_depth=23, score=0.704, total=   0.0s\n",
      "[CV] n_estimators=31, min_samples_split=101, min_samples_leaf=1, max_features=3, max_depth=23 \n",
      "[CV]  n_estimators=31, min_samples_split=101, min_samples_leaf=1, max_features=3, max_depth=23, score=0.750, total=   0.0s\n",
      "[CV] n_estimators=31, min_samples_split=101, min_samples_leaf=1, max_features=3, max_depth=23 \n",
      "[CV]  n_estimators=31, min_samples_split=101, min_samples_leaf=1, max_features=3, max_depth=23, score=0.696, total=   0.0s\n",
      "[CV] n_estimators=31, min_samples_split=101, min_samples_leaf=1, max_features=3, max_depth=23 \n",
      "[CV]  n_estimators=31, min_samples_split=101, min_samples_leaf=1, max_features=3, max_depth=23, score=0.761, total=   0.0s\n",
      "[CV] n_estimators=81, min_samples_split=61, min_samples_leaf=11, max_features=7, max_depth=15 \n",
      "[CV]  n_estimators=81, min_samples_split=61, min_samples_leaf=11, max_features=7, max_depth=15, score=0.785, total=   0.1s\n",
      "[CV] n_estimators=81, min_samples_split=61, min_samples_leaf=11, max_features=7, max_depth=15 \n",
      "[CV]  n_estimators=81, min_samples_split=61, min_samples_leaf=11, max_features=7, max_depth=15, score=0.802, total=   0.1s\n",
      "[CV] n_estimators=81, min_samples_split=61, min_samples_leaf=11, max_features=7, max_depth=15 \n",
      "[CV]  n_estimators=81, min_samples_split=61, min_samples_leaf=11, max_features=7, max_depth=15, score=0.775, total=   0.1s\n",
      "[CV] n_estimators=81, min_samples_split=61, min_samples_leaf=11, max_features=7, max_depth=15 \n",
      "[CV]  n_estimators=81, min_samples_split=61, min_samples_leaf=11, max_features=7, max_depth=15, score=0.778, total=   0.1s\n",
      "[CV] n_estimators=81, min_samples_split=61, min_samples_leaf=11, max_features=7, max_depth=15 \n",
      "[CV]  n_estimators=81, min_samples_split=61, min_samples_leaf=11, max_features=7, max_depth=15, score=0.792, total=   0.1s\n",
      "[CV] n_estimators=61, min_samples_split=181, min_samples_leaf=13, max_features=3, max_depth=29 \n",
      "[CV]  n_estimators=61, min_samples_split=181, min_samples_leaf=13, max_features=3, max_depth=29, score=0.676, total=   0.1s\n",
      "[CV] n_estimators=61, min_samples_split=181, min_samples_leaf=13, max_features=3, max_depth=29 \n",
      "[CV]  n_estimators=61, min_samples_split=181, min_samples_leaf=13, max_features=3, max_depth=29, score=0.589, total=   0.1s\n",
      "[CV] n_estimators=61, min_samples_split=181, min_samples_leaf=13, max_features=3, max_depth=29 \n",
      "[CV]  n_estimators=61, min_samples_split=181, min_samples_leaf=13, max_features=3, max_depth=29, score=0.595, total=   0.1s\n",
      "[CV] n_estimators=61, min_samples_split=181, min_samples_leaf=13, max_features=3, max_depth=29 \n",
      "[CV]  n_estimators=61, min_samples_split=181, min_samples_leaf=13, max_features=3, max_depth=29, score=0.660, total=   0.1s\n",
      "[CV] n_estimators=61, min_samples_split=181, min_samples_leaf=13, max_features=3, max_depth=29 \n",
      "[CV]  n_estimators=61, min_samples_split=181, min_samples_leaf=13, max_features=3, max_depth=29, score=0.597, total=   0.1s\n",
      "[CV] n_estimators=1, min_samples_split=21, min_samples_leaf=11, max_features=7, max_depth=19 \n",
      "[CV]  n_estimators=1, min_samples_split=21, min_samples_leaf=11, max_features=7, max_depth=19, score=0.793, total=   0.0s\n",
      "[CV] n_estimators=1, min_samples_split=21, min_samples_leaf=11, max_features=7, max_depth=19 \n",
      "[CV]  n_estimators=1, min_samples_split=21, min_samples_leaf=11, max_features=7, max_depth=19, score=0.804, total=   0.0s\n",
      "[CV] n_estimators=1, min_samples_split=21, min_samples_leaf=11, max_features=7, max_depth=19 \n",
      "[CV]  n_estimators=1, min_samples_split=21, min_samples_leaf=11, max_features=7, max_depth=19, score=0.745, total=   0.0s\n",
      "[CV] n_estimators=1, min_samples_split=21, min_samples_leaf=11, max_features=7, max_depth=19 \n",
      "[CV]  n_estimators=1, min_samples_split=21, min_samples_leaf=11, max_features=7, max_depth=19, score=0.774, total=   0.0s\n",
      "[CV] n_estimators=1, min_samples_split=21, min_samples_leaf=11, max_features=7, max_depth=19 \n",
      "[CV]  n_estimators=1, min_samples_split=21, min_samples_leaf=11, max_features=7, max_depth=19, score=0.729, total=   0.0s\n",
      "[CV] n_estimators=21, min_samples_split=41, min_samples_leaf=19, max_features=5, max_depth=21 \n",
      "[CV]  n_estimators=21, min_samples_split=41, min_samples_leaf=19, max_features=5, max_depth=21, score=0.811, total=   0.0s\n",
      "[CV] n_estimators=21, min_samples_split=41, min_samples_leaf=19, max_features=5, max_depth=21 \n",
      "[CV]  n_estimators=21, min_samples_split=41, min_samples_leaf=19, max_features=5, max_depth=21, score=0.816, total=   0.0s\n",
      "[CV] n_estimators=21, min_samples_split=41, min_samples_leaf=19, max_features=5, max_depth=21 \n",
      "[CV]  n_estimators=21, min_samples_split=41, min_samples_leaf=19, max_features=5, max_depth=21, score=0.812, total=   0.0s\n",
      "[CV] n_estimators=21, min_samples_split=41, min_samples_leaf=19, max_features=5, max_depth=21 \n",
      "[CV]  n_estimators=21, min_samples_split=41, min_samples_leaf=19, max_features=5, max_depth=21, score=0.778, total=   0.0s\n",
      "[CV] n_estimators=21, min_samples_split=41, min_samples_leaf=19, max_features=5, max_depth=21 \n",
      "[CV]  n_estimators=21, min_samples_split=41, min_samples_leaf=19, max_features=5, max_depth=21, score=0.812, total=   0.0s\n",
      "[CV] n_estimators=31, min_samples_split=61, min_samples_leaf=19, max_features=1, max_depth=29 \n",
      "[CV]  n_estimators=31, min_samples_split=61, min_samples_leaf=19, max_features=1, max_depth=29, score=0.758, total=   0.0s\n",
      "[CV] n_estimators=31, min_samples_split=61, min_samples_leaf=19, max_features=1, max_depth=29 \n",
      "[CV]  n_estimators=31, min_samples_split=61, min_samples_leaf=19, max_features=1, max_depth=29, score=0.741, total=   0.0s\n",
      "[CV] n_estimators=31, min_samples_split=61, min_samples_leaf=19, max_features=1, max_depth=29 \n",
      "[CV]  n_estimators=31, min_samples_split=61, min_samples_leaf=19, max_features=1, max_depth=29, score=0.731, total=   0.0s\n",
      "[CV] n_estimators=31, min_samples_split=61, min_samples_leaf=19, max_features=1, max_depth=29 \n",
      "[CV]  n_estimators=31, min_samples_split=61, min_samples_leaf=19, max_features=1, max_depth=29, score=0.763, total=   0.0s\n",
      "[CV] n_estimators=31, min_samples_split=61, min_samples_leaf=19, max_features=1, max_depth=29 \n",
      "[CV]  n_estimators=31, min_samples_split=61, min_samples_leaf=19, max_features=1, max_depth=29, score=0.755, total=   0.0s\n",
      "[CV] n_estimators=11, min_samples_split=81, min_samples_leaf=5, max_features=1, max_depth=19 \n",
      "[CV]  n_estimators=11, min_samples_split=81, min_samples_leaf=5, max_features=1, max_depth=19, score=0.736, total=   0.0s\n",
      "[CV] n_estimators=11, min_samples_split=81, min_samples_leaf=5, max_features=1, max_depth=19 \n"
     ]
    },
    {
     "name": "stdout",
     "output_type": "stream",
     "text": [
      "[CV]  n_estimators=11, min_samples_split=81, min_samples_leaf=5, max_features=1, max_depth=19, score=0.726, total=   0.0s\n",
      "[CV] n_estimators=11, min_samples_split=81, min_samples_leaf=5, max_features=1, max_depth=19 \n",
      "[CV]  n_estimators=11, min_samples_split=81, min_samples_leaf=5, max_features=1, max_depth=19, score=0.697, total=   0.0s\n",
      "[CV] n_estimators=11, min_samples_split=81, min_samples_leaf=5, max_features=1, max_depth=19 \n",
      "[CV]  n_estimators=11, min_samples_split=81, min_samples_leaf=5, max_features=1, max_depth=19, score=0.730, total=   0.0s\n",
      "[CV] n_estimators=11, min_samples_split=81, min_samples_leaf=5, max_features=1, max_depth=19 \n",
      "[CV]  n_estimators=11, min_samples_split=81, min_samples_leaf=5, max_features=1, max_depth=19, score=0.740, total=   0.0s\n",
      "[CV] n_estimators=31, min_samples_split=121, min_samples_leaf=13, max_features=1, max_depth=15 \n",
      "[CV]  n_estimators=31, min_samples_split=121, min_samples_leaf=13, max_features=1, max_depth=15, score=0.660, total=   0.0s\n",
      "[CV] n_estimators=31, min_samples_split=121, min_samples_leaf=13, max_features=1, max_depth=15 \n",
      "[CV]  n_estimators=31, min_samples_split=121, min_samples_leaf=13, max_features=1, max_depth=15, score=0.571, total=   0.0s\n",
      "[CV] n_estimators=31, min_samples_split=121, min_samples_leaf=13, max_features=1, max_depth=15 \n",
      "[CV]  n_estimators=31, min_samples_split=121, min_samples_leaf=13, max_features=1, max_depth=15, score=0.648, total=   0.0s\n",
      "[CV] n_estimators=31, min_samples_split=121, min_samples_leaf=13, max_features=1, max_depth=15 \n",
      "[CV]  n_estimators=31, min_samples_split=121, min_samples_leaf=13, max_features=1, max_depth=15, score=0.659, total=   0.0s\n",
      "[CV] n_estimators=31, min_samples_split=121, min_samples_leaf=13, max_features=1, max_depth=15 \n",
      "[CV]  n_estimators=31, min_samples_split=121, min_samples_leaf=13, max_features=1, max_depth=15, score=0.605, total=   0.0s\n",
      "[CV] n_estimators=11, min_samples_split=141, min_samples_leaf=17, max_features=7, max_depth=23 \n",
      "[CV]  n_estimators=11, min_samples_split=141, min_samples_leaf=17, max_features=7, max_depth=23, score=0.672, total=   0.0s\n",
      "[CV] n_estimators=11, min_samples_split=141, min_samples_leaf=17, max_features=7, max_depth=23 \n",
      "[CV]  n_estimators=11, min_samples_split=141, min_samples_leaf=17, max_features=7, max_depth=23, score=0.570, total=   0.0s\n",
      "[CV] n_estimators=11, min_samples_split=141, min_samples_leaf=17, max_features=7, max_depth=23 \n",
      "[CV]  n_estimators=11, min_samples_split=141, min_samples_leaf=17, max_features=7, max_depth=23, score=0.586, total=   0.0s\n",
      "[CV] n_estimators=11, min_samples_split=141, min_samples_leaf=17, max_features=7, max_depth=23 \n",
      "[CV]  n_estimators=11, min_samples_split=141, min_samples_leaf=17, max_features=7, max_depth=23, score=0.606, total=   0.0s\n",
      "[CV] n_estimators=11, min_samples_split=141, min_samples_leaf=17, max_features=7, max_depth=23 \n",
      "[CV]  n_estimators=11, min_samples_split=141, min_samples_leaf=17, max_features=7, max_depth=23, score=0.496, total=   0.0s\n",
      "[CV] n_estimators=81, min_samples_split=121, min_samples_leaf=19, max_features=9, max_depth=17 \n",
      "[CV]  n_estimators=81, min_samples_split=121, min_samples_leaf=19, max_features=9, max_depth=17, score=nan, total=   0.0s\n",
      "[CV] n_estimators=81, min_samples_split=121, min_samples_leaf=19, max_features=9, max_depth=17 \n",
      "[CV]  n_estimators=81, min_samples_split=121, min_samples_leaf=19, max_features=9, max_depth=17, score=nan, total=   0.0s\n",
      "[CV] n_estimators=81, min_samples_split=121, min_samples_leaf=19, max_features=9, max_depth=17 \n",
      "[CV]  n_estimators=81, min_samples_split=121, min_samples_leaf=19, max_features=9, max_depth=17, score=nan, total=   0.0s\n",
      "[CV] n_estimators=81, min_samples_split=121, min_samples_leaf=19, max_features=9, max_depth=17 \n",
      "[CV]  n_estimators=81, min_samples_split=121, min_samples_leaf=19, max_features=9, max_depth=17, score=nan, total=   0.0s\n",
      "[CV] n_estimators=81, min_samples_split=121, min_samples_leaf=19, max_features=9, max_depth=17 \n",
      "[CV]  n_estimators=81, min_samples_split=121, min_samples_leaf=19, max_features=9, max_depth=17, score=nan, total=   0.0s\n",
      "[CV] n_estimators=31, min_samples_split=61, min_samples_leaf=11, max_features=3, max_depth=7 \n",
      "[CV]  n_estimators=31, min_samples_split=61, min_samples_leaf=11, max_features=3, max_depth=7, score=0.804, total=   0.0s\n",
      "[CV] n_estimators=31, min_samples_split=61, min_samples_leaf=11, max_features=3, max_depth=7 \n",
      "[CV]  n_estimators=31, min_samples_split=61, min_samples_leaf=11, max_features=3, max_depth=7, score=0.785, total=   0.0s\n",
      "[CV] n_estimators=31, min_samples_split=61, min_samples_leaf=11, max_features=3, max_depth=7 \n",
      "[CV]  n_estimators=31, min_samples_split=61, min_samples_leaf=11, max_features=3, max_depth=7, score=0.810, total=   0.0s\n",
      "[CV] n_estimators=31, min_samples_split=61, min_samples_leaf=11, max_features=3, max_depth=7 \n",
      "[CV]  n_estimators=31, min_samples_split=61, min_samples_leaf=11, max_features=3, max_depth=7, score=0.757, total=   0.0s\n",
      "[CV] n_estimators=31, min_samples_split=61, min_samples_leaf=11, max_features=3, max_depth=7 \n",
      "[CV]  n_estimators=31, min_samples_split=61, min_samples_leaf=11, max_features=3, max_depth=7, score=0.813, total=   0.0s\n",
      "[CV] n_estimators=31, min_samples_split=21, min_samples_leaf=3, max_features=9, max_depth=15 \n",
      "[CV]  n_estimators=31, min_samples_split=21, min_samples_leaf=3, max_features=9, max_depth=15, score=nan, total=   0.0s\n",
      "[CV] n_estimators=31, min_samples_split=21, min_samples_leaf=3, max_features=9, max_depth=15 \n",
      "[CV]  n_estimators=31, min_samples_split=21, min_samples_leaf=3, max_features=9, max_depth=15, score=nan, total=   0.0s\n",
      "[CV] n_estimators=31, min_samples_split=21, min_samples_leaf=3, max_features=9, max_depth=15 \n",
      "[CV]  n_estimators=31, min_samples_split=21, min_samples_leaf=3, max_features=9, max_depth=15, score=nan, total=   0.0s\n",
      "[CV] n_estimators=31, min_samples_split=21, min_samples_leaf=3, max_features=9, max_depth=15 \n",
      "[CV]  n_estimators=31, min_samples_split=21, min_samples_leaf=3, max_features=9, max_depth=15, score=nan, total=   0.0s\n",
      "[CV] n_estimators=31, min_samples_split=21, min_samples_leaf=3, max_features=9, max_depth=15 \n",
      "[CV]  n_estimators=31, min_samples_split=21, min_samples_leaf=3, max_features=9, max_depth=15, score=nan, total=   0.0s\n",
      "[CV] n_estimators=61, min_samples_split=41, min_samples_leaf=9, max_features=9, max_depth=15 \n",
      "[CV]  n_estimators=61, min_samples_split=41, min_samples_leaf=9, max_features=9, max_depth=15, score=nan, total=   0.0s\n",
      "[CV] n_estimators=61, min_samples_split=41, min_samples_leaf=9, max_features=9, max_depth=15 \n",
      "[CV]  n_estimators=61, min_samples_split=41, min_samples_leaf=9, max_features=9, max_depth=15, score=nan, total=   0.0s\n",
      "[CV] n_estimators=61, min_samples_split=41, min_samples_leaf=9, max_features=9, max_depth=15 \n",
      "[CV]  n_estimators=61, min_samples_split=41, min_samples_leaf=9, max_features=9, max_depth=15, score=nan, total=   0.0s\n",
      "[CV] n_estimators=61, min_samples_split=41, min_samples_leaf=9, max_features=9, max_depth=15 \n",
      "[CV]  n_estimators=61, min_samples_split=41, min_samples_leaf=9, max_features=9, max_depth=15, score=nan, total=   0.0s\n",
      "[CV] n_estimators=61, min_samples_split=41, min_samples_leaf=9, max_features=9, max_depth=15 \n",
      "[CV]  n_estimators=61, min_samples_split=41, min_samples_leaf=9, max_features=9, max_depth=15, score=nan, total=   0.0s\n",
      "[CV] n_estimators=81, min_samples_split=21, min_samples_leaf=13, max_features=9, max_depth=13 \n",
      "[CV]  n_estimators=81, min_samples_split=21, min_samples_leaf=13, max_features=9, max_depth=13, score=nan, total=   0.0s\n",
      "[CV] n_estimators=81, min_samples_split=21, min_samples_leaf=13, max_features=9, max_depth=13 \n",
      "[CV]  n_estimators=81, min_samples_split=21, min_samples_leaf=13, max_features=9, max_depth=13, score=nan, total=   0.0s\n",
      "[CV] n_estimators=81, min_samples_split=21, min_samples_leaf=13, max_features=9, max_depth=13 \n",
      "[CV]  n_estimators=81, min_samples_split=21, min_samples_leaf=13, max_features=9, max_depth=13, score=nan, total=   0.0s\n",
      "[CV] n_estimators=81, min_samples_split=21, min_samples_leaf=13, max_features=9, max_depth=13 \n",
      "[CV]  n_estimators=81, min_samples_split=21, min_samples_leaf=13, max_features=9, max_depth=13, score=nan, total=   0.0s\n",
      "[CV] n_estimators=81, min_samples_split=21, min_samples_leaf=13, max_features=9, max_depth=13 \n"
     ]
    },
    {
     "name": "stdout",
     "output_type": "stream",
     "text": [
      "[CV]  n_estimators=81, min_samples_split=21, min_samples_leaf=13, max_features=9, max_depth=13, score=nan, total=   0.0s\n",
      "[CV] n_estimators=21, min_samples_split=81, min_samples_leaf=19, max_features=1, max_depth=17 \n",
      "[CV]  n_estimators=21, min_samples_split=81, min_samples_leaf=19, max_features=1, max_depth=17, score=0.742, total=   0.0s\n",
      "[CV] n_estimators=21, min_samples_split=81, min_samples_leaf=19, max_features=1, max_depth=17 \n",
      "[CV]  n_estimators=21, min_samples_split=81, min_samples_leaf=19, max_features=1, max_depth=17, score=0.654, total=   0.0s\n",
      "[CV] n_estimators=21, min_samples_split=81, min_samples_leaf=19, max_features=1, max_depth=17 \n",
      "[CV]  n_estimators=21, min_samples_split=81, min_samples_leaf=19, max_features=1, max_depth=17, score=0.704, total=   0.0s\n",
      "[CV] n_estimators=21, min_samples_split=81, min_samples_leaf=19, max_features=1, max_depth=17 \n",
      "[CV]  n_estimators=21, min_samples_split=81, min_samples_leaf=19, max_features=1, max_depth=17, score=0.739, total=   0.0s\n",
      "[CV] n_estimators=21, min_samples_split=81, min_samples_leaf=19, max_features=1, max_depth=17 \n",
      "[CV]  n_estimators=21, min_samples_split=81, min_samples_leaf=19, max_features=1, max_depth=17, score=0.731, total=   0.0s\n",
      "[CV] n_estimators=31, min_samples_split=101, min_samples_leaf=3, max_features=7, max_depth=9 \n",
      "[CV]  n_estimators=31, min_samples_split=101, min_samples_leaf=3, max_features=7, max_depth=9, score=0.697, total=   0.0s\n",
      "[CV] n_estimators=31, min_samples_split=101, min_samples_leaf=3, max_features=7, max_depth=9 \n",
      "[CV]  n_estimators=31, min_samples_split=101, min_samples_leaf=3, max_features=7, max_depth=9, score=0.726, total=   0.0s\n",
      "[CV] n_estimators=31, min_samples_split=101, min_samples_leaf=3, max_features=7, max_depth=9 \n",
      "[CV]  n_estimators=31, min_samples_split=101, min_samples_leaf=3, max_features=7, max_depth=9, score=0.722, total=   0.0s\n",
      "[CV] n_estimators=31, min_samples_split=101, min_samples_leaf=3, max_features=7, max_depth=9 \n",
      "[CV]  n_estimators=31, min_samples_split=101, min_samples_leaf=3, max_features=7, max_depth=9, score=0.729, total=   0.0s\n",
      "[CV] n_estimators=31, min_samples_split=101, min_samples_leaf=3, max_features=7, max_depth=9 \n",
      "[CV]  n_estimators=31, min_samples_split=101, min_samples_leaf=3, max_features=7, max_depth=9, score=0.728, total=   0.0s\n",
      "[CV] n_estimators=21, min_samples_split=1, min_samples_leaf=17, max_features=1, max_depth=21 \n",
      "[CV]  n_estimators=21, min_samples_split=1, min_samples_leaf=17, max_features=1, max_depth=21, score=nan, total=   0.0s\n",
      "[CV] n_estimators=21, min_samples_split=1, min_samples_leaf=17, max_features=1, max_depth=21 \n",
      "[CV]  n_estimators=21, min_samples_split=1, min_samples_leaf=17, max_features=1, max_depth=21, score=nan, total=   0.0s\n",
      "[CV] n_estimators=21, min_samples_split=1, min_samples_leaf=17, max_features=1, max_depth=21 \n",
      "[CV]  n_estimators=21, min_samples_split=1, min_samples_leaf=17, max_features=1, max_depth=21, score=nan, total=   0.0s\n",
      "[CV] n_estimators=21, min_samples_split=1, min_samples_leaf=17, max_features=1, max_depth=21 \n",
      "[CV]  n_estimators=21, min_samples_split=1, min_samples_leaf=17, max_features=1, max_depth=21, score=nan, total=   0.0s\n",
      "[CV] n_estimators=21, min_samples_split=1, min_samples_leaf=17, max_features=1, max_depth=21 \n",
      "[CV]  n_estimators=21, min_samples_split=1, min_samples_leaf=17, max_features=1, max_depth=21, score=nan, total=   0.0s\n",
      "[CV] n_estimators=21, min_samples_split=141, min_samples_leaf=17, max_features=3, max_depth=1 \n",
      "[CV]  n_estimators=21, min_samples_split=141, min_samples_leaf=17, max_features=3, max_depth=1, score=0.669, total=   0.0s\n",
      "[CV] n_estimators=21, min_samples_split=141, min_samples_leaf=17, max_features=3, max_depth=1 \n",
      "[CV]  n_estimators=21, min_samples_split=141, min_samples_leaf=17, max_features=3, max_depth=1, score=0.596, total=   0.0s\n",
      "[CV] n_estimators=21, min_samples_split=141, min_samples_leaf=17, max_features=3, max_depth=1 \n",
      "[CV]  n_estimators=21, min_samples_split=141, min_samples_leaf=17, max_features=3, max_depth=1, score=0.596, total=   0.0s\n",
      "[CV] n_estimators=21, min_samples_split=141, min_samples_leaf=17, max_features=3, max_depth=1 \n",
      "[CV]  n_estimators=21, min_samples_split=141, min_samples_leaf=17, max_features=3, max_depth=1, score=0.647, total=   0.0s\n",
      "[CV] n_estimators=21, min_samples_split=141, min_samples_leaf=17, max_features=3, max_depth=1 \n",
      "[CV]  n_estimators=21, min_samples_split=141, min_samples_leaf=17, max_features=3, max_depth=1, score=0.608, total=   0.0s\n",
      "[CV] n_estimators=81, min_samples_split=161, min_samples_leaf=9, max_features=7, max_depth=23 \n",
      "[CV]  n_estimators=81, min_samples_split=161, min_samples_leaf=9, max_features=7, max_depth=23, score=0.667, total=   0.1s\n",
      "[CV] n_estimators=81, min_samples_split=161, min_samples_leaf=9, max_features=7, max_depth=23 \n",
      "[CV]  n_estimators=81, min_samples_split=161, min_samples_leaf=9, max_features=7, max_depth=23, score=0.566, total=   0.1s\n",
      "[CV] n_estimators=81, min_samples_split=161, min_samples_leaf=9, max_features=7, max_depth=23 \n",
      "[CV]  n_estimators=81, min_samples_split=161, min_samples_leaf=9, max_features=7, max_depth=23, score=0.594, total=   0.1s\n",
      "[CV] n_estimators=81, min_samples_split=161, min_samples_leaf=9, max_features=7, max_depth=23 \n",
      "[CV]  n_estimators=81, min_samples_split=161, min_samples_leaf=9, max_features=7, max_depth=23, score=0.653, total=   0.1s\n",
      "[CV] n_estimators=81, min_samples_split=161, min_samples_leaf=9, max_features=7, max_depth=23 \n",
      "[CV]  n_estimators=81, min_samples_split=161, min_samples_leaf=9, max_features=7, max_depth=23, score=0.526, total=   0.1s\n",
      "[CV] n_estimators=61, min_samples_split=161, min_samples_leaf=9, max_features=7, max_depth=15 \n",
      "[CV]  n_estimators=61, min_samples_split=161, min_samples_leaf=9, max_features=7, max_depth=15, score=0.669, total=   0.1s\n",
      "[CV] n_estimators=61, min_samples_split=161, min_samples_leaf=9, max_features=7, max_depth=15 \n",
      "[CV]  n_estimators=61, min_samples_split=161, min_samples_leaf=9, max_features=7, max_depth=15, score=0.571, total=   0.1s\n",
      "[CV] n_estimators=61, min_samples_split=161, min_samples_leaf=9, max_features=7, max_depth=15 \n",
      "[CV]  n_estimators=61, min_samples_split=161, min_samples_leaf=9, max_features=7, max_depth=15, score=0.594, total=   0.1s\n",
      "[CV] n_estimators=61, min_samples_split=161, min_samples_leaf=9, max_features=7, max_depth=15 \n",
      "[CV]  n_estimators=61, min_samples_split=161, min_samples_leaf=9, max_features=7, max_depth=15, score=0.648, total=   0.1s\n",
      "[CV] n_estimators=61, min_samples_split=161, min_samples_leaf=9, max_features=7, max_depth=15 \n",
      "[CV]  n_estimators=61, min_samples_split=161, min_samples_leaf=9, max_features=7, max_depth=15, score=0.545, total=   0.1s\n",
      "[CV] n_estimators=31, min_samples_split=1, min_samples_leaf=11, max_features=3, max_depth=1 \n",
      "[CV]  n_estimators=31, min_samples_split=1, min_samples_leaf=11, max_features=3, max_depth=1, score=nan, total=   0.0s\n",
      "[CV] n_estimators=31, min_samples_split=1, min_samples_leaf=11, max_features=3, max_depth=1 \n",
      "[CV]  n_estimators=31, min_samples_split=1, min_samples_leaf=11, max_features=3, max_depth=1, score=nan, total=   0.0s\n",
      "[CV] n_estimators=31, min_samples_split=1, min_samples_leaf=11, max_features=3, max_depth=1 \n",
      "[CV]  n_estimators=31, min_samples_split=1, min_samples_leaf=11, max_features=3, max_depth=1, score=nan, total=   0.0s\n",
      "[CV] n_estimators=31, min_samples_split=1, min_samples_leaf=11, max_features=3, max_depth=1 \n",
      "[CV]  n_estimators=31, min_samples_split=1, min_samples_leaf=11, max_features=3, max_depth=1, score=nan, total=   0.0s\n",
      "[CV] n_estimators=31, min_samples_split=1, min_samples_leaf=11, max_features=3, max_depth=1 \n",
      "[CV]  n_estimators=31, min_samples_split=1, min_samples_leaf=11, max_features=3, max_depth=1, score=nan, total=   0.0s\n",
      "[CV] n_estimators=1, min_samples_split=41, min_samples_leaf=3, max_features=7, max_depth=15 \n",
      "[CV]  n_estimators=1, min_samples_split=41, min_samples_leaf=3, max_features=7, max_depth=15, score=0.749, total=   0.0s\n",
      "[CV] n_estimators=1, min_samples_split=41, min_samples_leaf=3, max_features=7, max_depth=15 \n",
      "[CV]  n_estimators=1, min_samples_split=41, min_samples_leaf=3, max_features=7, max_depth=15, score=0.793, total=   0.0s\n",
      "[CV] n_estimators=1, min_samples_split=41, min_samples_leaf=3, max_features=7, max_depth=15 \n",
      "[CV]  n_estimators=1, min_samples_split=41, min_samples_leaf=3, max_features=7, max_depth=15, score=0.752, total=   0.0s\n",
      "[CV] n_estimators=1, min_samples_split=41, min_samples_leaf=3, max_features=7, max_depth=15 \n",
      "[CV]  n_estimators=1, min_samples_split=41, min_samples_leaf=3, max_features=7, max_depth=15, score=0.677, total=   0.0s\n",
      "[CV] n_estimators=1, min_samples_split=41, min_samples_leaf=3, max_features=7, max_depth=15 \n",
      "[CV]  n_estimators=1, min_samples_split=41, min_samples_leaf=3, max_features=7, max_depth=15, score=0.762, total=   0.0s\n",
      "RandomForestRegressor(max_depth=9, max_features=3, min_samples_leaf=13,\n",
      "                      min_samples_split=21, n_estimators=71)\n"
     ]
    },
    {
     "name": "stderr",
     "output_type": "stream",
     "text": [
      "[Parallel(n_jobs=1)]: Done 500 out of 500 | elapsed:   22.4s finished\n"
     ]
    }
   ],
   "source": [
    "from sklearn.model_selection import RandomizedSearchCV\n",
    "param_dist = {\"max_depth\": range(1,30,2),\n",
    "              \"max_features\": range(1,11,2),\n",
    "              \"min_samples_split\": range(1,201,20),\n",
    "              \"min_samples_leaf\": range(1,20,2),\n",
    "              \"n_estimators\": range(1,101,10),\n",
    "             }\n",
    "\n",
    "random_search = RandomizedSearchCV(rf, param_distributions = param_dist,\n",
    "                                   n_iter = 100, scoring = \"r2\", verbose = 5)\n",
    "\n",
    "random_search.fit(X_train, y_train)\n",
    "print(random_search.best_estimator_)\n",
    "best_clf = random_search.best_estimator_\n",
    "y_pred_rf_opt = best_clf.predict(X_test)"
   ]
  },
  {
   "cell_type": "code",
   "execution_count": 28,
   "metadata": {},
   "outputs": [
    {
     "name": "stdout",
     "output_type": "stream",
     "text": [
      "r2 of random forest after optimization 0.739753420681714\n"
     ]
    }
   ],
   "source": [
    "print(\"r2 of random forest after optimization\", r2_score(y_test, y_pred_rf_opt))"
   ]
  },
  {
   "cell_type": "code",
   "execution_count": 29,
   "metadata": {},
   "outputs": [
    {
     "data": {
      "image/png": "[encoded data removed]",
      "text/plain": [
       "<Figure size 432x288 with 1 Axes>"
      ]
     },
     "metadata": {
      "needs_background": "light"
     },
     "output_type": "display_data"
    }
   ],
   "source": [
    "plt.xlabel('y_pred_rf_opt')\n",
    "plt.ylabel('y_test')\n",
    "plt.scatter(y_pred_rf_opt, y_test)\n",
    "plt.show() "
   ]
  }
 ],
 "metadata": {
  "kernelspec": {
   "display_name": "Python 3",
   "language": "python",
   "name": "python3"
  },
  "language_info": {
   "codemirror_mode": {
    "name": "ipython",
    "version": 3
   },
   "file_extension": ".py",
   "mimetype": "text/x-python",
   "name": "python",
   "nbconvert_exporter": "python",
   "pygments_lexer": "ipython3",
   "version": "3.8.5"
  }
 },
 "nbformat": 4,
 "nbformat_minor": 2
}
