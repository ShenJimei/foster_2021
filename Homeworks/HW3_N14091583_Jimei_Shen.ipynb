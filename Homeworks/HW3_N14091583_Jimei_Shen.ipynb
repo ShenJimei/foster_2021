{
 "cells": [
  {
   "cell_type": "code",
   "execution_count": 1,
   "metadata": {
    "scrolled": true
   },
   "outputs": [],
   "source": [
    "#If opening in colab run this cell\n",
    "# !git clone https://github.com/bwolfson2/foster_in_dev\n",
    "# %cd foster_in_dev/Homeworks"
   ]
  },
  {
   "cell_type": "markdown",
   "metadata": {},
   "source": [
    "# IF OPENING IN COLAB, PLEASE REMEMBER TO SAVE THE NOTEBOOK TO YOUR GOOGLE DRIVE"
   ]
  },
  {
   "cell_type": "markdown",
   "metadata": {},
   "source": [
    "To open notebook in Colab please click below:\n",
    "\n",
    "<a href=\"https://colab.research.google.com/github/bwolfson2/foster_in_dev/blob/master/Homeworks/Homework%203.ipynb\" target=\"_parent\"> <img src=\"https://colab.research.google.com/assets/colab-badge.svg\" alt=\"Open In Colab\" /> </a>'"
   ]
  },
  {
   "cell_type": "markdown",
   "metadata": {},
   "source": [
    "# Predicting Churn\n",
    "\n",
    "After discussing the churn problem at TelCo with Henrietta for a while (remember, from your pre-class assignment?), you've finally defined an adequate target variable for churn and gathered relevant data to predict it. Moreover, the marketing department has come up with an amazing retention offer: the offer is guaranteed to convince customers to extend their contract for an extra year after receiving it. Unfortunately, the offer is quite expensive; it costs $200. \n",
    "\n",
    "You've been authorized to give the retention offer to up to 25% of the customers whose contract is expiring. It is your job to use data from previous contract expirations to build a churn predictive model and make a recommendation of whom to target with the offers. The historical data includes:\n",
    "\n",
    "- Gender: Whether the customer is a male or a female\n",
    "- SeniorCitizen: Whether the customer is a senior citizen or not (1, 0)\n",
    "- Partner: Whether the customer has a partner or not (Yes, No)\n",
    "- Dependents: Whether the customer has dependents or not (Yes, No)\n",
    "- tenure: Number of months the customer has stayed with the company\n",
    "- PhoneService: Whether the customer has a phone service or not (Yes, No)\n",
    "- MultipleLines: Whether the customer has multiple lines or not (Yes, No, No phone service)\n",
    "- InternetService: Customer’s internet service provider (DSL, Fiber optic, No)\n",
    "- OnlineSecurity: Whether the customer has online security or not (Yes, No, No internet service)\n",
    "- OnlineBackup: Whether the customer has online backup or not (Yes, No, No internet service)\n",
    "- DeviceProtection: Whether the customer has device protection or not (Yes, No, No internet service)\n",
    "- TechSupport: Whether the customer has tech support or not (Yes, No, No internet service)\n",
    "- StreamingTV: Whether the customer has streaming TV or not (Yes, No, No internet service)\n",
    "- StreamingMovies: Whether the customer has streaming movies or not (Yes, No, No internet service)\n",
    "- Contract: The contract term of the customer (Month-to-month, One year, Two year)\n",
    "- PaperlessBilling: Whether the customer has paperless billing or not (Yes, No)\n",
    "- PaymentMethod: The customer’s payment method (Electronic check, Mailed check, Bank transfer (automatic), Credit card (automatic))\n",
    "- MonthlyCharges: The amount charged to the customer monthly\n",
    "- Churn: Whether the customer churned or not shortly after contract expiration (Yes or No)"
   ]
  },
  {
   "cell_type": "markdown",
   "metadata": {},
   "source": [
    "__1. Load the churn data. The code below will also transform your categorical variables into dummy variables. No points for this. This is just meant to help you get started.__"
   ]
  },
  {
   "cell_type": "code",
   "execution_count": 2,
   "metadata": {},
   "outputs": [],
   "source": [
    "import warnings\n",
    "warnings.filterwarnings('ignore')"
   ]
  },
  {
   "cell_type": "code",
   "execution_count": 3,
   "metadata": {},
   "outputs": [],
   "source": [
    "import numpy as np\n",
    "import pandas as pd\n",
    "\n",
    "# Just change the path below so that it points to your file.\n",
    "data_path = \"./data/data-hw3.csv\" \n",
    "\n",
    "df = pd.read_csv(data_path)\n",
    "df = pd.get_dummies(df, drop_first=True)"
   ]
  },
  {
   "cell_type": "code",
   "execution_count": 4,
   "metadata": {},
   "outputs": [
    {
     "data": {
      "text/html": [
       "<div>\n",
       "<style scoped>\n",
       "    .dataframe tbody tr th:only-of-type {\n",
       "        vertical-align: middle;\n",
       "    }\n",
       "\n",
       "    .dataframe tbody tr th {\n",
       "        vertical-align: top;\n",
       "    }\n",
       "\n",
       "    .dataframe thead th {\n",
       "        text-align: right;\n",
       "    }\n",
       "</style>\n",
       "<table border=\"1\" class=\"dataframe\">\n",
       "  <thead>\n",
       "    <tr style=\"text-align: right;\">\n",
       "      <th></th>\n",
       "      <th>SeniorCitizen</th>\n",
       "      <th>tenure</th>\n",
       "      <th>MonthlyCharges</th>\n",
       "      <th>gender_Male</th>\n",
       "      <th>Partner_Yes</th>\n",
       "      <th>Dependents_Yes</th>\n",
       "      <th>PhoneService_Yes</th>\n",
       "      <th>MultipleLines_No phone service</th>\n",
       "      <th>MultipleLines_Yes</th>\n",
       "      <th>InternetService_Fiber optic</th>\n",
       "      <th>...</th>\n",
       "      <th>StreamingTV_Yes</th>\n",
       "      <th>StreamingMovies_No internet service</th>\n",
       "      <th>StreamingMovies_Yes</th>\n",
       "      <th>Contract_One year</th>\n",
       "      <th>Contract_Two year</th>\n",
       "      <th>PaperlessBilling_Yes</th>\n",
       "      <th>PaymentMethod_Credit card (automatic)</th>\n",
       "      <th>PaymentMethod_Electronic check</th>\n",
       "      <th>PaymentMethod_Mailed check</th>\n",
       "      <th>Churn_Yes</th>\n",
       "    </tr>\n",
       "  </thead>\n",
       "  <tbody>\n",
       "    <tr>\n",
       "      <th>0</th>\n",
       "      <td>0</td>\n",
       "      <td>1</td>\n",
       "      <td>29.85</td>\n",
       "      <td>0</td>\n",
       "      <td>1</td>\n",
       "      <td>0</td>\n",
       "      <td>0</td>\n",
       "      <td>1</td>\n",
       "      <td>0</td>\n",
       "      <td>0</td>\n",
       "      <td>...</td>\n",
       "      <td>0</td>\n",
       "      <td>0</td>\n",
       "      <td>0</td>\n",
       "      <td>0</td>\n",
       "      <td>0</td>\n",
       "      <td>1</td>\n",
       "      <td>0</td>\n",
       "      <td>1</td>\n",
       "      <td>0</td>\n",
       "      <td>0</td>\n",
       "    </tr>\n",
       "    <tr>\n",
       "      <th>1</th>\n",
       "      <td>0</td>\n",
       "      <td>34</td>\n",
       "      <td>56.95</td>\n",
       "      <td>1</td>\n",
       "      <td>0</td>\n",
       "      <td>0</td>\n",
       "      <td>1</td>\n",
       "      <td>0</td>\n",
       "      <td>0</td>\n",
       "      <td>0</td>\n",
       "      <td>...</td>\n",
       "      <td>0</td>\n",
       "      <td>0</td>\n",
       "      <td>0</td>\n",
       "      <td>1</td>\n",
       "      <td>0</td>\n",
       "      <td>0</td>\n",
       "      <td>0</td>\n",
       "      <td>0</td>\n",
       "      <td>1</td>\n",
       "      <td>0</td>\n",
       "    </tr>\n",
       "    <tr>\n",
       "      <th>2</th>\n",
       "      <td>0</td>\n",
       "      <td>2</td>\n",
       "      <td>53.85</td>\n",
       "      <td>1</td>\n",
       "      <td>0</td>\n",
       "      <td>0</td>\n",
       "      <td>1</td>\n",
       "      <td>0</td>\n",
       "      <td>0</td>\n",
       "      <td>0</td>\n",
       "      <td>...</td>\n",
       "      <td>0</td>\n",
       "      <td>0</td>\n",
       "      <td>0</td>\n",
       "      <td>0</td>\n",
       "      <td>0</td>\n",
       "      <td>1</td>\n",
       "      <td>0</td>\n",
       "      <td>0</td>\n",
       "      <td>1</td>\n",
       "      <td>1</td>\n",
       "    </tr>\n",
       "    <tr>\n",
       "      <th>3</th>\n",
       "      <td>0</td>\n",
       "      <td>45</td>\n",
       "      <td>42.30</td>\n",
       "      <td>1</td>\n",
       "      <td>0</td>\n",
       "      <td>0</td>\n",
       "      <td>0</td>\n",
       "      <td>1</td>\n",
       "      <td>0</td>\n",
       "      <td>0</td>\n",
       "      <td>...</td>\n",
       "      <td>0</td>\n",
       "      <td>0</td>\n",
       "      <td>0</td>\n",
       "      <td>1</td>\n",
       "      <td>0</td>\n",
       "      <td>0</td>\n",
       "      <td>0</td>\n",
       "      <td>0</td>\n",
       "      <td>0</td>\n",
       "      <td>0</td>\n",
       "    </tr>\n",
       "    <tr>\n",
       "      <th>4</th>\n",
       "      <td>0</td>\n",
       "      <td>2</td>\n",
       "      <td>70.70</td>\n",
       "      <td>0</td>\n",
       "      <td>0</td>\n",
       "      <td>0</td>\n",
       "      <td>1</td>\n",
       "      <td>0</td>\n",
       "      <td>0</td>\n",
       "      <td>1</td>\n",
       "      <td>...</td>\n",
       "      <td>0</td>\n",
       "      <td>0</td>\n",
       "      <td>0</td>\n",
       "      <td>0</td>\n",
       "      <td>0</td>\n",
       "      <td>1</td>\n",
       "      <td>0</td>\n",
       "      <td>1</td>\n",
       "      <td>0</td>\n",
       "      <td>1</td>\n",
       "    </tr>\n",
       "  </tbody>\n",
       "</table>\n",
       "<p>5 rows × 30 columns</p>\n",
       "</div>"
      ],
      "text/plain": [
       "   SeniorCitizen  tenure  MonthlyCharges  gender_Male  Partner_Yes  \\\n",
       "0              0       1           29.85            0            1   \n",
       "1              0      34           56.95            1            0   \n",
       "2              0       2           53.85            1            0   \n",
       "3              0      45           42.30            1            0   \n",
       "4              0       2           70.70            0            0   \n",
       "\n",
       "   Dependents_Yes  PhoneService_Yes  MultipleLines_No phone service  \\\n",
       "0               0                 0                               1   \n",
       "1               0                 1                               0   \n",
       "2               0                 1                               0   \n",
       "3               0                 0                               1   \n",
       "4               0                 1                               0   \n",
       "\n",
       "   MultipleLines_Yes  InternetService_Fiber optic  ...  StreamingTV_Yes  \\\n",
       "0                  0                            0  ...                0   \n",
       "1                  0                            0  ...                0   \n",
       "2                  0                            0  ...                0   \n",
       "3                  0                            0  ...                0   \n",
       "4                  0                            1  ...                0   \n",
       "\n",
       "   StreamingMovies_No internet service  StreamingMovies_Yes  \\\n",
       "0                                    0                    0   \n",
       "1                                    0                    0   \n",
       "2                                    0                    0   \n",
       "3                                    0                    0   \n",
       "4                                    0                    0   \n",
       "\n",
       "   Contract_One year  Contract_Two year  PaperlessBilling_Yes  \\\n",
       "0                  0                  0                     1   \n",
       "1                  1                  0                     0   \n",
       "2                  0                  0                     1   \n",
       "3                  1                  0                     0   \n",
       "4                  0                  0                     1   \n",
       "\n",
       "   PaymentMethod_Credit card (automatic)  PaymentMethod_Electronic check  \\\n",
       "0                                      0                               1   \n",
       "1                                      0                               0   \n",
       "2                                      0                               0   \n",
       "3                                      0                               0   \n",
       "4                                      0                               1   \n",
       "\n",
       "   PaymentMethod_Mailed check  Churn_Yes  \n",
       "0                           0          0  \n",
       "1                           1          0  \n",
       "2                           1          1  \n",
       "3                           0          0  \n",
       "4                           0          1  \n",
       "\n",
       "[5 rows x 30 columns]"
      ]
     },
     "execution_count": 4,
     "metadata": {},
     "output_type": "execute_result"
    }
   ],
   "source": [
    "df.head()"
   ]
  },
  {
   "cell_type": "code",
   "execution_count": 5,
   "metadata": {},
   "outputs": [
    {
     "name": "stdout",
     "output_type": "stream",
     "text": [
      "The data has 7032 lines and 30 columns.\n"
     ]
    }
   ],
   "source": [
    "print(\"The data has %d lines and %d columns.\"%(df.shape[0],df.shape[1]))"
   ]
  },
  {
   "cell_type": "code",
   "execution_count": 6,
   "metadata": {
    "scrolled": true
   },
   "outputs": [
    {
     "name": "stdout",
     "output_type": "stream",
     "text": [
      "<class 'pandas.core.frame.DataFrame'>\n",
      "RangeIndex: 7032 entries, 0 to 7031\n",
      "Data columns (total 30 columns):\n",
      " #   Column                                 Non-Null Count  Dtype  \n",
      "---  ------                                 --------------  -----  \n",
      " 0   SeniorCitizen                          7032 non-null   int64  \n",
      " 1   tenure                                 7032 non-null   int64  \n",
      " 2   MonthlyCharges                         7032 non-null   float64\n",
      " 3   gender_Male                            7032 non-null   uint8  \n",
      " 4   Partner_Yes                            7032 non-null   uint8  \n",
      " 5   Dependents_Yes                         7032 non-null   uint8  \n",
      " 6   PhoneService_Yes                       7032 non-null   uint8  \n",
      " 7   MultipleLines_No phone service         7032 non-null   uint8  \n",
      " 8   MultipleLines_Yes                      7032 non-null   uint8  \n",
      " 9   InternetService_Fiber optic            7032 non-null   uint8  \n",
      " 10  InternetService_No                     7032 non-null   uint8  \n",
      " 11  OnlineSecurity_No internet service     7032 non-null   uint8  \n",
      " 12  OnlineSecurity_Yes                     7032 non-null   uint8  \n",
      " 13  OnlineBackup_No internet service       7032 non-null   uint8  \n",
      " 14  OnlineBackup_Yes                       7032 non-null   uint8  \n",
      " 15  DeviceProtection_No internet service   7032 non-null   uint8  \n",
      " 16  DeviceProtection_Yes                   7032 non-null   uint8  \n",
      " 17  TechSupport_No internet service        7032 non-null   uint8  \n",
      " 18  TechSupport_Yes                        7032 non-null   uint8  \n",
      " 19  StreamingTV_No internet service        7032 non-null   uint8  \n",
      " 20  StreamingTV_Yes                        7032 non-null   uint8  \n",
      " 21  StreamingMovies_No internet service    7032 non-null   uint8  \n",
      " 22  StreamingMovies_Yes                    7032 non-null   uint8  \n",
      " 23  Contract_One year                      7032 non-null   uint8  \n",
      " 24  Contract_Two year                      7032 non-null   uint8  \n",
      " 25  PaperlessBilling_Yes                   7032 non-null   uint8  \n",
      " 26  PaymentMethod_Credit card (automatic)  7032 non-null   uint8  \n",
      " 27  PaymentMethod_Electronic check         7032 non-null   uint8  \n",
      " 28  PaymentMethod_Mailed check             7032 non-null   uint8  \n",
      " 29  Churn_Yes                              7032 non-null   uint8  \n",
      "dtypes: float64(1), int64(2), uint8(27)\n",
      "memory usage: 350.4 KB\n"
     ]
    }
   ],
   "source": [
    "df.info()"
   ]
  },
  {
   "cell_type": "markdown",
   "metadata": {},
   "source": [
    "__2. Split the data into 80% training data and 20% test data.__"
   ]
  },
  {
   "cell_type": "code",
   "execution_count": 7,
   "metadata": {},
   "outputs": [],
   "source": [
    "target = \"Churn_Yes\"\n",
    "predictors = df.columns[df.columns != target]"
   ]
  },
  {
   "cell_type": "code",
   "execution_count": 8,
   "metadata": {},
   "outputs": [],
   "source": [
    "from sklearn.model_selection import train_test_split\n",
    "X_train,X_test,y_train,y_test = train_test_split(df[predictors], df[target],train_size=0.8,test_size=0.2)"
   ]
  },
  {
   "cell_type": "markdown",
   "metadata": {},
   "source": [
    "__3. Build the best model you can for each of the following three model types:__\n",
    "- __A decision tree classifier. Try different values for the parameter min_samples_leaf.__\n",
    "- __A logistic regression. Try different values for the parameter C.__\n",
    "- __A third model of your choice. Some suggestions: KNN, SVM, etc. Try different paramater values for this one too.__\n",
    "\n",
    "__Optimize in terms of their generalization performance using ROC Area and cross-validation with 10 folds. Remember to use only the training data (do not use the test data at all for this example). For each of these model types, you should report the best parameter value you found and the corresponding ROC Area in the cross-validation. Your code should also show the process you went through to try different complexity parameter(s) for each model type. Pick one model to move forward with. Why did you select this one?__\n",
    "\n",
    "__HINT: There is an example below of the ROC Area for a DecisionTreeClassifier using cross validation.__  "
   ]
  },
  {
   "cell_type": "code",
   "execution_count": 9,
   "metadata": {
    "scrolled": true
   },
   "outputs": [
    {
     "name": "stdout",
     "output_type": "stream",
     "text": [
      "min_samples_leaf: 1 avg_auc: 0.6559740410919037 training time used: 0.2720625400543213\n",
      "min_samples_leaf: 6 avg_auc: 0.7606968689485714 training time used: 0.19593429565429688\n",
      "min_samples_leaf: 11 avg_auc: 0.7909356010017351 training time used: 0.20506763458251953\n",
      "min_samples_leaf: 16 avg_auc: 0.8054480888693828 training time used: 0.16860151290893555\n",
      "min_samples_leaf: 21 avg_auc: 0.8099768836411056 training time used: 0.18764781951904297\n",
      "min_samples_leaf: 26 avg_auc: 0.8178446197638184 training time used: 0.19862079620361328\n",
      "min_samples_leaf: 31 avg_auc: 0.8183181020203023 training time used: 0.23598289489746094\n",
      "min_samples_leaf: 36 avg_auc: 0.8211226220982638 training time used: 0.16416645050048828\n",
      "min_samples_leaf: 41 avg_auc: 0.8227756344610719 training time used: 0.17897772789001465\n",
      "min_samples_leaf: 46 avg_auc: 0.8235766292746387 training time used: 0.15523862838745117\n",
      "min_samples_leaf: 51 avg_auc: 0.8241627005475879 training time used: 0.1720445156097412\n",
      "min_samples_leaf: 56 avg_auc: 0.8233650327907792 training time used: 0.13901782035827637\n",
      "min_samples_leaf: 61 avg_auc: 0.8250911007917294 training time used: 0.17513346672058105\n",
      "min_samples_leaf: 66 avg_auc: 0.8259962725952773 training time used: 0.14058256149291992\n",
      "min_samples_leaf: 71 avg_auc: 0.8260821173452133 training time used: 0.15345263481140137\n",
      "min_samples_leaf: 76 avg_auc: 0.8259114070854512 training time used: 0.14644479751586914\n",
      "min_samples_leaf: 81 avg_auc: 0.8260582695057552 training time used: 0.16108036041259766\n",
      "min_samples_leaf: 86 avg_auc: 0.8270451744305856 training time used: 0.14389324188232422\n",
      "min_samples_leaf: 91 avg_auc: 0.8263765205750537 training time used: 0.15718913078308105\n",
      "min_samples_leaf: 96 avg_auc: 0.8257803914443516 training time used: 0.14058780670166016\n",
      "min_samples_leaf: 101 avg_auc: 0.8255774449147945 training time used: 0.15812110900878906\n",
      "min_samples_leaf: 106 avg_auc: 0.8255291730966168 training time used: 0.18773627281188965\n",
      "min_samples_leaf: 111 avg_auc: 0.8249374623444817 training time used: 0.17797255516052246\n",
      "min_samples_leaf: 116 avg_auc: 0.824358538737795 training time used: 0.14062857627868652\n",
      "min_samples_leaf: 121 avg_auc: 0.8247680557718535 training time used: 0.14278626441955566\n",
      "min_samples_leaf: 126 avg_auc: 0.82356330138415 training time used: 0.14188075065612793\n",
      "min_samples_leaf: 131 avg_auc: 0.8234407213656821 training time used: 0.14162874221801758\n",
      "min_samples_leaf: 136 avg_auc: 0.822040891729865 training time used: 0.13742780685424805\n",
      "min_samples_leaf: 141 avg_auc: 0.822475015612784 training time used: 0.13164472579956055\n",
      "min_samples_leaf: 146 avg_auc: 0.8221677859105831 training time used: 0.13856816291809082\n",
      "min_samples_leaf: 151 avg_auc: 0.8220948325224124 training time used: 0.1424088478088379\n",
      "min_samples_leaf: 156 avg_auc: 0.8217751971458099 training time used: 0.12502408027648926\n",
      "min_samples_leaf: 161 avg_auc: 0.8226898663986144 training time used: 0.1617443561553955\n",
      "min_samples_leaf: 166 avg_auc: 0.8236893539689506 training time used: 0.22941303253173828\n",
      "min_samples_leaf: 171 avg_auc: 0.8229259301207966 training time used: 0.14206886291503906\n",
      "min_samples_leaf: 176 avg_auc: 0.8222562557318975 training time used: 0.22199153900146484\n",
      "min_samples_leaf: 181 avg_auc: 0.821417432361644 training time used: 0.1550302505493164\n",
      "min_samples_leaf: 186 avg_auc: 0.820881500935194 training time used: 0.17793965339660645\n",
      "min_samples_leaf: 191 avg_auc: 0.8199606652225825 training time used: 0.1819925308227539\n",
      "min_samples_leaf: 196 avg_auc: 0.8197860871610217 training time used: 0.1360001564025879\n"
     ]
    }
   ],
   "source": [
    "from sklearn.tree import DecisionTreeClassifier\n",
    "from sklearn.model_selection import cross_val_score\n",
    "import time\n",
    "\n",
    "def DecisionTree(X_train, y_train, min_samples_leaf):\n",
    "    start_time = time.time()\n",
    "    dt = DecisionTreeClassifier(min_samples_leaf = min_samples_leaf)\n",
    "    # Remember to only use the training data here!!\n",
    "    avg_auc = cross_val_score(dt, X_train, y_train, cv=10, scoring=\"roc_auc\").mean()\n",
    "    end_time = time.time()\n",
    "    print(\"min_samples_leaf:\", min_samples_leaf, \"avg_auc:\", avg_auc, \"training time used:\", (end_time - start_time))\n",
    "    return min_samples_leaf, avg_auc, (end_time - start_time)\n",
    "\n",
    "dt_para = []\n",
    "dt_auc = []\n",
    "dt_train_time = []\n",
    "\n",
    "for i in range(1,200, 5):\n",
    "    dt_para_i, dt_auc_i, dt_train_time_i = DecisionTree(X_train, y_train, i)\n",
    "    dt_para.append(dt_para_i)\n",
    "    dt_auc.append(dt_auc_i)\n",
    "    dt_train_time.append(dt_train_time_i)"
   ]
  },
  {
   "cell_type": "code",
   "execution_count": 10,
   "metadata": {
    "scrolled": true
   },
   "outputs": [
    {
     "name": "stdout",
     "output_type": "stream",
     "text": [
      "The best roc_auc under min_samples_leaf space: 0.8270451744305856 \n",
      "min_samples_leaf: 86 \n",
      "training time used: 0.14389324188232422\n"
     ]
    }
   ],
   "source": [
    "print(\"The best roc_auc under min_samples_leaf space:\", max(dt_auc), \"\\nmin_samples_leaf:\", dt_para[dt_auc.index(max(dt_auc))], \"\\ntraining time used:\", dt_train_time[dt_auc.index(max(dt_auc))])"
   ]
  },
  {
   "cell_type": "code",
   "execution_count": 11,
   "metadata": {},
   "outputs": [],
   "source": [
    "dt_best = dt_para[dt_auc.index(max(dt_auc))]"
   ]
  },
  {
   "cell_type": "code",
   "execution_count": 12,
   "metadata": {
    "scrolled": true
   },
   "outputs": [
    {
     "name": "stdout",
     "output_type": "stream",
     "text": [
      "C: 0.01 avg_auc: 0.8353345343772268 training time used: 0.8589968681335449\n",
      "C: 0.02 avg_auc: 0.8380812399618058 training time used: 0.8545193672180176\n",
      "C: 0.03 avg_auc: 0.838901064500855 training time used: 0.7040011882781982\n",
      "C: 0.04 avg_auc: 0.8395885343174498 training time used: 0.837003231048584\n",
      "C: 0.05 avg_auc: 0.8396570142693769 training time used: 0.8229963779449463\n",
      "C: 0.06 avg_auc: 0.8398704020940795 training time used: 0.6439998149871826\n",
      "C: 0.07 avg_auc: 0.8399650265771272 training time used: 0.6849985122680664\n",
      "C: 0.08 avg_auc: 0.839991072790968 training time used: 0.6339988708496094\n",
      "C: 0.09 avg_auc: 0.8399795264095946 training time used: 0.6420018672943115\n",
      "C: 0.1 avg_auc: 0.8401883798413395 training time used: 0.6770005226135254\n",
      "C: 0.11 avg_auc: 0.8403056055007339 training time used: 0.6759984493255615\n",
      "C: 0.12 avg_auc: 0.840220816678386 training time used: 0.6955125331878662\n",
      "C: 0.13 avg_auc: 0.8402583896101445 training time used: 0.6909983158111572\n",
      "C: 0.14 avg_auc: 0.8402796497387908 training time used: 0.6546742916107178\n",
      "C: 0.15 avg_auc: 0.8403252728894426 training time used: 0.71962571144104\n",
      "C: 0.16 avg_auc: 0.8403202390447021 training time used: 0.7405350208282471\n",
      "C: 0.17 avg_auc: 0.840235481683884 training time used: 0.6960344314575195\n",
      "C: 0.18 avg_auc: 0.8402436498835139 training time used: 0.66506028175354\n",
      "C: 0.19 avg_auc: 0.840351291574445 training time used: 0.6614301204681396\n",
      "C: 0.2 avg_auc: 0.8404033525405972 training time used: 0.6242144107818604\n",
      "C: 0.21 avg_auc: 0.8403088027786824 training time used: 0.6343085765838623\n",
      "C: 0.22 avg_auc: 0.840431117340494 training time used: 0.6637094020843506\n",
      "C: 0.23 avg_auc: 0.8402680640305051 training time used: 0.6851997375488281\n",
      "C: 0.24 avg_auc: 0.8403219301019196 training time used: 0.5990021228790283\n",
      "C: 0.25 avg_auc: 0.8403659801760902 training time used: 0.6379601955413818\n",
      "C: 0.26 avg_auc: 0.8403136163927154 training time used: 0.6690406799316406\n",
      "C: 0.27 avg_auc: 0.8403919359380334 training time used: 0.6394059658050537\n",
      "C: 0.28 avg_auc: 0.8403527073432784 training time used: 0.7581124305725098\n",
      "C: 0.29 avg_auc: 0.8403969579847003 training time used: 0.6774652004241943\n",
      "C: 0.3 avg_auc: 0.8403006267136701 training time used: 0.6468708515167236\n",
      "C: 0.31 avg_auc: 0.8404603097072977 training time used: 0.6806585788726807\n",
      "C: 0.32 avg_auc: 0.8403528921797649 training time used: 0.6770162582397461\n",
      "C: 0.33 avg_auc: 0.8403267161871142 training time used: 0.6060457229614258\n",
      "C: 0.34 avg_auc: 0.8403512483148419 training time used: 0.6970992088317871\n",
      "C: 0.35 avg_auc: 0.840429571792851 training time used: 0.7234945297241211\n",
      "C: 0.36 avg_auc: 0.8404261267553567 training time used: 0.6300394535064697\n",
      "C: 0.37 avg_auc: 0.8402893713514457 training time used: 0.6339621543884277\n",
      "C: 0.38 avg_auc: 0.8403919162745772 training time used: 0.6510317325592041\n",
      "C: 0.39 avg_auc: 0.8403038908473691 training time used: 0.6420028209686279\n",
      "C: 0.4 avg_auc: 0.840426209341872 training time used: 0.6935465335845947\n",
      "C: 0.41 avg_auc: 0.8404163618830983 training time used: 0.6820094585418701\n",
      "C: 0.42 avg_auc: 0.8403739281450125 training time used: 0.6219799518585205\n",
      "C: 0.43 avg_auc: 0.8403397451930715 training time used: 0.7063808441162109\n",
      "C: 0.44 avg_auc: 0.8403805232681607 training time used: 0.6859490871429443\n",
      "C: 0.45 avg_auc: 0.8404130662878698 training time used: 0.6636257171630859\n",
      "C: 0.46 avg_auc: 0.8403756624618332 training time used: 0.6856441497802734\n",
      "C: 0.47 avg_auc: 0.8404832451623966 training time used: 0.6879611015319824\n",
      "C: 0.48 avg_auc: 0.8403658621953541 training time used: 0.6694080829620361\n",
      "C: 0.49 avg_auc: 0.8403136714503923 training time used: 0.6112234592437744\n",
      "C: 0.5 avg_auc: 0.8404555668817062 training time used: 0.6307873725891113\n",
      "C: 0.51 avg_auc: 0.8404164248061576 training time used: 0.7333681583404541\n",
      "C: 0.52 avg_auc: 0.8403200581409068 training time used: 0.6797275543212891\n",
      "C: 0.53 avg_auc: 0.8403788322109433 training time used: 0.6093416213989258\n",
      "C: 0.54 avg_auc: 0.8403673841468497 training time used: 0.6497750282287598\n",
      "C: 0.55 avg_auc: 0.8403951371486731 training time used: 0.6477251052856445\n",
      "C: 0.56 avg_auc: 0.840463660360203 training time used: 0.7320058345794678\n",
      "C: 0.57 avg_auc: 0.8403903707269345 training time used: 0.759300708770752\n",
      "C: 0.58 avg_auc: 0.8404848025081133 training time used: 0.7108752727508545\n",
      "C: 0.59 avg_auc: 0.8403283246578166 training time used: 0.6780378818511963\n",
      "C: 0.6 avg_auc: 0.8404310426193611 training time used: 0.7012693881988525\n",
      "C: 0.61 avg_auc: 0.8401897877447903 training time used: 0.6339223384857178\n",
      "C: 0.62 avg_auc: 0.8405759701555929 training time used: 0.7530336380004883\n",
      "C: 0.63 avg_auc: 0.840305511116145 training time used: 0.6662852764129639\n",
      "C: 0.64 avg_auc: 0.8404539072860183 training time used: 0.7444283962249756\n",
      "C: 0.65 avg_auc: 0.8404099004714511 training time used: 0.8700499534606934\n",
      "C: 0.66 avg_auc: 0.840377243403697 training time used: 0.7093095779418945\n",
      "C: 0.67 avg_auc: 0.8403951607448203 training time used: 0.6807301044464111\n",
      "C: 0.68 avg_auc: 0.8403805625950728 training time used: 0.7618589401245117\n",
      "C: 0.69 avg_auc: 0.8403691420598178 training time used: 0.7918424606323242\n",
      "C: 0.7 avg_auc: 0.8403136321234802 training time used: 0.854949951171875\n",
      "C: 0.71 avg_auc: 0.840431117340494 training time used: 0.7535462379455566\n",
      "C: 0.72 avg_auc: 0.8403170417667536 training time used: 0.7814736366271973\n",
      "C: 0.73 avg_auc: 0.8403610249851738 training time used: 0.7960250377655029\n",
      "C: 0.74 avg_auc: 0.8403528371220881 training time used: 0.7279071807861328\n",
      "C: 0.75 avg_auc: 0.8404636957544239 training time used: 0.7630414962768555\n",
      "C: 0.76 avg_auc: 0.8404343382145898 training time used: 0.7952067852020264\n",
      "C: 0.77 avg_auc: 0.8404310111578315 training time used: 0.7760238647460938\n",
      "C: 0.78 avg_auc: 0.8404227761024512 training time used: 0.7263188362121582\n",
      "C: 0.79 avg_auc: 0.8402191964096103 training time used: 0.6711087226867676\n",
      "C: 0.8 avg_auc: 0.8404391125017107 training time used: 0.6913526058197021\n",
      "C: 0.81 avg_auc: 0.8403707465978287 training time used: 0.7045562267303467\n",
      "C: 0.82 avg_auc: 0.8403822418542168 training time used: 0.7738523483276367\n",
      "C: 0.83 avg_auc: 0.8404717381079351 training time used: 0.740462064743042\n",
      "C: 0.84 avg_auc: 0.840442463154616 training time used: 0.7894136905670166\n",
      "C: 0.85 avg_auc: 0.8403413222022442 training time used: 0.7260057926177979\n",
      "C: 0.86 avg_auc: 0.8403382153761934 training time used: 0.6912689208984375\n",
      "C: 0.87 avg_auc: 0.8403739871353805 training time used: 0.6221132278442383\n",
      "C: 0.88 avg_auc: 0.8403966748309337 training time used: 0.6809587478637695\n",
      "C: 0.89 avg_auc: 0.8404082172796159 training time used: 0.6822280883789062\n",
      "C: 0.9 avg_auc: 0.8404131724705323 training time used: 0.7387101650238037\n",
      "C: 0.91 avg_auc: 0.8403821396042455 training time used: 0.6976938247680664\n",
      "C: 0.92 avg_auc: 0.8404782742407153 training time used: 0.6842916011810303\n",
      "C: 0.93 avg_auc: 0.8403821553350103 training time used: 0.6511385440826416\n",
      "C: 0.94 avg_auc: 0.8404636485621294 training time used: 0.6330404281616211\n",
      "C: 0.95 avg_auc: 0.8402810183153294 training time used: 0.6845049858093262\n",
      "C: 0.96 avg_auc: 0.8404034193963476 training time used: 0.7203607559204102\n",
      "C: 0.97 avg_auc: 0.8403074106059962 training time used: 0.6279988288879395\n",
      "C: 0.98 avg_auc: 0.8403545596408353 training time used: 0.6847999095916748\n",
      "C: 0.99 avg_auc: 0.8403984524073576 training time used: 0.6683921813964844\n",
      "C: 1.0 avg_auc: 0.8403788794032376 training time used: 0.669999361038208\n"
     ]
    }
   ],
   "source": [
    "from sklearn.linear_model import LogisticRegression\n",
    "\n",
    "def Logistic(X_train, y_train, C):\n",
    "    start_time = time.time()\n",
    "    lr = LogisticRegression(C = C)\n",
    "    # Remember to only use the training data here!!\n",
    "    avg_auc = cross_val_score(lr, X_train, y_train, cv=10, scoring=\"roc_auc\").mean()\n",
    "    end_time = time.time()\n",
    "    print(\"C:\", C, \"avg_auc:\", avg_auc, \"training time used:\", (end_time - start_time))\n",
    "    return C, avg_auc, (end_time - start_time)\n",
    "\n",
    "lr_para = []\n",
    "lr_auc = []\n",
    "lr_train_time = []\n",
    "\n",
    "for i in range(1,101, 1):\n",
    "    lr_para_i, lr_auc_i, lr_train_time_i = Logistic(X_train, y_train, i/100)\n",
    "    lr_para.append(lr_para_i)\n",
    "    lr_auc.append(lr_auc_i)\n",
    "    lr_train_time.append(lr_train_time_i)"
   ]
  },
  {
   "cell_type": "code",
   "execution_count": 13,
   "metadata": {
    "scrolled": false
   },
   "outputs": [
    {
     "name": "stdout",
     "output_type": "stream",
     "text": [
      "The best roc_auc under C space: 0.8405759701555929 \n",
      "C: 0.62 \n",
      "training time used: 0.7530336380004883\n"
     ]
    }
   ],
   "source": [
    "print(\"The best roc_auc under C space:\", max(lr_auc), \"\\nC:\", lr_para[lr_auc.index(max(lr_auc))], \"\\ntraining time used:\", lr_train_time[lr_auc.index(max(lr_auc))])"
   ]
  },
  {
   "cell_type": "code",
   "execution_count": 14,
   "metadata": {},
   "outputs": [],
   "source": [
    "lr_best = lr_para[lr_auc.index(max(lr_auc))]"
   ]
  },
  {
   "cell_type": "code",
   "execution_count": 15,
   "metadata": {
    "scrolled": true
   },
   "outputs": [
    {
     "name": "stdout",
     "output_type": "stream",
     "text": [
      "C: 0.01 avg_auc: 0.7909950770571514 training time used: 8.224233388900757\n",
      "C: 0.06 avg_auc: 0.790716147000851 training time used: 8.934046745300293\n",
      "C: 0.11 avg_auc: 0.7849115065825386 training time used: 9.192878723144531\n",
      "C: 0.16 avg_auc: 0.7825895119844832 training time used: 8.825699806213379\n",
      "C: 0.21 avg_auc: 0.7812619573476043 training time used: 8.325140237808228\n",
      "C: 0.26 avg_auc: 0.7795594559986911 training time used: 8.874243021011353\n",
      "C: 0.31 avg_auc: 0.7774264232802734 training time used: 7.803860187530518\n",
      "C: 0.36 avg_auc: 0.7754339370800869 training time used: 7.84240198135376\n",
      "C: 0.41 avg_auc: 0.7744473074436407 training time used: 7.703392267227173\n",
      "C: 0.46 avg_auc: 0.7740786255086937 training time used: 7.750656843185425\n",
      "C: 0.51 avg_auc: 0.774379739876073 training time used: 8.47593903541565\n",
      "C: 0.56 avg_auc: 0.7748128156967863 training time used: 8.28244161605835\n",
      "C: 0.61 avg_auc: 0.7754597866593678 training time used: 8.038134098052979\n",
      "C: 0.66 avg_auc: 0.7763624376078542 training time used: 7.808264970779419\n",
      "C: 0.71 avg_auc: 0.7774900266951079 training time used: 7.751221418380737\n",
      "C: 0.76 avg_auc: 0.7787334689325258 training time used: 7.806309938430786\n",
      "C: 0.81 avg_auc: 0.7800791414777795 training time used: 7.69109034538269\n",
      "C: 0.86 avg_auc: 0.7811205928296028 training time used: 7.811529159545898\n",
      "C: 0.91 avg_auc: 0.7823263992122034 training time used: 7.747007131576538\n",
      "C: 0.96 avg_auc: 0.7831069676276591 training time used: 7.726351261138916\n"
     ]
    }
   ],
   "source": [
    "from sklearn.svm import SVC\n",
    "\n",
    "def SVM(X_train, y_train, C):\n",
    "    start_time = time.time()\n",
    "    svc = SVC(C = C)\n",
    "    # Remember to only use the training data here!!\n",
    "    avg_auc = cross_val_score(svc, X_train, y_train, cv=10, scoring=\"roc_auc\").mean()\n",
    "    end_time = time.time()\n",
    "    print(\"C:\", C, \"avg_auc:\", avg_auc, \"training time used:\", (end_time - start_time))\n",
    "    return C, avg_auc, (end_time - start_time)\n",
    "\n",
    "svc_para = []\n",
    "svc_auc = []\n",
    "svc_train_time = []\n",
    "\n",
    "for i in range(1,101, 5):\n",
    "    svc_para_i, svc_auc_i, svc_train_time_i = SVM(X_train, y_train, i/100)\n",
    "    svc_para.append(svc_para_i)\n",
    "    svc_auc.append(svc_auc_i)\n",
    "    svc_train_time.append(svc_train_time_i)"
   ]
  },
  {
   "cell_type": "code",
   "execution_count": 16,
   "metadata": {},
   "outputs": [
    {
     "name": "stdout",
     "output_type": "stream",
     "text": [
      "The best roc_auc under C space: 0.7909950770571514 \n",
      "C: 0.01 \n",
      "training time used: 8.224233388900757\n"
     ]
    }
   ],
   "source": [
    "print(\"The best roc_auc under C space:\", max(svc_auc), \"\\nC:\", svc_para[svc_auc.index(max(svc_auc))], \"\\ntraining time used:\", svc_train_time[svc_auc.index(max(svc_auc))])"
   ]
  },
  {
   "cell_type": "code",
   "execution_count": 17,
   "metadata": {},
   "outputs": [],
   "source": [
    "svc_best = svc_para[svc_auc.index(max(svc_auc))]"
   ]
  },
  {
   "cell_type": "markdown",
   "metadata": {},
   "source": [
    "**Model selection**\n",
    "\n",
    "As shown in the table below, Logistic Regression has the most roc_auc score, and Decision Tree requires the least training time. As our problem doesn't have a rigorous request on time, added both LR and DT spending time are not too much. I will choose Logistic Regression here.\n",
    "\n",
    "| Model                    | Best roc_auc       | Training Time       |\n",
    "|--------------------------|--------------------|---------------------|\n",
    "| Decision Tree Classifier | 0.83 | 0.14 |\n",
    "| Logistic Regression      | 0.84 | 0.75 |\n",
    "| SVM                      | 0.79 | 8.22 |"
   ]
  },
  {
   "cell_type": "markdown",
   "metadata": {},
   "source": [
    "__4. Use your test data to plot the ROC Curves for each of the three best models you found in the previous question (make sure to plot the three curves together). Would you consider changing the selected model after looking at the curves? If yes, explain why. If not, explain what would the curves need to look like for you to consider changing the selected model.__\n",
    "\n",
    "__HINT: There is an example below of the ROC curve for the DecisionTreeClassifier that was used earlier__"
   ]
  },
  {
   "cell_type": "code",
   "execution_count": 18,
   "metadata": {
    "scrolled": true
   },
   "outputs": [
    {
     "data": {
      "image/png": "[encoded data removed]",
      "text/plain": [
       "<Figure size 432x288 with 1 Axes>"
      ]
     },
     "metadata": {
      "needs_background": "light"
     },
     "output_type": "display_data"
    }
   ],
   "source": [
    "# The code below is just meant as an example for you to plot the ROC curve.\n",
    "from sklearn.metrics import roc_curve\n",
    "import matplotlib.pyplot as plt\n",
    "\n",
    "# Remember to use the training data here!! \n",
    "dt_opt = DecisionTreeClassifier(min_samples_leaf = dt_best)\n",
    "dt_opt.fit(X_train, y_train)\n",
    "\n",
    "lr_opt = LogisticRegression(C = lr_best)\n",
    "lr_opt.fit(X_train, y_train)\n",
    "\n",
    "svc_opt = SVC(C = svc_best, probability=True)\n",
    "svc_opt.fit(X_train, y_train)\n",
    "\n",
    "# And to use the test data here!!\n",
    "dt_probs = dt_opt.predict_proba(X_test)[:, 1]\n",
    "dt_fpr, dt_tpr, dt_thresholds = roc_curve(y_test, dt_probs)\n",
    "\n",
    "lr_probs = lr_opt.predict_proba(X_test)[:, 1]\n",
    "lr_fpr, lr_tpr, lr_thresholds = roc_curve(y_test, lr_probs)\n",
    "\n",
    "svc_probs = svc_opt.predict_proba(X_test)[:, 1]\n",
    "svc_fpr, svc_tpr, svc_thresholds = roc_curve(y_test, svc_probs)\n",
    "\n",
    "plt.plot(dt_fpr, dt_tpr, label=\"Decision Tree\")\n",
    "plt.plot(lr_fpr, lr_tpr, label=\"Logistics Regression\")\n",
    "plt.plot(svc_fpr, svc_tpr, label=\"SVM\")\n",
    "\n",
    "plt.ylabel(\"True positive rate\")\n",
    "plt.xlabel(\"False positive rate\")\n",
    "plt.legend()\n",
    "plt.show()"
   ]
  },
  {
   "cell_type": "markdown",
   "metadata": {},
   "source": [
    "I will not change the model.\n",
    "\n",
    "As we can see from the figure above, the orange line (Logistics Regression) has the most AUC and above others almost all the time.\n",
    "\n",
    "If I'm going to change the model, maybe the Logistics Regression was the green line or even below the green line. That's obviously overfitting (perform best in the training set while terrible in the test set)."
   ]
  },
  {
   "cell_type": "markdown",
   "metadata": {},
   "source": [
    "__5. What would be the potential benefit of stopping someone from leaving? HINT: Take a look at the description of the data and the retention offer.__"
   ]
  },
  {
   "cell_type": "code",
   "execution_count": 19,
   "metadata": {},
   "outputs": [
    {
     "name": "stdout",
     "output_type": "stream",
     "text": [
      "22.24591329068941 % of customers will leave with 0.5 as the threshold\n"
     ]
    }
   ],
   "source": [
    "print((pd.DataFrame(lr_probs)[pd.DataFrame(lr_probs)[0]>0.5].count()[0] / len(lr_probs)*100), \"% of customers will leave with 0.5 as the threshold\")"
   ]
  },
  {
   "cell_type": "code",
   "execution_count": 20,
   "metadata": {
    "scrolled": true
   },
   "outputs": [
    {
     "data": {
      "text/html": [
       "<div>\n",
       "<style scoped>\n",
       "    .dataframe tbody tr th:only-of-type {\n",
       "        vertical-align: middle;\n",
       "    }\n",
       "\n",
       "    .dataframe tbody tr th {\n",
       "        vertical-align: top;\n",
       "    }\n",
       "\n",
       "    .dataframe thead th {\n",
       "        text-align: right;\n",
       "    }\n",
       "</style>\n",
       "<table border=\"1\" class=\"dataframe\">\n",
       "  <thead>\n",
       "    <tr style=\"text-align: right;\">\n",
       "      <th></th>\n",
       "      <th>Feature</th>\n",
       "      <th>Weights</th>\n",
       "    </tr>\n",
       "  </thead>\n",
       "  <tbody>\n",
       "    <tr>\n",
       "      <th>0</th>\n",
       "      <td>SeniorCitizen</td>\n",
       "      <td>0.180652</td>\n",
       "    </tr>\n",
       "    <tr>\n",
       "      <th>1</th>\n",
       "      <td>tenure</td>\n",
       "      <td>-0.035202</td>\n",
       "    </tr>\n",
       "    <tr>\n",
       "      <th>2</th>\n",
       "      <td>MonthlyCharges</td>\n",
       "      <td>0.005835</td>\n",
       "    </tr>\n",
       "    <tr>\n",
       "      <th>3</th>\n",
       "      <td>gender_Male</td>\n",
       "      <td>-0.038129</td>\n",
       "    </tr>\n",
       "    <tr>\n",
       "      <th>4</th>\n",
       "      <td>Partner_Yes</td>\n",
       "      <td>-0.010864</td>\n",
       "    </tr>\n",
       "    <tr>\n",
       "      <th>5</th>\n",
       "      <td>Dependents_Yes</td>\n",
       "      <td>-0.131019</td>\n",
       "    </tr>\n",
       "    <tr>\n",
       "      <th>6</th>\n",
       "      <td>PhoneService_Yes</td>\n",
       "      <td>-0.524561</td>\n",
       "    </tr>\n",
       "    <tr>\n",
       "      <th>7</th>\n",
       "      <td>MultipleLines_No phone service</td>\n",
       "      <td>0.137775</td>\n",
       "    </tr>\n",
       "    <tr>\n",
       "      <th>8</th>\n",
       "      <td>MultipleLines_Yes</td>\n",
       "      <td>0.249914</td>\n",
       "    </tr>\n",
       "    <tr>\n",
       "      <th>9</th>\n",
       "      <td>InternetService_Fiber optic</td>\n",
       "      <td>0.735988</td>\n",
       "    </tr>\n",
       "    <tr>\n",
       "      <th>10</th>\n",
       "      <td>InternetService_No</td>\n",
       "      <td>-0.094196</td>\n",
       "    </tr>\n",
       "    <tr>\n",
       "      <th>11</th>\n",
       "      <td>OnlineSecurity_No internet service</td>\n",
       "      <td>-0.094196</td>\n",
       "    </tr>\n",
       "    <tr>\n",
       "      <th>12</th>\n",
       "      <td>OnlineSecurity_Yes</td>\n",
       "      <td>-0.416537</td>\n",
       "    </tr>\n",
       "    <tr>\n",
       "      <th>13</th>\n",
       "      <td>OnlineBackup_No internet service</td>\n",
       "      <td>-0.094196</td>\n",
       "    </tr>\n",
       "    <tr>\n",
       "      <th>14</th>\n",
       "      <td>OnlineBackup_Yes</td>\n",
       "      <td>-0.149362</td>\n",
       "    </tr>\n",
       "    <tr>\n",
       "      <th>15</th>\n",
       "      <td>DeviceProtection_No internet service</td>\n",
       "      <td>-0.094196</td>\n",
       "    </tr>\n",
       "    <tr>\n",
       "      <th>16</th>\n",
       "      <td>DeviceProtection_Yes</td>\n",
       "      <td>-0.000291</td>\n",
       "    </tr>\n",
       "    <tr>\n",
       "      <th>17</th>\n",
       "      <td>TechSupport_No internet service</td>\n",
       "      <td>-0.094196</td>\n",
       "    </tr>\n",
       "    <tr>\n",
       "      <th>18</th>\n",
       "      <td>TechSupport_Yes</td>\n",
       "      <td>-0.315373</td>\n",
       "    </tr>\n",
       "    <tr>\n",
       "      <th>19</th>\n",
       "      <td>StreamingTV_No internet service</td>\n",
       "      <td>-0.094196</td>\n",
       "    </tr>\n",
       "    <tr>\n",
       "      <th>20</th>\n",
       "      <td>StreamingTV_Yes</td>\n",
       "      <td>0.215764</td>\n",
       "    </tr>\n",
       "    <tr>\n",
       "      <th>21</th>\n",
       "      <td>StreamingMovies_No internet service</td>\n",
       "      <td>-0.094196</td>\n",
       "    </tr>\n",
       "    <tr>\n",
       "      <th>22</th>\n",
       "      <td>StreamingMovies_Yes</td>\n",
       "      <td>0.216996</td>\n",
       "    </tr>\n",
       "    <tr>\n",
       "      <th>23</th>\n",
       "      <td>Contract_One year</td>\n",
       "      <td>-0.569466</td>\n",
       "    </tr>\n",
       "    <tr>\n",
       "      <th>24</th>\n",
       "      <td>Contract_Two year</td>\n",
       "      <td>-1.182727</td>\n",
       "    </tr>\n",
       "    <tr>\n",
       "      <th>25</th>\n",
       "      <td>PaperlessBilling_Yes</td>\n",
       "      <td>0.369207</td>\n",
       "    </tr>\n",
       "    <tr>\n",
       "      <th>26</th>\n",
       "      <td>PaymentMethod_Credit card (automatic)</td>\n",
       "      <td>-0.172908</td>\n",
       "    </tr>\n",
       "    <tr>\n",
       "      <th>27</th>\n",
       "      <td>PaymentMethod_Electronic check</td>\n",
       "      <td>0.281556</td>\n",
       "    </tr>\n",
       "    <tr>\n",
       "      <th>28</th>\n",
       "      <td>PaymentMethod_Mailed check</td>\n",
       "      <td>-0.083475</td>\n",
       "    </tr>\n",
       "  </tbody>\n",
       "</table>\n",
       "</div>"
      ],
      "text/plain": [
       "                                  Feature   Weights\n",
       "0                           SeniorCitizen  0.180652\n",
       "1                                  tenure -0.035202\n",
       "2                          MonthlyCharges  0.005835\n",
       "3                             gender_Male -0.038129\n",
       "4                             Partner_Yes -0.010864\n",
       "5                          Dependents_Yes -0.131019\n",
       "6                        PhoneService_Yes -0.524561\n",
       "7          MultipleLines_No phone service  0.137775\n",
       "8                       MultipleLines_Yes  0.249914\n",
       "9             InternetService_Fiber optic  0.735988\n",
       "10                     InternetService_No -0.094196\n",
       "11     OnlineSecurity_No internet service -0.094196\n",
       "12                     OnlineSecurity_Yes -0.416537\n",
       "13       OnlineBackup_No internet service -0.094196\n",
       "14                       OnlineBackup_Yes -0.149362\n",
       "15   DeviceProtection_No internet service -0.094196\n",
       "16                   DeviceProtection_Yes -0.000291\n",
       "17        TechSupport_No internet service -0.094196\n",
       "18                        TechSupport_Yes -0.315373\n",
       "19        StreamingTV_No internet service -0.094196\n",
       "20                        StreamingTV_Yes  0.215764\n",
       "21    StreamingMovies_No internet service -0.094196\n",
       "22                    StreamingMovies_Yes  0.216996\n",
       "23                      Contract_One year -0.569466\n",
       "24                      Contract_Two year -1.182727\n",
       "25                   PaperlessBilling_Yes  0.369207\n",
       "26  PaymentMethod_Credit card (automatic) -0.172908\n",
       "27         PaymentMethod_Electronic check  0.281556\n",
       "28             PaymentMethod_Mailed check -0.083475"
      ]
     },
     "execution_count": 20,
     "metadata": {},
     "output_type": "execute_result"
    }
   ],
   "source": [
    "pd.DataFrame({\"Feature\":X_test.columns, \"Weights\":lr_opt.coef_[0]})"
   ]
  },
  {
   "cell_type": "markdown",
   "metadata": {},
   "source": [
    "If we use the model selected and choose 0.5 as the threshold, we can see only 22% of customers have the tendency to leave shortly after contract expiration. We have the retention offer to up 25% of customers whose contract is expiring. If we rank the probability and choose the right people to offer, we can prevent the most customers from churn and add user stickiness. From the coeff between features and churn, we can see two year contract customers are less likely to leave. After the potential leaving customers get used to TelCo's services, they are highly likely to order a subscribe themselves afterward."
   ]
  },
  {
   "cell_type": "markdown",
   "metadata": {},
   "source": [
    "__6. Split your training data into two sets, one with 90% of the data (the \"sub-training\" set) and another with 10% of the data (the validation set). Train the model you selected with the \"sub-training\" set, apply it to the validation set, and plot a profit curve by ranking customers according to their probability of churning. Make a recommendation of what people to target with the retention incentive according to this profit curve.__"
   ]
  },
  {
   "cell_type": "code",
   "execution_count": 21,
   "metadata": {},
   "outputs": [],
   "source": [
    "X_train_sub,X_val,y_train_sub,y_val = train_test_split(X_train, y_train,train_size=0.9,test_size=0.1)"
   ]
  },
  {
   "cell_type": "code",
   "execution_count": 22,
   "metadata": {},
   "outputs": [
    {
     "data": {
      "text/plain": [
       "LogisticRegression(C=0.62)"
      ]
     },
     "execution_count": 22,
     "metadata": {},
     "output_type": "execute_result"
    }
   ],
   "source": [
    "lr_opt_sub = LogisticRegression(C = lr_best)\n",
    "lr_opt_sub.fit(X_train_sub, y_train_sub)"
   ]
  },
  {
   "cell_type": "code",
   "execution_count": 23,
   "metadata": {},
   "outputs": [],
   "source": [
    "lr_val_probs = lr_opt_sub.predict_proba(X_val)[:, 1]"
   ]
  },
  {
   "cell_type": "code",
   "execution_count": 24,
   "metadata": {},
   "outputs": [],
   "source": [
    "val_result = pd.DataFrame({\"y_val\":y_val, \"y_val_pred\":lr_val_probs}).reset_index(drop = True)"
   ]
  },
  {
   "cell_type": "code",
   "execution_count": 25,
   "metadata": {
    "scrolled": true
   },
   "outputs": [
    {
     "data": {
      "text/html": [
       "<div>\n",
       "<style scoped>\n",
       "    .dataframe tbody tr th:only-of-type {\n",
       "        vertical-align: middle;\n",
       "    }\n",
       "\n",
       "    .dataframe tbody tr th {\n",
       "        vertical-align: top;\n",
       "    }\n",
       "\n",
       "    .dataframe thead th {\n",
       "        text-align: right;\n",
       "    }\n",
       "</style>\n",
       "<table border=\"1\" class=\"dataframe\">\n",
       "  <thead>\n",
       "    <tr style=\"text-align: right;\">\n",
       "      <th></th>\n",
       "      <th>y_val</th>\n",
       "      <th>y_val_pred</th>\n",
       "    </tr>\n",
       "  </thead>\n",
       "  <tbody>\n",
       "    <tr>\n",
       "      <th>0</th>\n",
       "      <td>0</td>\n",
       "      <td>0.579654</td>\n",
       "    </tr>\n",
       "    <tr>\n",
       "      <th>1</th>\n",
       "      <td>1</td>\n",
       "      <td>0.398469</td>\n",
       "    </tr>\n",
       "    <tr>\n",
       "      <th>2</th>\n",
       "      <td>0</td>\n",
       "      <td>0.239039</td>\n",
       "    </tr>\n",
       "    <tr>\n",
       "      <th>3</th>\n",
       "      <td>0</td>\n",
       "      <td>0.150909</td>\n",
       "    </tr>\n",
       "    <tr>\n",
       "      <th>4</th>\n",
       "      <td>0</td>\n",
       "      <td>0.078767</td>\n",
       "    </tr>\n",
       "    <tr>\n",
       "      <th>...</th>\n",
       "      <td>...</td>\n",
       "      <td>...</td>\n",
       "    </tr>\n",
       "    <tr>\n",
       "      <th>558</th>\n",
       "      <td>0</td>\n",
       "      <td>0.533421</td>\n",
       "    </tr>\n",
       "    <tr>\n",
       "      <th>559</th>\n",
       "      <td>0</td>\n",
       "      <td>0.087970</td>\n",
       "    </tr>\n",
       "    <tr>\n",
       "      <th>560</th>\n",
       "      <td>0</td>\n",
       "      <td>0.589713</td>\n",
       "    </tr>\n",
       "    <tr>\n",
       "      <th>561</th>\n",
       "      <td>0</td>\n",
       "      <td>0.514308</td>\n",
       "    </tr>\n",
       "    <tr>\n",
       "      <th>562</th>\n",
       "      <td>0</td>\n",
       "      <td>0.069048</td>\n",
       "    </tr>\n",
       "  </tbody>\n",
       "</table>\n",
       "<p>563 rows × 2 columns</p>\n",
       "</div>"
      ],
      "text/plain": [
       "     y_val  y_val_pred\n",
       "0        0    0.579654\n",
       "1        1    0.398469\n",
       "2        0    0.239039\n",
       "3        0    0.150909\n",
       "4        0    0.078767\n",
       "..     ...         ...\n",
       "558      0    0.533421\n",
       "559      0    0.087970\n",
       "560      0    0.589713\n",
       "561      0    0.514308\n",
       "562      0    0.069048\n",
       "\n",
       "[563 rows x 2 columns]"
      ]
     },
     "execution_count": 25,
     "metadata": {},
     "output_type": "execute_result"
    }
   ],
   "source": [
    "val_result"
   ]
  },
  {
   "cell_type": "code",
   "execution_count": 26,
   "metadata": {},
   "outputs": [],
   "source": [
    "val_result_sorted = val_result.sort_values(by=\"y_val_pred\",ascending=True).reset_index(drop = True)"
   ]
  },
  {
   "cell_type": "code",
   "execution_count": 27,
   "metadata": {},
   "outputs": [
    {
     "data": {
      "text/html": [
       "<div>\n",
       "<style scoped>\n",
       "    .dataframe tbody tr th:only-of-type {\n",
       "        vertical-align: middle;\n",
       "    }\n",
       "\n",
       "    .dataframe tbody tr th {\n",
       "        vertical-align: top;\n",
       "    }\n",
       "\n",
       "    .dataframe thead th {\n",
       "        text-align: right;\n",
       "    }\n",
       "</style>\n",
       "<table border=\"1\" class=\"dataframe\">\n",
       "  <thead>\n",
       "    <tr style=\"text-align: right;\">\n",
       "      <th></th>\n",
       "      <th>y_val</th>\n",
       "      <th>y_val_pred</th>\n",
       "    </tr>\n",
       "  </thead>\n",
       "  <tbody>\n",
       "    <tr>\n",
       "      <th>0</th>\n",
       "      <td>0</td>\n",
       "      <td>0.003864</td>\n",
       "    </tr>\n",
       "    <tr>\n",
       "      <th>1</th>\n",
       "      <td>0</td>\n",
       "      <td>0.004687</td>\n",
       "    </tr>\n",
       "    <tr>\n",
       "      <th>2</th>\n",
       "      <td>0</td>\n",
       "      <td>0.004810</td>\n",
       "    </tr>\n",
       "    <tr>\n",
       "      <th>3</th>\n",
       "      <td>0</td>\n",
       "      <td>0.004812</td>\n",
       "    </tr>\n",
       "    <tr>\n",
       "      <th>4</th>\n",
       "      <td>0</td>\n",
       "      <td>0.004999</td>\n",
       "    </tr>\n",
       "    <tr>\n",
       "      <th>...</th>\n",
       "      <td>...</td>\n",
       "      <td>...</td>\n",
       "    </tr>\n",
       "    <tr>\n",
       "      <th>558</th>\n",
       "      <td>1</td>\n",
       "      <td>0.790256</td>\n",
       "    </tr>\n",
       "    <tr>\n",
       "      <th>559</th>\n",
       "      <td>1</td>\n",
       "      <td>0.808598</td>\n",
       "    </tr>\n",
       "    <tr>\n",
       "      <th>560</th>\n",
       "      <td>1</td>\n",
       "      <td>0.813253</td>\n",
       "    </tr>\n",
       "    <tr>\n",
       "      <th>561</th>\n",
       "      <td>1</td>\n",
       "      <td>0.841020</td>\n",
       "    </tr>\n",
       "    <tr>\n",
       "      <th>562</th>\n",
       "      <td>1</td>\n",
       "      <td>0.851858</td>\n",
       "    </tr>\n",
       "  </tbody>\n",
       "</table>\n",
       "<p>563 rows × 2 columns</p>\n",
       "</div>"
      ],
      "text/plain": [
       "     y_val  y_val_pred\n",
       "0        0    0.003864\n",
       "1        0    0.004687\n",
       "2        0    0.004810\n",
       "3        0    0.004812\n",
       "4        0    0.004999\n",
       "..     ...         ...\n",
       "558      1    0.790256\n",
       "559      1    0.808598\n",
       "560      1    0.813253\n",
       "561      1    0.841020\n",
       "562      1    0.851858\n",
       "\n",
       "[563 rows x 2 columns]"
      ]
     },
     "execution_count": 27,
     "metadata": {},
     "output_type": "execute_result"
    }
   ],
   "source": [
    "val_result_sorted"
   ]
  },
  {
   "cell_type": "code",
   "execution_count": 28,
   "metadata": {},
   "outputs": [],
   "source": [
    "import math"
   ]
  },
  {
   "cell_type": "code",
   "execution_count": 29,
   "metadata": {},
   "outputs": [],
   "source": [
    "threashold_1 = val_result_sorted[\"y_val_pred\"][math.ceil(len(val_result_sorted[\"y_val_pred\"])*0.75)]"
   ]
  },
  {
   "cell_type": "code",
   "execution_count": 30,
   "metadata": {},
   "outputs": [
    {
     "name": "stdout",
     "output_type": "stream",
     "text": [
      "The threshold: 0.46302247164083193\n"
     ]
    }
   ],
   "source": [
    "print(\"The threshold:\", val_result_sorted[\"y_val_pred\"][math.ceil(len(val_result_sorted[\"y_val_pred\"])*0.75)])"
   ]
  },
  {
   "cell_type": "code",
   "execution_count": 31,
   "metadata": {},
   "outputs": [
    {
     "data": {
      "text/plain": [
       "[<matplotlib.lines.Line2D at 0x2b22a0eddf0>]"
      ]
     },
     "execution_count": 31,
     "metadata": {},
     "output_type": "execute_result"
    },
    {
     "data": {
      "image/png": "[encoded data removed]",
      "text/plain": [
       "<Figure size 432x288 with 1 Axes>"
      ]
     },
     "metadata": {
      "needs_background": "light"
     },
     "output_type": "display_data"
    }
   ],
   "source": [
    "plt.hlines(threashold_1, 0, len(val_result_sorted[\"y_val_pred\"]), colors = \"r\", linestyles = \"dashed\")\n",
    "plt.plot(val_result_sorted[\"y_val_pred\"])"
   ]
  },
  {
   "cell_type": "markdown",
   "metadata": {},
   "source": [
    "According to the validation set, the top 25% of customers who probably churn's probability is threashold_1. We can target whose probability over that threshold as retention target."
   ]
  },
  {
   "cell_type": "code",
   "execution_count": 32,
   "metadata": {},
   "outputs": [
    {
     "data": {
      "text/plain": [
       "0.24866785079928952"
      ]
     },
     "execution_count": 32,
     "metadata": {},
     "output_type": "execute_result"
    }
   ],
   "source": [
    "(len(val_result_sorted) - math.ceil(len(val_result_sorted[\"y_val_pred\"])*0.75))/len(val_result_sorted)"
   ]
  },
  {
   "cell_type": "code",
   "execution_count": 33,
   "metadata": {},
   "outputs": [
    {
     "data": {
      "text/plain": [
       "0.2522202486678508"
      ]
     },
     "execution_count": 33,
     "metadata": {},
     "output_type": "execute_result"
    }
   ],
   "source": [
    "sum(val_result_sorted[\"y_val\"])/len(val_result_sorted)"
   ]
  },
  {
   "cell_type": "code",
   "execution_count": 34,
   "metadata": {},
   "outputs": [],
   "source": [
    "val_result[\"money\"] = val_result.y_val_pred.apply(lambda x: 200 if x > threashold_1 else 0)"
   ]
  },
  {
   "cell_type": "code",
   "execution_count": 35,
   "metadata": {
    "scrolled": true
   },
   "outputs": [
    {
     "data": {
      "text/html": [
       "<div>\n",
       "<style scoped>\n",
       "    .dataframe tbody tr th:only-of-type {\n",
       "        vertical-align: middle;\n",
       "    }\n",
       "\n",
       "    .dataframe tbody tr th {\n",
       "        vertical-align: top;\n",
       "    }\n",
       "\n",
       "    .dataframe thead th {\n",
       "        text-align: right;\n",
       "    }\n",
       "</style>\n",
       "<table border=\"1\" class=\"dataframe\">\n",
       "  <thead>\n",
       "    <tr style=\"text-align: right;\">\n",
       "      <th></th>\n",
       "      <th>y_val</th>\n",
       "      <th>y_val_pred</th>\n",
       "      <th>money</th>\n",
       "    </tr>\n",
       "  </thead>\n",
       "  <tbody>\n",
       "    <tr>\n",
       "      <th>0</th>\n",
       "      <td>0</td>\n",
       "      <td>0.579654</td>\n",
       "      <td>200</td>\n",
       "    </tr>\n",
       "    <tr>\n",
       "      <th>1</th>\n",
       "      <td>1</td>\n",
       "      <td>0.398469</td>\n",
       "      <td>0</td>\n",
       "    </tr>\n",
       "    <tr>\n",
       "      <th>2</th>\n",
       "      <td>0</td>\n",
       "      <td>0.239039</td>\n",
       "      <td>0</td>\n",
       "    </tr>\n",
       "    <tr>\n",
       "      <th>3</th>\n",
       "      <td>0</td>\n",
       "      <td>0.150909</td>\n",
       "      <td>0</td>\n",
       "    </tr>\n",
       "    <tr>\n",
       "      <th>4</th>\n",
       "      <td>0</td>\n",
       "      <td>0.078767</td>\n",
       "      <td>0</td>\n",
       "    </tr>\n",
       "    <tr>\n",
       "      <th>...</th>\n",
       "      <td>...</td>\n",
       "      <td>...</td>\n",
       "      <td>...</td>\n",
       "    </tr>\n",
       "    <tr>\n",
       "      <th>558</th>\n",
       "      <td>0</td>\n",
       "      <td>0.533421</td>\n",
       "      <td>200</td>\n",
       "    </tr>\n",
       "    <tr>\n",
       "      <th>559</th>\n",
       "      <td>0</td>\n",
       "      <td>0.087970</td>\n",
       "      <td>0</td>\n",
       "    </tr>\n",
       "    <tr>\n",
       "      <th>560</th>\n",
       "      <td>0</td>\n",
       "      <td>0.589713</td>\n",
       "      <td>200</td>\n",
       "    </tr>\n",
       "    <tr>\n",
       "      <th>561</th>\n",
       "      <td>0</td>\n",
       "      <td>0.514308</td>\n",
       "      <td>200</td>\n",
       "    </tr>\n",
       "    <tr>\n",
       "      <th>562</th>\n",
       "      <td>0</td>\n",
       "      <td>0.069048</td>\n",
       "      <td>0</td>\n",
       "    </tr>\n",
       "  </tbody>\n",
       "</table>\n",
       "<p>563 rows × 3 columns</p>\n",
       "</div>"
      ],
      "text/plain": [
       "     y_val  y_val_pred  money\n",
       "0        0    0.579654    200\n",
       "1        1    0.398469      0\n",
       "2        0    0.239039      0\n",
       "3        0    0.150909      0\n",
       "4        0    0.078767      0\n",
       "..     ...         ...    ...\n",
       "558      0    0.533421    200\n",
       "559      0    0.087970      0\n",
       "560      0    0.589713    200\n",
       "561      0    0.514308    200\n",
       "562      0    0.069048      0\n",
       "\n",
       "[563 rows x 3 columns]"
      ]
     },
     "execution_count": 35,
     "metadata": {},
     "output_type": "execute_result"
    }
   ],
   "source": [
    "val_result"
   ]
  },
  {
   "cell_type": "code",
   "execution_count": 36,
   "metadata": {},
   "outputs": [
    {
     "name": "stdout",
     "output_type": "stream",
     "text": [
      "We use: 27800\n"
     ]
    }
   ],
   "source": [
    "print(\"We use:\",sum(val_result[\"money\"]))"
   ]
  },
  {
   "cell_type": "code",
   "execution_count": 37,
   "metadata": {},
   "outputs": [],
   "source": [
    "val_result[\"val_pred_churn\"] = val_result.y_val_pred.apply(lambda x: 1 if x > threashold_1 else 0)"
   ]
  },
  {
   "cell_type": "code",
   "execution_count": 38,
   "metadata": {},
   "outputs": [
    {
     "data": {
      "text/html": [
       "<div>\n",
       "<style scoped>\n",
       "    .dataframe tbody tr th:only-of-type {\n",
       "        vertical-align: middle;\n",
       "    }\n",
       "\n",
       "    .dataframe tbody tr th {\n",
       "        vertical-align: top;\n",
       "    }\n",
       "\n",
       "    .dataframe thead th {\n",
       "        text-align: right;\n",
       "    }\n",
       "</style>\n",
       "<table border=\"1\" class=\"dataframe\">\n",
       "  <thead>\n",
       "    <tr style=\"text-align: right;\">\n",
       "      <th></th>\n",
       "      <th>y_val</th>\n",
       "      <th>y_val_pred</th>\n",
       "      <th>money</th>\n",
       "      <th>val_pred_churn</th>\n",
       "    </tr>\n",
       "  </thead>\n",
       "  <tbody>\n",
       "    <tr>\n",
       "      <th>0</th>\n",
       "      <td>0</td>\n",
       "      <td>0.579654</td>\n",
       "      <td>200</td>\n",
       "      <td>1</td>\n",
       "    </tr>\n",
       "    <tr>\n",
       "      <th>1</th>\n",
       "      <td>1</td>\n",
       "      <td>0.398469</td>\n",
       "      <td>0</td>\n",
       "      <td>0</td>\n",
       "    </tr>\n",
       "    <tr>\n",
       "      <th>2</th>\n",
       "      <td>0</td>\n",
       "      <td>0.239039</td>\n",
       "      <td>0</td>\n",
       "      <td>0</td>\n",
       "    </tr>\n",
       "    <tr>\n",
       "      <th>3</th>\n",
       "      <td>0</td>\n",
       "      <td>0.150909</td>\n",
       "      <td>0</td>\n",
       "      <td>0</td>\n",
       "    </tr>\n",
       "    <tr>\n",
       "      <th>4</th>\n",
       "      <td>0</td>\n",
       "      <td>0.078767</td>\n",
       "      <td>0</td>\n",
       "      <td>0</td>\n",
       "    </tr>\n",
       "    <tr>\n",
       "      <th>...</th>\n",
       "      <td>...</td>\n",
       "      <td>...</td>\n",
       "      <td>...</td>\n",
       "      <td>...</td>\n",
       "    </tr>\n",
       "    <tr>\n",
       "      <th>558</th>\n",
       "      <td>0</td>\n",
       "      <td>0.533421</td>\n",
       "      <td>200</td>\n",
       "      <td>1</td>\n",
       "    </tr>\n",
       "    <tr>\n",
       "      <th>559</th>\n",
       "      <td>0</td>\n",
       "      <td>0.087970</td>\n",
       "      <td>0</td>\n",
       "      <td>0</td>\n",
       "    </tr>\n",
       "    <tr>\n",
       "      <th>560</th>\n",
       "      <td>0</td>\n",
       "      <td>0.589713</td>\n",
       "      <td>200</td>\n",
       "      <td>1</td>\n",
       "    </tr>\n",
       "    <tr>\n",
       "      <th>561</th>\n",
       "      <td>0</td>\n",
       "      <td>0.514308</td>\n",
       "      <td>200</td>\n",
       "      <td>1</td>\n",
       "    </tr>\n",
       "    <tr>\n",
       "      <th>562</th>\n",
       "      <td>0</td>\n",
       "      <td>0.069048</td>\n",
       "      <td>0</td>\n",
       "      <td>0</td>\n",
       "    </tr>\n",
       "  </tbody>\n",
       "</table>\n",
       "<p>563 rows × 4 columns</p>\n",
       "</div>"
      ],
      "text/plain": [
       "     y_val  y_val_pred  money  val_pred_churn\n",
       "0        0    0.579654    200               1\n",
       "1        1    0.398469      0               0\n",
       "2        0    0.239039      0               0\n",
       "3        0    0.150909      0               0\n",
       "4        0    0.078767      0               0\n",
       "..     ...         ...    ...             ...\n",
       "558      0    0.533421    200               1\n",
       "559      0    0.087970      0               0\n",
       "560      0    0.589713    200               1\n",
       "561      0    0.514308    200               1\n",
       "562      0    0.069048      0               0\n",
       "\n",
       "[563 rows x 4 columns]"
      ]
     },
     "execution_count": 38,
     "metadata": {},
     "output_type": "execute_result"
    }
   ],
   "source": [
    "val_result"
   ]
  },
  {
   "cell_type": "code",
   "execution_count": 39,
   "metadata": {
    "scrolled": false
   },
   "outputs": [],
   "source": [
    "from sklearn.metrics import confusion_matrix\n",
    "import seaborn as sns\n",
    "from sklearn.metrics import roc_auc_score, accuracy_score, classification_report\n",
    "\n",
    "def evl_model(y_true, y_pred):\n",
    "    CM = confusion_matrix(y_true, y_pred)\n",
    "    ax = sns.heatmap(CM, annot=True)\n",
    "    ax.set_xlabel(\"Predicted label\")\n",
    "    ax.set_ylabel(\"True label\")\n",
    "    \n",
    "    print(\"roc_auc_score:\", roc_auc_score(y_true, y_pred))\n",
    "    print(\"accuracy_score:\", accuracy_score(y_true, y_pred))\n",
    "    print(classification_report(y_true, y_pred))"
   ]
  },
  {
   "cell_type": "code",
   "execution_count": 40,
   "metadata": {},
   "outputs": [
    {
     "name": "stdout",
     "output_type": "stream",
     "text": [
      "roc_auc_score: 0.7304539828041886\n",
      "accuracy_score: 0.7992895204262878\n",
      "              precision    recall  f1-score   support\n",
      "\n",
      "           0       0.86      0.87      0.87       421\n",
      "           1       0.60      0.59      0.60       142\n",
      "\n",
      "    accuracy                           0.80       563\n",
      "   macro avg       0.73      0.73      0.73       563\n",
      "weighted avg       0.80      0.80      0.80       563\n",
      "\n"
     ]
    },
    {
     "data": {
      "image/png": "[encoded data removed]",
      "text/plain": [
       "<Figure size 432x288 with 2 Axes>"
      ]
     },
     "metadata": {
      "needs_background": "light"
     },
     "output_type": "display_data"
    }
   ],
   "source": [
    "evl_model(val_result[\"y_val\"], val_result[\"val_pred_churn\"])"
   ]
  },
  {
   "cell_type": "markdown",
   "metadata": {},
   "source": [
    "We use 27800 (the max number) but rightly spend that on 84 customers (Only about 60% predicted churning customers who will actually leave)."
   ]
  },
  {
   "cell_type": "code",
   "execution_count": 41,
   "metadata": {},
   "outputs": [],
   "source": [
    "def cal_profit(y_true, y_pred):\n",
    "    \n",
    "    profit = []\n",
    "\n",
    "    for i in range(len(y_true)):\n",
    "    \n",
    "        # predict not churn right\n",
    "        if (y_true[i] == 0) & (y_pred[i] == 0):\n",
    "            profit.append(200)\n",
    "        \n",
    "        # predict wrong\n",
    "        if (y_true[i] == 0) & (y_pred[i] == 1):\n",
    "            profit.append(-200) # should not give but give retention\n",
    "\n",
    "        if (y_true[i] == 1) & (y_pred[i] == 0):\n",
    "            profit.append(0) # should give but not\n",
    "        \n",
    "        # predit churn right\n",
    "        if (y_true[i] == 1) & (y_pred[i] == 1):\n",
    "            profit.append(0)\n",
    "            \n",
    "    return profit"
   ]
  },
  {
   "cell_type": "code",
   "execution_count": 42,
   "metadata": {},
   "outputs": [],
   "source": [
    "profit = cal_profit(val_result[\"y_val\"], val_result[\"val_pred_churn\"])"
   ]
  },
  {
   "cell_type": "code",
   "execution_count": 43,
   "metadata": {},
   "outputs": [
    {
     "data": {
      "text/plain": [
       "[<matplotlib.lines.Line2D at 0x2b22a3f4610>]"
      ]
     },
     "execution_count": 43,
     "metadata": {},
     "output_type": "execute_result"
    },
    {
     "data": {
      "image/png": "[encoded data removed]",
      "text/plain": [
       "<Figure size 432x288 with 1 Axes>"
      ]
     },
     "metadata": {
      "needs_background": "light"
     },
     "output_type": "display_data"
    }
   ],
   "source": [
    "plt.plot(np.cumsum(profit))"
   ]
  },
  {
   "cell_type": "markdown",
   "metadata": {},
   "source": [
    "__7. Can you think of something better than ranking according to the probability of churning? If so, tell us what it is and plot a profit curve according to this new ranking. Compare the results of the new ranking with the results you got in the previous question. Are the results any better? Would your recommendation change?__"
   ]
  },
  {
   "cell_type": "markdown",
   "metadata": {},
   "source": [
    "We have the actual churn in the val set. We may start with the right churn prediction. We can choose the mean probability of highest 25% people who really would leave (y_val = 1, choose last 25% sorting ascending by probability). "
   ]
  },
  {
   "cell_type": "code",
   "execution_count": 44,
   "metadata": {},
   "outputs": [],
   "source": [
    "val_result_sorted_2 = val_result[(val_result[\"y_val\"] == 1)].sort_values(by=\"y_val_pred\",ascending=True).reset_index(drop = True)"
   ]
  },
  {
   "cell_type": "code",
   "execution_count": 45,
   "metadata": {
    "scrolled": true
   },
   "outputs": [],
   "source": [
    "threashold_2 = np.mean(val_result_sorted_2[\"y_val_pred\"][-math.ceil(len(val_result)*0.25):])"
   ]
  },
  {
   "cell_type": "code",
   "execution_count": 46,
   "metadata": {},
   "outputs": [],
   "source": [
    "val_result[\"val_pred_churn_2\"] = val_result.y_val_pred.apply(lambda x: 1 if x > threashold_2 else 0)"
   ]
  },
  {
   "cell_type": "code",
   "execution_count": 47,
   "metadata": {},
   "outputs": [
    {
     "name": "stdout",
     "output_type": "stream",
     "text": [
      "roc_auc_score: 0.7271001304740558\n",
      "accuracy_score: 0.8117229129662522\n",
      "              precision    recall  f1-score   support\n",
      "\n",
      "           0       0.86      0.90      0.88       421\n",
      "           1       0.65      0.56      0.60       142\n",
      "\n",
      "    accuracy                           0.81       563\n",
      "   macro avg       0.75      0.73      0.74       563\n",
      "weighted avg       0.80      0.81      0.81       563\n",
      "\n"
     ]
    },
    {
     "data": {
      "image/png": "[encoded data removed]",
      "text/plain": [
       "<Figure size 432x288 with 2 Axes>"
      ]
     },
     "metadata": {
      "needs_background": "light"
     },
     "output_type": "display_data"
    }
   ],
   "source": [
    "evl_model(val_result[\"y_val\"], val_result[\"val_pred_churn_2\"])"
   ]
  },
  {
   "cell_type": "code",
   "execution_count": 48,
   "metadata": {},
   "outputs": [],
   "source": [
    "profit_2 = cal_profit(val_result[\"y_val\"], val_result[\"val_pred_churn_2\"])"
   ]
  },
  {
   "cell_type": "code",
   "execution_count": 49,
   "metadata": {},
   "outputs": [
    {
     "data": {
      "text/plain": [
       "62200"
      ]
     },
     "execution_count": 49,
     "metadata": {},
     "output_type": "execute_result"
    }
   ],
   "source": [
    "sum(profit)"
   ]
  },
  {
   "cell_type": "code",
   "execution_count": 50,
   "metadata": {},
   "outputs": [
    {
     "data": {
      "text/plain": [
       "67000"
      ]
     },
     "execution_count": 50,
     "metadata": {},
     "output_type": "execute_result"
    }
   ],
   "source": [
    "sum(profit_2)"
   ]
  },
  {
   "cell_type": "code",
   "execution_count": 51,
   "metadata": {
    "scrolled": true
   },
   "outputs": [
    {
     "data": {
      "text/plain": [
       "[<matplotlib.lines.Line2D at 0x2b22a4d8fa0>]"
      ]
     },
     "execution_count": 51,
     "metadata": {},
     "output_type": "execute_result"
    },
    {
     "data": {
      "image/png": "[encoded data removed]",
      "text/plain": [
       "<Figure size 432x288 with 1 Axes>"
      ]
     },
     "metadata": {
      "needs_background": "light"
     },
     "output_type": "display_data"
    }
   ],
   "source": [
    "plt.plot(np.cumsum(profit_2))"
   ]
  },
  {
   "cell_type": "markdown",
   "metadata": {},
   "source": [
    "__8. Now the you have chosen a model and a threshold, it is time to evaluate the potential impact of your solution. Use the entire training data to train the model you selected, and then use the model on the test data to decide which customers to target with a retention offer. How much money do you estimate that your recommendation would have saved if we had given the retention offer to the customers in the test data?__"
   ]
  },
  {
   "cell_type": "code",
   "execution_count": 52,
   "metadata": {},
   "outputs": [],
   "source": [
    "test_result = pd.DataFrame({\"y_test\":y_test, \"lr_probs\":lr_probs}).reset_index(drop = True)"
   ]
  },
  {
   "cell_type": "code",
   "execution_count": 53,
   "metadata": {
    "scrolled": true
   },
   "outputs": [
    {
     "data": {
      "text/html": [
       "<div>\n",
       "<style scoped>\n",
       "    .dataframe tbody tr th:only-of-type {\n",
       "        vertical-align: middle;\n",
       "    }\n",
       "\n",
       "    .dataframe tbody tr th {\n",
       "        vertical-align: top;\n",
       "    }\n",
       "\n",
       "    .dataframe thead th {\n",
       "        text-align: right;\n",
       "    }\n",
       "</style>\n",
       "<table border=\"1\" class=\"dataframe\">\n",
       "  <thead>\n",
       "    <tr style=\"text-align: right;\">\n",
       "      <th></th>\n",
       "      <th>y_test</th>\n",
       "      <th>lr_probs</th>\n",
       "    </tr>\n",
       "  </thead>\n",
       "  <tbody>\n",
       "    <tr>\n",
       "      <th>0</th>\n",
       "      <td>0</td>\n",
       "      <td>0.452067</td>\n",
       "    </tr>\n",
       "    <tr>\n",
       "      <th>1</th>\n",
       "      <td>0</td>\n",
       "      <td>0.598483</td>\n",
       "    </tr>\n",
       "    <tr>\n",
       "      <th>2</th>\n",
       "      <td>0</td>\n",
       "      <td>0.166381</td>\n",
       "    </tr>\n",
       "    <tr>\n",
       "      <th>3</th>\n",
       "      <td>0</td>\n",
       "      <td>0.156854</td>\n",
       "    </tr>\n",
       "    <tr>\n",
       "      <th>4</th>\n",
       "      <td>0</td>\n",
       "      <td>0.083819</td>\n",
       "    </tr>\n",
       "    <tr>\n",
       "      <th>...</th>\n",
       "      <td>...</td>\n",
       "      <td>...</td>\n",
       "    </tr>\n",
       "    <tr>\n",
       "      <th>1402</th>\n",
       "      <td>0</td>\n",
       "      <td>0.220679</td>\n",
       "    </tr>\n",
       "    <tr>\n",
       "      <th>1403</th>\n",
       "      <td>0</td>\n",
       "      <td>0.011388</td>\n",
       "    </tr>\n",
       "    <tr>\n",
       "      <th>1404</th>\n",
       "      <td>0</td>\n",
       "      <td>0.011801</td>\n",
       "    </tr>\n",
       "    <tr>\n",
       "      <th>1405</th>\n",
       "      <td>0</td>\n",
       "      <td>0.484502</td>\n",
       "    </tr>\n",
       "    <tr>\n",
       "      <th>1406</th>\n",
       "      <td>0</td>\n",
       "      <td>0.279783</td>\n",
       "    </tr>\n",
       "  </tbody>\n",
       "</table>\n",
       "<p>1407 rows × 2 columns</p>\n",
       "</div>"
      ],
      "text/plain": [
       "      y_test  lr_probs\n",
       "0          0  0.452067\n",
       "1          0  0.598483\n",
       "2          0  0.166381\n",
       "3          0  0.156854\n",
       "4          0  0.083819\n",
       "...      ...       ...\n",
       "1402       0  0.220679\n",
       "1403       0  0.011388\n",
       "1404       0  0.011801\n",
       "1405       0  0.484502\n",
       "1406       0  0.279783\n",
       "\n",
       "[1407 rows x 2 columns]"
      ]
     },
     "execution_count": 53,
     "metadata": {},
     "output_type": "execute_result"
    }
   ],
   "source": [
    "test_result"
   ]
  },
  {
   "cell_type": "code",
   "execution_count": 54,
   "metadata": {},
   "outputs": [],
   "source": [
    "test_result[\"pred_churn\"] = test_result.lr_probs.apply(lambda x: 1 if x > threashold_1 else 0)"
   ]
  },
  {
   "cell_type": "code",
   "execution_count": 55,
   "metadata": {
    "scrolled": false
   },
   "outputs": [
    {
     "name": "stdout",
     "output_type": "stream",
     "text": [
      "roc_auc_score: 0.73211372669835\n",
      "accuracy_score: 0.8031272210376688\n",
      "              precision    recall  f1-score   support\n",
      "\n",
      "           0       0.85      0.89      0.87      1018\n",
      "           1       0.67      0.57      0.62       389\n",
      "\n",
      "    accuracy                           0.80      1407\n",
      "   macro avg       0.76      0.73      0.74      1407\n",
      "weighted avg       0.80      0.80      0.80      1407\n",
      "\n"
     ]
    },
    {
     "data": {
      "image/png": "[encoded data removed]",
      "text/plain": [
       "<Figure size 432x288 with 2 Axes>"
      ]
     },
     "metadata": {
      "needs_background": "light"
     },
     "output_type": "display_data"
    }
   ],
   "source": [
    "evl_model(test_result[\"y_test\"], test_result[\"pred_churn\"])"
   ]
  },
  {
   "cell_type": "code",
   "execution_count": 56,
   "metadata": {},
   "outputs": [],
   "source": [
    "profit_3 = cal_profit(test_result[\"y_test\"], test_result[\"pred_churn\"])"
   ]
  },
  {
   "cell_type": "code",
   "execution_count": 57,
   "metadata": {
    "scrolled": true
   },
   "outputs": [
    {
     "data": {
      "text/plain": [
       "[<matplotlib.lines.Line2D at 0x2b22a5c0700>]"
      ]
     },
     "execution_count": 57,
     "metadata": {},
     "output_type": "execute_result"
    },
    {
     "data": {
      "image/png": "[encoded data removed]",
      "text/plain": [
       "<Figure size 432x288 with 1 Axes>"
      ]
     },
     "metadata": {
      "needs_background": "light"
     },
     "output_type": "display_data"
    }
   ],
   "source": [
    "plt.plot(np.cumsum(profit_3))"
   ]
  },
  {
   "cell_type": "code",
   "execution_count": 58,
   "metadata": {},
   "outputs": [
    {
     "data": {
      "text/plain": [
       "159200"
      ]
     },
     "execution_count": 58,
     "metadata": {},
     "output_type": "execute_result"
    }
   ],
   "source": [
    "sum(profit_3)"
   ]
  },
  {
   "cell_type": "code",
   "execution_count": 59,
   "metadata": {},
   "outputs": [
    {
     "name": "stdout",
     "output_type": "stream",
     "text": [
      "The length of test set: 1407 The retention offer: 334 book money saved: 214600\n"
     ]
    }
   ],
   "source": [
    "print(\"The length of test set:\", len(y_test), \"The retention offer:\", sum(test_result[\"pred_churn\"]), \"book money saved:\", 200*len(y_test) - 200*sum(test_result[\"pred_churn\"]))"
   ]
  },
  {
   "cell_type": "code",
   "execution_count": 60,
   "metadata": {},
   "outputs": [],
   "source": [
    "test_result[\"pred_churn_2\"] = test_result.lr_probs.apply(lambda x: 1 if x > threashold_2 else 0)"
   ]
  },
  {
   "cell_type": "code",
   "execution_count": 61,
   "metadata": {},
   "outputs": [
    {
     "name": "stdout",
     "output_type": "stream",
     "text": [
      "roc_auc_score: 0.7272337008398948\n",
      "accuracy_score: 0.8052594171997157\n",
      "              precision    recall  f1-score   support\n",
      "\n",
      "           0       0.84      0.90      0.87      1018\n",
      "           1       0.68      0.55      0.61       389\n",
      "\n",
      "    accuracy                           0.81      1407\n",
      "   macro avg       0.76      0.73      0.74      1407\n",
      "weighted avg       0.80      0.81      0.80      1407\n",
      "\n"
     ]
    },
    {
     "data": {
      "image/png": "[encoded data removed]",
      "text/plain": [
       "<Figure size 432x288 with 2 Axes>"
      ]
     },
     "metadata": {
      "needs_background": "light"
     },
     "output_type": "display_data"
    }
   ],
   "source": [
    "evl_model(test_result[\"y_test\"], test_result[\"pred_churn_2\"])"
   ]
  },
  {
   "cell_type": "code",
   "execution_count": 62,
   "metadata": {},
   "outputs": [],
   "source": [
    "profit_4 = cal_profit(test_result[\"y_test\"], test_result[\"pred_churn_2\"])"
   ]
  },
  {
   "cell_type": "code",
   "execution_count": 63,
   "metadata": {},
   "outputs": [
    {
     "data": {
      "text/plain": [
       "[<matplotlib.lines.Line2D at 0x2b22a6abe50>]"
      ]
     },
     "execution_count": 63,
     "metadata": {},
     "output_type": "execute_result"
    },
    {
     "data": {
      "image/png": "[encoded data removed]",
      "text/plain": [
       "<Figure size 432x288 with 1 Axes>"
      ]
     },
     "metadata": {
      "needs_background": "light"
     },
     "output_type": "display_data"
    }
   ],
   "source": [
    "plt.plot(np.cumsum(profit_4))"
   ]
  },
  {
   "cell_type": "code",
   "execution_count": 66,
   "metadata": {},
   "outputs": [
    {
     "data": {
      "text/plain": [
       "163600"
      ]
     },
     "execution_count": 66,
     "metadata": {},
     "output_type": "execute_result"
    }
   ],
   "source": [
    "sum(profit_4)"
   ]
  },
  {
   "cell_type": "code",
   "execution_count": 65,
   "metadata": {},
   "outputs": [
    {
     "name": "stdout",
     "output_type": "stream",
     "text": [
      "The length of test set: 1407 The retention offer: 315 book money saved: 218400\n"
     ]
    }
   ],
   "source": [
    "print(\"The length of test set:\", len(y_test), \"The retention offer:\", sum(test_result[\"pred_churn_2\"]), \"book money saved:\", 200*len(y_test) - 200*sum(test_result[\"pred_churn_2\"]))"
   ]
  },
  {
   "cell_type": "markdown",
   "metadata": {},
   "source": [
    "As we can see from the test set, we target the same number of churning customers while saving more money use my threashold_2 rather than ranking probability. The money saved directly is 218400. The money saved efficiently would be 163600 (we know who should be given retention but not can't be calculated as a money-saving and who should not be given retention but given are a loss.)"
   ]
  }
 ],
 "metadata": {
  "kernelspec": {
   "display_name": "Python 3",
   "language": "python",
   "name": "python3"
  },
  "language_info": {
   "codemirror_mode": {
    "name": "ipython",
    "version": 3
   },
   "file_extension": ".py",
   "mimetype": "text/x-python",
   "name": "python",
   "nbconvert_exporter": "python",
   "pygments_lexer": "ipython3",
   "version": "3.8.5"
  }
 },
 "nbformat": 4,
 "nbformat_minor": 2
}
